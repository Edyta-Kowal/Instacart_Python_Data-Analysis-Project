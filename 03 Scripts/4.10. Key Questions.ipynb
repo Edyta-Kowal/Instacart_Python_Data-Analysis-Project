{
 "cells": [
  {
   "cell_type": "markdown",
   "metadata": {},
   "source": [
    "# 4.10. KEY QUESTIONS"
   ]
  },
  {
   "cell_type": "markdown",
   "metadata": {},
   "source": [
    "## TABLE OF CONTENTS: \n",
    "\n",
    "### 1. Importing data\n",
    "### 2. Are there particular times of the day when people spend the most money?\n",
    "### 3. Price range groupings\n",
    "### 4. Are there certain types of products that are more popular than others? \n",
    "### 5. Different types of customers in their system and how their ordering behaviors differ\n",
    "#### a) Ordering habits based on a customer’s loyalty status\n",
    "#### b) Ordering habits based on a customer’s region\n",
    "#### c) Is there a connection between age and family status in terms of ordering habits?\n",
    "#### d) What different classifications does the demographic information suggest?\n",
    "\n"
   ]
  },
  {
   "cell_type": "markdown",
   "metadata": {},
   "source": [
    "## Importing libraries"
   ]
  },
  {
   "cell_type": "code",
   "execution_count": 17,
   "metadata": {},
   "outputs": [],
   "source": [
    "# Import libraries\n",
    "\n",
    "import pandas as pd\n",
    "import numpy as np\n",
    "import os\n",
    "import matplotlib.pyplot as plt\n",
    "import seaborn as sns\n",
    "import scipy"
   ]
  },
  {
   "cell_type": "markdown",
   "metadata": {},
   "source": [
    "## 1. Importing data"
   ]
  },
  {
   "cell_type": "code",
   "execution_count": 18,
   "metadata": {},
   "outputs": [],
   "source": [
    "# Create folder path\n",
    "\n",
    "path = r'/Users/edytakowal/Desktop/CareerFoundry/2. Data Immersion/4. Python Fundamentals/ Instacart Basket Analysis'"
   ]
  },
  {
   "cell_type": "code",
   "execution_count": 19,
   "metadata": {},
   "outputs": [],
   "source": [
    "# Import the final_df.pkl dataframe from the csv file\n",
    "\n",
    "df = pd.read_pickle(os.path.join(path, '02 Data', 'Prepared Data', 'active_customers.pkl'))"
   ]
  },
  {
   "cell_type": "code",
   "execution_count": 20,
   "metadata": {},
   "outputs": [
    {
     "data": {
      "text/plain": [
       "Index(['user_id', 'gender', 'state', 'age', 'joining_date', 'n_dependants',\n",
       "       'fam_status', 'income', 'product_id', 'product_name', 'aisle_id',\n",
       "       'department_id', 'prices', 'order_id', 'order_number',\n",
       "       'orders_day_of_week', 'order_hour', 'days_since_prior_order',\n",
       "       'add_to_cart_order', 'reordered', 'max_order', 'loyalty_flag',\n",
       "       'avg_product_price', 'spending_flag', 'median_order_freq', 'freq_flag',\n",
       "       'region', 'activity', 'age_group', 'age_group_name', 'income_category',\n",
       "       'household_type', 'household_class&type', 'department', 'day'],\n",
       "      dtype='object')"
      ]
     },
     "execution_count": 20,
     "metadata": {},
     "output_type": "execute_result"
    }
   ],
   "source": [
    "# Check columns of df\n",
    "\n",
    "df.columns"
   ]
  },
  {
   "cell_type": "markdown",
   "metadata": {},
   "source": [
    "## 2. Are there particular times of the day when people spend the most money?"
   ]
  },
  {
   "cell_type": "code",
   "execution_count": 22,
   "metadata": {},
   "outputs": [
    {
     "ename": "KeyError",
     "evalue": "\"None of [Index(['monday', 'tuesday', 'wednesday', 'thursday', 'friday', 'saturday',\\n       'sunday'],\\n      dtype='object')] are in the [index]\"",
     "output_type": "error",
     "traceback": [
      "\u001b[0;31m---------------------------------------------------------------------------\u001b[0m",
      "\u001b[0;31mKeyError\u001b[0m                                  Traceback (most recent call last)",
      "\u001b[0;32m<ipython-input-22-accda53b2b0d>\u001b[0m in \u001b[0;36m<module>\u001b[0;34m\u001b[0m\n\u001b[1;32m      3\u001b[0m \u001b[0mcustom_order\u001b[0m \u001b[0;34m=\u001b[0m \u001b[0;34m[\u001b[0m\u001b[0;34m'monday'\u001b[0m\u001b[0;34m,\u001b[0m \u001b[0;34m'tuesday'\u001b[0m\u001b[0;34m,\u001b[0m \u001b[0;34m'wednesday'\u001b[0m\u001b[0;34m,\u001b[0m \u001b[0;34m'thursday'\u001b[0m\u001b[0;34m,\u001b[0m \u001b[0;34m'friday'\u001b[0m\u001b[0;34m,\u001b[0m \u001b[0;34m'saturday'\u001b[0m\u001b[0;34m,\u001b[0m \u001b[0;34m'sunday'\u001b[0m\u001b[0;34m]\u001b[0m\u001b[0;34m\u001b[0m\u001b[0;34m\u001b[0m\u001b[0m\n\u001b[1;32m      4\u001b[0m \u001b[0;34m\u001b[0m\u001b[0m\n\u001b[0;32m----> 5\u001b[0;31m \u001b[0mords_dist\u001b[0m \u001b[0;34m=\u001b[0m \u001b[0mdf\u001b[0m\u001b[0;34m[\u001b[0m\u001b[0;34m'day'\u001b[0m\u001b[0;34m]\u001b[0m\u001b[0;34m.\u001b[0m\u001b[0mvalue_counts\u001b[0m\u001b[0;34m(\u001b[0m\u001b[0;34m)\u001b[0m\u001b[0;34m.\u001b[0m\u001b[0mloc\u001b[0m\u001b[0;34m[\u001b[0m\u001b[0mcustom_order\u001b[0m\u001b[0;34m]\u001b[0m\u001b[0;34m.\u001b[0m\u001b[0mplot\u001b[0m\u001b[0;34m.\u001b[0m\u001b[0mbar\u001b[0m\u001b[0;34m(\u001b[0m\u001b[0mrot\u001b[0m\u001b[0;34m=\u001b[0m\u001b[0;36m30\u001b[0m\u001b[0;34m,\u001b[0m \u001b[0mcolor\u001b[0m\u001b[0;34m=\u001b[0m\u001b[0;34m'#d4d5d7'\u001b[0m\u001b[0;34m,\u001b[0m \u001b[0mfigsize\u001b[0m\u001b[0;34m=\u001b[0m\u001b[0;34m(\u001b[0m\u001b[0;36m7\u001b[0m\u001b[0;34m,\u001b[0m \u001b[0;36m6\u001b[0m\u001b[0;34m)\u001b[0m\u001b[0;34m,\u001b[0m \u001b[0mwidth\u001b[0m\u001b[0;34m=\u001b[0m \u001b[0;36m0.9\u001b[0m\u001b[0;34m)\u001b[0m\u001b[0;34m\u001b[0m\u001b[0;34m\u001b[0m\u001b[0m\n\u001b[0m\u001b[1;32m      6\u001b[0m \u001b[0mords_dist\u001b[0m\u001b[0;34m.\u001b[0m\u001b[0mset_facecolor\u001b[0m\u001b[0;34m(\u001b[0m\u001b[0;34m'none'\u001b[0m\u001b[0;34m)\u001b[0m\u001b[0;34m\u001b[0m\u001b[0;34m\u001b[0m\u001b[0m\n\u001b[1;32m      7\u001b[0m \u001b[0mplt\u001b[0m\u001b[0;34m.\u001b[0m\u001b[0mtitle\u001b[0m\u001b[0;34m(\u001b[0m\u001b[0;34m'Distribution of orders by day of the week'\u001b[0m\u001b[0;34m,\u001b[0m \u001b[0mfontsize\u001b[0m\u001b[0;34m=\u001b[0m\u001b[0;36m16\u001b[0m\u001b[0;34m)\u001b[0m\u001b[0;34m\u001b[0m\u001b[0;34m\u001b[0m\u001b[0m\n",
      "\u001b[0;32m~/opt/anaconda3/lib/python3.8/site-packages/pandas/core/indexing.py\u001b[0m in \u001b[0;36m__getitem__\u001b[0;34m(self, key)\u001b[0m\n\u001b[1;32m    877\u001b[0m \u001b[0;34m\u001b[0m\u001b[0m\n\u001b[1;32m    878\u001b[0m             \u001b[0mmaybe_callable\u001b[0m \u001b[0;34m=\u001b[0m \u001b[0mcom\u001b[0m\u001b[0;34m.\u001b[0m\u001b[0mapply_if_callable\u001b[0m\u001b[0;34m(\u001b[0m\u001b[0mkey\u001b[0m\u001b[0;34m,\u001b[0m \u001b[0mself\u001b[0m\u001b[0;34m.\u001b[0m\u001b[0mobj\u001b[0m\u001b[0;34m)\u001b[0m\u001b[0;34m\u001b[0m\u001b[0;34m\u001b[0m\u001b[0m\n\u001b[0;32m--> 879\u001b[0;31m             \u001b[0;32mreturn\u001b[0m \u001b[0mself\u001b[0m\u001b[0;34m.\u001b[0m\u001b[0m_getitem_axis\u001b[0m\u001b[0;34m(\u001b[0m\u001b[0mmaybe_callable\u001b[0m\u001b[0;34m,\u001b[0m \u001b[0maxis\u001b[0m\u001b[0;34m=\u001b[0m\u001b[0maxis\u001b[0m\u001b[0;34m)\u001b[0m\u001b[0;34m\u001b[0m\u001b[0;34m\u001b[0m\u001b[0m\n\u001b[0m\u001b[1;32m    880\u001b[0m \u001b[0;34m\u001b[0m\u001b[0m\n\u001b[1;32m    881\u001b[0m     \u001b[0;32mdef\u001b[0m \u001b[0m_is_scalar_access\u001b[0m\u001b[0;34m(\u001b[0m\u001b[0mself\u001b[0m\u001b[0;34m,\u001b[0m \u001b[0mkey\u001b[0m\u001b[0;34m:\u001b[0m \u001b[0mTuple\u001b[0m\u001b[0;34m)\u001b[0m\u001b[0;34m:\u001b[0m\u001b[0;34m\u001b[0m\u001b[0;34m\u001b[0m\u001b[0m\n",
      "\u001b[0;32m~/opt/anaconda3/lib/python3.8/site-packages/pandas/core/indexing.py\u001b[0m in \u001b[0;36m_getitem_axis\u001b[0;34m(self, key, axis)\u001b[0m\n\u001b[1;32m   1097\u001b[0m                     \u001b[0;32mraise\u001b[0m \u001b[0mValueError\u001b[0m\u001b[0;34m(\u001b[0m\u001b[0;34m\"Cannot index with multidimensional key\"\u001b[0m\u001b[0;34m)\u001b[0m\u001b[0;34m\u001b[0m\u001b[0;34m\u001b[0m\u001b[0m\n\u001b[1;32m   1098\u001b[0m \u001b[0;34m\u001b[0m\u001b[0m\n\u001b[0;32m-> 1099\u001b[0;31m                 \u001b[0;32mreturn\u001b[0m \u001b[0mself\u001b[0m\u001b[0;34m.\u001b[0m\u001b[0m_getitem_iterable\u001b[0m\u001b[0;34m(\u001b[0m\u001b[0mkey\u001b[0m\u001b[0;34m,\u001b[0m \u001b[0maxis\u001b[0m\u001b[0;34m=\u001b[0m\u001b[0maxis\u001b[0m\u001b[0;34m)\u001b[0m\u001b[0;34m\u001b[0m\u001b[0;34m\u001b[0m\u001b[0m\n\u001b[0m\u001b[1;32m   1100\u001b[0m \u001b[0;34m\u001b[0m\u001b[0m\n\u001b[1;32m   1101\u001b[0m             \u001b[0;31m# nested tuple slicing\u001b[0m\u001b[0;34m\u001b[0m\u001b[0;34m\u001b[0m\u001b[0;34m\u001b[0m\u001b[0m\n",
      "\u001b[0;32m~/opt/anaconda3/lib/python3.8/site-packages/pandas/core/indexing.py\u001b[0m in \u001b[0;36m_getitem_iterable\u001b[0;34m(self, key, axis)\u001b[0m\n\u001b[1;32m   1035\u001b[0m \u001b[0;34m\u001b[0m\u001b[0m\n\u001b[1;32m   1036\u001b[0m         \u001b[0;31m# A collection of keys\u001b[0m\u001b[0;34m\u001b[0m\u001b[0;34m\u001b[0m\u001b[0;34m\u001b[0m\u001b[0m\n\u001b[0;32m-> 1037\u001b[0;31m         \u001b[0mkeyarr\u001b[0m\u001b[0;34m,\u001b[0m \u001b[0mindexer\u001b[0m \u001b[0;34m=\u001b[0m \u001b[0mself\u001b[0m\u001b[0;34m.\u001b[0m\u001b[0m_get_listlike_indexer\u001b[0m\u001b[0;34m(\u001b[0m\u001b[0mkey\u001b[0m\u001b[0;34m,\u001b[0m \u001b[0maxis\u001b[0m\u001b[0;34m,\u001b[0m \u001b[0mraise_missing\u001b[0m\u001b[0;34m=\u001b[0m\u001b[0;32mFalse\u001b[0m\u001b[0;34m)\u001b[0m\u001b[0;34m\u001b[0m\u001b[0;34m\u001b[0m\u001b[0m\n\u001b[0m\u001b[1;32m   1038\u001b[0m         return self.obj._reindex_with_indexers(\n\u001b[1;32m   1039\u001b[0m             \u001b[0;34m{\u001b[0m\u001b[0maxis\u001b[0m\u001b[0;34m:\u001b[0m \u001b[0;34m[\u001b[0m\u001b[0mkeyarr\u001b[0m\u001b[0;34m,\u001b[0m \u001b[0mindexer\u001b[0m\u001b[0;34m]\u001b[0m\u001b[0;34m}\u001b[0m\u001b[0;34m,\u001b[0m \u001b[0mcopy\u001b[0m\u001b[0;34m=\u001b[0m\u001b[0;32mTrue\u001b[0m\u001b[0;34m,\u001b[0m \u001b[0mallow_dups\u001b[0m\u001b[0;34m=\u001b[0m\u001b[0;32mTrue\u001b[0m\u001b[0;34m\u001b[0m\u001b[0;34m\u001b[0m\u001b[0m\n",
      "\u001b[0;32m~/opt/anaconda3/lib/python3.8/site-packages/pandas/core/indexing.py\u001b[0m in \u001b[0;36m_get_listlike_indexer\u001b[0;34m(self, key, axis, raise_missing)\u001b[0m\n\u001b[1;32m   1252\u001b[0m             \u001b[0mkeyarr\u001b[0m\u001b[0;34m,\u001b[0m \u001b[0mindexer\u001b[0m\u001b[0;34m,\u001b[0m \u001b[0mnew_indexer\u001b[0m \u001b[0;34m=\u001b[0m \u001b[0max\u001b[0m\u001b[0;34m.\u001b[0m\u001b[0m_reindex_non_unique\u001b[0m\u001b[0;34m(\u001b[0m\u001b[0mkeyarr\u001b[0m\u001b[0;34m)\u001b[0m\u001b[0;34m\u001b[0m\u001b[0;34m\u001b[0m\u001b[0m\n\u001b[1;32m   1253\u001b[0m \u001b[0;34m\u001b[0m\u001b[0m\n\u001b[0;32m-> 1254\u001b[0;31m         \u001b[0mself\u001b[0m\u001b[0;34m.\u001b[0m\u001b[0m_validate_read_indexer\u001b[0m\u001b[0;34m(\u001b[0m\u001b[0mkeyarr\u001b[0m\u001b[0;34m,\u001b[0m \u001b[0mindexer\u001b[0m\u001b[0;34m,\u001b[0m \u001b[0maxis\u001b[0m\u001b[0;34m,\u001b[0m \u001b[0mraise_missing\u001b[0m\u001b[0;34m=\u001b[0m\u001b[0mraise_missing\u001b[0m\u001b[0;34m)\u001b[0m\u001b[0;34m\u001b[0m\u001b[0;34m\u001b[0m\u001b[0m\n\u001b[0m\u001b[1;32m   1255\u001b[0m         \u001b[0;32mreturn\u001b[0m \u001b[0mkeyarr\u001b[0m\u001b[0;34m,\u001b[0m \u001b[0mindexer\u001b[0m\u001b[0;34m\u001b[0m\u001b[0;34m\u001b[0m\u001b[0m\n\u001b[1;32m   1256\u001b[0m \u001b[0;34m\u001b[0m\u001b[0m\n",
      "\u001b[0;32m~/opt/anaconda3/lib/python3.8/site-packages/pandas/core/indexing.py\u001b[0m in \u001b[0;36m_validate_read_indexer\u001b[0;34m(self, key, indexer, axis, raise_missing)\u001b[0m\n\u001b[1;32m   1296\u001b[0m             \u001b[0;32mif\u001b[0m \u001b[0mmissing\u001b[0m \u001b[0;34m==\u001b[0m \u001b[0mlen\u001b[0m\u001b[0;34m(\u001b[0m\u001b[0mindexer\u001b[0m\u001b[0;34m)\u001b[0m\u001b[0;34m:\u001b[0m\u001b[0;34m\u001b[0m\u001b[0;34m\u001b[0m\u001b[0m\n\u001b[1;32m   1297\u001b[0m                 \u001b[0maxis_name\u001b[0m \u001b[0;34m=\u001b[0m \u001b[0mself\u001b[0m\u001b[0;34m.\u001b[0m\u001b[0mobj\u001b[0m\u001b[0;34m.\u001b[0m\u001b[0m_get_axis_name\u001b[0m\u001b[0;34m(\u001b[0m\u001b[0maxis\u001b[0m\u001b[0;34m)\u001b[0m\u001b[0;34m\u001b[0m\u001b[0;34m\u001b[0m\u001b[0m\n\u001b[0;32m-> 1298\u001b[0;31m                 \u001b[0;32mraise\u001b[0m \u001b[0mKeyError\u001b[0m\u001b[0;34m(\u001b[0m\u001b[0;34mf\"None of [{key}] are in the [{axis_name}]\"\u001b[0m\u001b[0;34m)\u001b[0m\u001b[0;34m\u001b[0m\u001b[0;34m\u001b[0m\u001b[0m\n\u001b[0m\u001b[1;32m   1299\u001b[0m \u001b[0;34m\u001b[0m\u001b[0m\n\u001b[1;32m   1300\u001b[0m             \u001b[0;31m# We (temporarily) allow for some missing keys with .loc, except in\u001b[0m\u001b[0;34m\u001b[0m\u001b[0;34m\u001b[0m\u001b[0;34m\u001b[0m\u001b[0m\n",
      "\u001b[0;31mKeyError\u001b[0m: \"None of [Index(['monday', 'tuesday', 'wednesday', 'thursday', 'friday', 'saturday',\\n       'sunday'],\\n      dtype='object')] are in the [index]\""
     ]
    }
   ],
   "source": [
    "# Create the bar chart with the custom order of weekdays\n",
    "\n",
    "custom_order = ['monday', 'tuesday', 'wednesday', 'thursday', 'friday', 'saturday', 'sunday']\n",
    "\n",
    "ords_dist = df['day'].value_counts().loc[custom_order].plot.bar(rot=30, color='#d4d5d7', figsize=(7, 6), width= 0.9)\n",
    "ords_dist.set_facecolor('none')\n",
    "plt.title('Distribution of orders by day of the week', fontsize=16)\n",
    "plt.show()"
   ]
  },
  {
   "cell_type": "code",
   "execution_count": null,
   "metadata": {},
   "outputs": [],
   "source": [
    "# Export chart outside of Jupyter in the form of an image file\n",
    "\n",
    "ords_dist.figure.savefig(os.path.join(path, '04 Analysis','Visualizations', 'ords_dist.png'))"
   ]
  },
  {
   "cell_type": "code",
   "execution_count": null,
   "metadata": {},
   "outputs": [],
   "source": [
    "# Frequency of orders by hour\n",
    "\n",
    "hour = df.groupby('order_hour').order_id.nunique()"
   ]
  },
  {
   "cell_type": "code",
   "execution_count": null,
   "metadata": {},
   "outputs": [],
   "source": [
    "# Check the output\n",
    "\n",
    "hour"
   ]
  },
  {
   "cell_type": "markdown",
   "metadata": {},
   "source": [
    "## 3. Instacart has a lot of products with different price tags. Marketing and sales want to use simpler price range groupings to help direct their efforts"
   ]
  },
  {
   "cell_type": "code",
   "execution_count": null,
   "metadata": {},
   "outputs": [],
   "source": [
    "# Create a histogram to shows distribution of product prices\n",
    "\n",
    "pri_his = df['prices'].plot.hist(bins = 70, color = '#a8a1bb', figsize = (6,6))\n",
    "pri_his.set_facecolor('none')\n",
    "pri_his.set_xlabel('price')\n",
    "plt.title('Distribution of product prices', fontsize = 16)"
   ]
  },
  {
   "cell_type": "code",
   "execution_count": null,
   "metadata": {},
   "outputs": [],
   "source": [
    "# Export chart outside of Jupyter in the form of an image file\n",
    "\n",
    "pri_his.figure.savefig(os.path.join(path, '04 Analysis','Visualizations', 'pri_his.png'))"
   ]
  },
  {
   "cell_type": "code",
   "execution_count": null,
   "metadata": {},
   "outputs": [],
   "source": [
    "# Count total number of products available by department\n",
    "\n",
    "dep_prod = df.groupby('department').product_id.nunique()"
   ]
  },
  {
   "cell_type": "code",
   "execution_count": null,
   "metadata": {},
   "outputs": [],
   "source": [
    "# Check the output\n",
    "\n",
    "dep_prod"
   ]
  },
  {
   "cell_type": "code",
   "execution_count": null,
   "metadata": {},
   "outputs": [],
   "source": [
    "# Export tabel as Excel file\n",
    "\n",
    "dep_prod.to_excel(os.path.join(path, '02 Data', 'Prepared Data', 'dep_prod.xlsx'))"
   ]
  },
  {
   "cell_type": "code",
   "execution_count": null,
   "metadata": {},
   "outputs": [],
   "source": [
    "# Create a new column which alocates products into price ranges\n",
    "\n",
    "df.loc[df['prices'] <= 5, 'price_range'] = 'Low-range product'\n",
    "\n",
    "df.loc[(df['prices'] > 5) & (df['prices'] <= 15), 'price_range'] = 'Mid-range product'\n",
    "\n",
    "df.loc[(df['prices'] > 15), 'price_range'] = 'High range product'\n"
   ]
  },
  {
   "cell_type": "code",
   "execution_count": null,
   "metadata": {},
   "outputs": [],
   "source": [
    "# Check first 5 rows \n",
    "\n",
    "df.head()"
   ]
  },
  {
   "cell_type": "code",
   "execution_count": null,
   "metadata": {},
   "outputs": [],
   "source": [
    "# Check max value of prices column\n",
    "\n",
    "df['prices'].max()"
   ]
  },
  {
   "cell_type": "code",
   "execution_count": null,
   "metadata": {},
   "outputs": [],
   "source": [
    "# Create a variable that stores count of unique product_id grouped by price range\n",
    "\n",
    "price = df.groupby('price_range').product_id.nunique()"
   ]
  },
  {
   "cell_type": "code",
   "execution_count": null,
   "metadata": {},
   "outputs": [],
   "source": [
    "# Check the output\n",
    "\n",
    "price"
   ]
  },
  {
   "cell_type": "code",
   "execution_count": null,
   "metadata": {},
   "outputs": [],
   "source": [
    "# Create a chart \n",
    "\n",
    "price_pie = price.plot.pie(ylabel = (''), autopct = '%.0f%%', fontsize = 12, figsize = (10, 6))\n",
    "\n",
    "plt.title('Products by price range', fontsize = 16)"
   ]
  },
  {
   "cell_type": "code",
   "execution_count": null,
   "metadata": {},
   "outputs": [],
   "source": [
    "# Export chart outside of Jupyter in the form of an image file\n",
    "\n",
    "price_pie.figure.savefig(os.path.join(path, '04 Analysis','Visualizations', 'price_pie.png'))"
   ]
  },
  {
   "cell_type": "code",
   "execution_count": null,
   "metadata": {},
   "outputs": [],
   "source": [
    "# Create a variable that stores count of unique product_id grouped by price range\n",
    "\n",
    "order_range = df.groupby('price_range').order_id.nunique()\n",
    "order_range"
   ]
  },
  {
   "cell_type": "code",
   "execution_count": null,
   "metadata": {},
   "outputs": [],
   "source": [
    "# Create a chart \n",
    "colors = ['#d4d5d7', '#8ca9ad', '#a8a1bb']\n",
    "order_range_pie = order_range.plot.pie(ylabel = (''), autopct = '%.0f%%', fontsize = 12, figsize = (10, 6), colors = colors)\n",
    "\n",
    "plt.title('Number of products sold by price category', fontsize = 16)"
   ]
  },
  {
   "cell_type": "code",
   "execution_count": null,
   "metadata": {},
   "outputs": [],
   "source": [
    "# Export chart outside of Jupyter in the form of an image file\n",
    "\n",
    "order_range_pie.figure.savefig(os.path.join(path, '04 Analysis','Visualizations', 'order_range_pie.png'))"
   ]
  },
  {
   "cell_type": "code",
   "execution_count": null,
   "metadata": {},
   "outputs": [],
   "source": [
    "# Create a pivot table, count of products by departments and price range\n",
    "\n",
    "price_dep = pd.crosstab(index = df['department'], \n",
    "                                    columns = df['price_range'], \n",
    "                                    values = df['product_id'], \n",
    "                                    aggfunc = 'nunique')"
   ]
  },
  {
   "cell_type": "code",
   "execution_count": null,
   "metadata": {},
   "outputs": [],
   "source": [
    "# Check the output\n",
    "\n",
    "price_dep"
   ]
  },
  {
   "cell_type": "code",
   "execution_count": null,
   "metadata": {},
   "outputs": [],
   "source": [
    "# Create a chart\n",
    "\n",
    "price_dep_bar = price_dep.plot.barh(xlabel = (''), stacked = True, figsize=(20,10))\n",
    "\n",
    "plt.title('Count of products by price ranges and by department', fontsize = 16)"
   ]
  },
  {
   "cell_type": "code",
   "execution_count": null,
   "metadata": {},
   "outputs": [],
   "source": [
    "# Export chart outside of Jupyter in the form of an image file\n",
    "\n",
    "price_dep_bar.figure.savefig(os.path.join(path, '04 Analysis','Visualizations', 'price_dep_bar.png'))"
   ]
  },
  {
   "cell_type": "markdown",
   "metadata": {},
   "source": [
    "## 4. Are there certain types of products that are more popular than others? "
   ]
  },
  {
   "cell_type": "code",
   "execution_count": 24,
   "metadata": {},
   "outputs": [],
   "source": [
    "# Create a variable that stores counts products purchased\n",
    "\n",
    "fav_prods = df.groupby('product_name').order_id.count()"
   ]
  },
  {
   "cell_type": "code",
   "execution_count": 25,
   "metadata": {},
   "outputs": [],
   "source": [
    "# Sort valeus in descending order \n",
    "\n",
    "fav_prods = fav_prods.loc[fav_prods.sort_values(ascending=False).index]"
   ]
  },
  {
   "cell_type": "code",
   "execution_count": 26,
   "metadata": {},
   "outputs": [
    {
     "data": {
      "text/plain": [
       "product_name\n",
       "Banana                      453164\n",
       "Bag of Organic Bananas      366403\n",
       "Organic Strawberries        255988\n",
       "Organic Baby Spinach        231772\n",
       "Organic Hass Avocado        206799\n",
       "Organic Avocado             168267\n",
       "Large Lemon                 145397\n",
       "Strawberries                136330\n",
       "Limes                       134751\n",
       "Organic Whole Milk          133514\n",
       "Organic Raspberries         132945\n",
       "Organic Yellow Onion        109219\n",
       "Organic Garlic              105639\n",
       "Organic Zucchini            100664\n",
       "Organic Blueberries          95637\n",
       "Cucumber Kirby               92612\n",
       "Organic Fuji Apple           85941\n",
       "Organic Lemon                84608\n",
       "Apple Honeycrisp Organic     82349\n",
       "Organic Grape Tomatoes       80756\n",
       "Seedless Red Grapes          79395\n",
       "Organic Cucumber             77499\n",
       "Honeycrisp Apple             76765\n",
       "Organic Half & Half          73985\n",
       "Organic Baby Carrots         73777\n",
       "Name: order_id, dtype: int64"
      ]
     },
     "execution_count": 26,
     "metadata": {},
     "output_type": "execute_result"
    }
   ],
   "source": [
    "# Check the output, forst 25 rows \n",
    "\n",
    "fav_prods.head(25)"
   ]
  },
  {
   "cell_type": "code",
   "execution_count": 27,
   "metadata": {},
   "outputs": [],
   "source": [
    "# Create a variable that stores counts of products purchased by departament\n",
    "\n",
    "fav_dep = df['department'].value_counts(dropna = False)"
   ]
  },
  {
   "cell_type": "code",
   "execution_count": 28,
   "metadata": {},
   "outputs": [
    {
     "data": {
      "text/plain": [
       "produce            9079273\n",
       "dairy eggs         5177182\n",
       "snacks             2766406\n",
       "beverages          2571901\n",
       "frozen             2121731\n",
       "pantry             1782705\n",
       "bakery             1120828\n",
       "canned goods       1012074\n",
       "deli               1003834\n",
       "dry goods pasta     822136\n",
       "household           699857\n",
       "meat seafood        674781\n",
       "breakfast           670850\n",
       "personal care       424306\n",
       "babies              410392\n",
       "international       255991\n",
       "alcohol             144627\n",
       "pets                 93060\n",
       "missing              64768\n",
       "other                34411\n",
       "bulk                 33451\n",
       "Name: department, dtype: int64"
      ]
     },
     "execution_count": 28,
     "metadata": {},
     "output_type": "execute_result"
    }
   ],
   "source": [
    "# Check the output \n",
    "\n",
    "fav_dep"
   ]
  },
  {
   "cell_type": "code",
   "execution_count": 33,
   "metadata": {},
   "outputs": [
    {
     "data": {
      "image/png": "[encoded data removed]",
      "text/plain": [
       "<Figure size 720x720 with 1 Axes>"
      ]
     },
     "metadata": {
      "needs_background": "light"
     },
     "output_type": "display_data"
    }
   ],
   "source": [
    "# Sort the df in ascending order\n",
    "fav_dep = fav_dep.sort_values(ascending=True)\n",
    "\n",
    "# Create the horizontal bar chart\n",
    "fav_dep_bar = fav_dep.plot.barh(xlabel='', color='#a6a6a6', figsize=(10, 10), width=0.9)\n",
    "fav_dep_bar.set_facecolor('none')\n",
    "plt.title('Departments by frequency of product orders', fontsize=16)\n",
    "\n",
    "# Calculate the total sum of values\n",
    "total_sum = fav_dep.sum()\n",
    "\n",
    "# Add percentage labels to the end of each bar without decimal places\n",
    "for i, v in enumerate(fav_dep):\n",
    "    percentage = (v / total_sum) * 100\n",
    "    plt.text(v + 0.01, i, f'{percentage:.2f}%', color='black', fontsize=12, va='center')\n",
    "\n",
    "plt.show()"
   ]
  },
  {
   "cell_type": "code",
   "execution_count": 34,
   "metadata": {},
   "outputs": [],
   "source": [
    "# Export chart outside of Jupyter in the form of an image file\n",
    "\n",
    "fav_dep_bar.figure.savefig(os.path.join(path, '04 Analysis','Visualizations', 'fav_dep_bar.png'))"
   ]
  },
  {
   "cell_type": "code",
   "execution_count": 32,
   "metadata": {},
   "outputs": [],
   "source": [
    "# Create a variable that stores average price of products by department\n",
    "\n",
    "mean_dep = df.groupby('department').prices.mean()"
   ]
  },
  {
   "cell_type": "code",
   "execution_count": 33,
   "metadata": {},
   "outputs": [
    {
     "data": {
      "text/plain": [
       "department\n",
       "alcohol             8.150699\n",
       "babies              7.634399\n",
       "bakery              7.857482\n",
       "beverages           7.682556\n",
       "breakfast           8.031647\n",
       "bulk                8.346919\n",
       "canned goods        7.546660\n",
       "dairy eggs          8.336372\n",
       "deli                7.783347\n",
       "dry goods pasta     7.349370\n",
       "frozen              7.733725\n",
       "household           7.379951\n",
       "international       7.678797\n",
       "meat seafood       16.300034\n",
       "missing             8.660655\n",
       "other               6.961995\n",
       "pantry              8.014482\n",
       "personal care       7.998744\n",
       "pets                7.887489\n",
       "produce             7.980348\n",
       "snacks              4.275555\n",
       "Name: prices, dtype: float64"
      ]
     },
     "execution_count": 33,
     "metadata": {},
     "output_type": "execute_result"
    }
   ],
   "source": [
    "# Check the output \n",
    "\n",
    "mean_dep"
   ]
  },
  {
   "cell_type": "code",
   "execution_count": 34,
   "metadata": {},
   "outputs": [
    {
     "data": {
      "text/plain": [
       "Text(0.5, 1.0, 'Average prices by department')"
      ]
     },
     "execution_count": 34,
     "metadata": {},
     "output_type": "execute_result"
    },
    {
     "data": {
      "image/png": "[encoded data removed]",
      "text/plain": [
       "<Figure size 1440x720 with 1 Axes>"
      ]
     },
     "metadata": {
      "needs_background": "light"
     },
     "output_type": "display_data"
    }
   ],
   "source": [
    "# Create a chart \n",
    "\n",
    "colors = ('#F7851E', '#2CA32C')\n",
    "\n",
    "mean_dep = mean_dep.sort_values(ascending=True).plot.barh(xlabel = (''), color = '#F7851E', figsize = (20, 10))\n",
    "\n",
    "plt.title('Average prices by department', fontsize = 16)"
   ]
  },
  {
   "cell_type": "code",
   "execution_count": 35,
   "metadata": {},
   "outputs": [],
   "source": [
    "# Export chart outside of Jupyter in the form of an image file\n",
    "\n",
    "mean_dep.figure.savefig(os.path.join(path, '04 Analysis','Visualizations', 'mean_dep.png'))"
   ]
  },
  {
   "cell_type": "markdown",
   "metadata": {},
   "source": [
    "## 5. Different types of customers in their system and how their ordering behaviors differ"
   ]
  },
  {
   "cell_type": "markdown",
   "metadata": {},
   "source": [
    "#### a) Ordering habits based on a customer’s loyalty status"
   ]
  },
  {
   "cell_type": "code",
   "execution_count": null,
   "metadata": {},
   "outputs": [],
   "source": [
    "loy_ord = df.groupby('loyalty_range').order_id.nunique()\n",
    "order_range"
   ]
  },
  {
   "cell_type": "code",
   "execution_count": 36,
   "metadata": {},
   "outputs": [],
   "source": [
    "# Create a pivot table, count customer by age group and loyalty_flag\n",
    "\n",
    "age_loy = pd.crosstab(index = df['age_group'], \n",
    "                                    columns = df['loyalty_flag'], \n",
    "                                    values = df['user_id'], \n",
    "                                    aggfunc = 'nunique')"
   ]
  },
  {
   "cell_type": "code",
   "execution_count": 37,
   "metadata": {},
   "outputs": [
    {
     "data": {
      "text/html": [
       "<div>\n",
       "<style scoped>\n",
       "    .dataframe tbody tr th:only-of-type {\n",
       "        vertical-align: middle;\n",
       "    }\n",
       "\n",
       "    .dataframe tbody tr th {\n",
       "        vertical-align: top;\n",
       "    }\n",
       "\n",
       "    .dataframe thead th {\n",
       "        text-align: right;\n",
       "    }\n",
       "</style>\n",
       "<table border=\"1\" class=\"dataframe\">\n",
       "  <thead>\n",
       "    <tr style=\"text-align: right;\">\n",
       "      <th>loyalty_flag</th>\n",
       "      <th>Loyal customer</th>\n",
       "      <th>New customer</th>\n",
       "      <th>Regular customer</th>\n",
       "    </tr>\n",
       "    <tr>\n",
       "      <th>age_group</th>\n",
       "      <th></th>\n",
       "      <th></th>\n",
       "      <th></th>\n",
       "    </tr>\n",
       "  </thead>\n",
       "  <tbody>\n",
       "    <tr>\n",
       "      <th>18-29</th>\n",
       "      <td>3135</td>\n",
       "      <td>12852</td>\n",
       "      <td>14389</td>\n",
       "    </tr>\n",
       "    <tr>\n",
       "      <th>30-39</th>\n",
       "      <td>2617</td>\n",
       "      <td>10685</td>\n",
       "      <td>11982</td>\n",
       "    </tr>\n",
       "    <tr>\n",
       "      <th>40-49</th>\n",
       "      <td>2714</td>\n",
       "      <td>10859</td>\n",
       "      <td>12124</td>\n",
       "    </tr>\n",
       "    <tr>\n",
       "      <th>50-65</th>\n",
       "      <td>4000</td>\n",
       "      <td>16162</td>\n",
       "      <td>17862</td>\n",
       "    </tr>\n",
       "    <tr>\n",
       "      <th>65+</th>\n",
       "      <td>4551</td>\n",
       "      <td>18192</td>\n",
       "      <td>20507</td>\n",
       "    </tr>\n",
       "  </tbody>\n",
       "</table>\n",
       "</div>"
      ],
      "text/plain": [
       "loyalty_flag  Loyal customer  New customer  Regular customer\n",
       "age_group                                                   \n",
       "18-29                   3135         12852             14389\n",
       "30-39                   2617         10685             11982\n",
       "40-49                   2714         10859             12124\n",
       "50-65                   4000         16162             17862\n",
       "65+                     4551         18192             20507"
      ]
     },
     "execution_count": 37,
     "metadata": {},
     "output_type": "execute_result"
    }
   ],
   "source": [
    "# Check the output \n",
    "\n",
    "age_loy"
   ]
  },
  {
   "cell_type": "code",
   "execution_count": 38,
   "metadata": {},
   "outputs": [
    {
     "data": {
      "text/plain": [
       "Text(0.5, 1.0, 'Customers by age group and loyalty')"
      ]
     },
     "execution_count": 38,
     "metadata": {},
     "output_type": "execute_result"
    },
    {
     "data": {
      "image/png": "[encoded data removed]",
      "text/plain": [
       "<Figure size 720x432 with 1 Axes>"
      ]
     },
     "metadata": {
      "needs_background": "light"
     },
     "output_type": "display_data"
    }
   ],
   "source": [
    "# Create a chart \n",
    "\n",
    "age_loy_bar = age_loy.plot.bar(xlabel = ('Age group'), figsize = (10, 6), rot = 30)\n",
    "\n",
    "plt.title('Customers by age group and loyalty', fontsize = 16)"
   ]
  },
  {
   "cell_type": "code",
   "execution_count": 39,
   "metadata": {},
   "outputs": [],
   "source": [
    "# Export chart outside of Jupyter in the form of an image file\n",
    "\n",
    "age_loy_bar.figure.savefig(os.path.join(path, '04 Analysis','Visualizations', 'age_loy_bar.png'))"
   ]
  },
  {
   "cell_type": "code",
   "execution_count": null,
   "metadata": {},
   "outputs": [],
   "source": [
    "# Create a variable that stores unique values\n",
    "\n",
    "freq = df.groupby('freq_flag').user_id.nunique()\n",
    "freq"
   ]
  },
  {
   "cell_type": "code",
   "execution_count": null,
   "metadata": {},
   "outputs": [],
   "source": [
    "# Create a chart \n",
    "\n",
    "freq_pie = freq.plot.pie(ylabel = (''), autopct = '%.0f%%', fontsize = 12, figsize = (10, 6))\n",
    "\n",
    "plt.title('Customers by frequency flag', fontsize = 16)"
   ]
  },
  {
   "cell_type": "code",
   "execution_count": null,
   "metadata": {},
   "outputs": [],
   "source": [
    "# Export chart outside of Jupyter in the form of an image file\n",
    "\n",
    "freq_pie.figure.savefig(os.path.join(path, '04 Analysis','Visualizations', 'freq_pie.png'))"
   ]
  },
  {
   "cell_type": "markdown",
   "metadata": {},
   "source": [
    "#### Frequency flag"
   ]
  },
  {
   "cell_type": "code",
   "execution_count": 71,
   "metadata": {},
   "outputs": [
    {
     "data": {
      "text/plain": [
       "freq_flag\n",
       "Frequent customer        75927\n",
       "Non-frequent customer    36665\n",
       "Regular customer         50039\n",
       "Name: user_id, dtype: int64"
      ]
     },
     "execution_count": 71,
     "metadata": {},
     "output_type": "execute_result"
    }
   ],
   "source": [
    "freq = df.groupby('freq_flag').user_id.nunique()\n",
    "freq"
   ]
  },
  {
   "cell_type": "code",
   "execution_count": 74,
   "metadata": {},
   "outputs": [
    {
     "data": {
      "text/plain": [
       "Text(0.5, 1.0, 'Customers by frequency flag')"
      ]
     },
     "execution_count": 74,
     "metadata": {},
     "output_type": "execute_result"
    },
    {
     "data": {
      "image/png": "[encoded data removed]",
      "text/plain": [
       "<Figure size 720x432 with 1 Axes>"
      ]
     },
     "metadata": {},
     "output_type": "display_data"
    }
   ],
   "source": [
    "# Create a chart \n",
    "\n",
    "colors = ['#a8a1bb', '#d4d5d7', '#8ca9ad']\n",
    "\n",
    "freq_pie = freq.plot.pie(ylabel = (''), autopct = '%.0f%%', fontsize = 12, figsize = (10, 6), colors=colors)\n",
    "\n",
    "plt.title('Customers by frequency flag', fontsize = 16)"
   ]
  },
  {
   "cell_type": "code",
   "execution_count": 75,
   "metadata": {},
   "outputs": [],
   "source": [
    "# Export chart outside of Jupyter in the form of an image file\n",
    "\n",
    "freq_pie.figure.savefig(os.path.join(path, '04 Analysis','Visualizations', 'freq_pie.png'))"
   ]
  },
  {
   "cell_type": "markdown",
   "metadata": {},
   "source": [
    "#### Loyalty flag"
   ]
  },
  {
   "cell_type": "code",
   "execution_count": 40,
   "metadata": {},
   "outputs": [],
   "source": [
    "# Create a variable that stores unique values\n",
    "\n",
    "loy = df.groupby('loyalty_flag').user_id.nunique()"
   ]
  },
  {
   "cell_type": "code",
   "execution_count": 41,
   "metadata": {},
   "outputs": [
    {
     "data": {
      "text/plain": [
       "loyalty_flag\n",
       "Loyal customer      17017\n",
       "New customer        68750\n",
       "Regular customer    76864\n",
       "Name: user_id, dtype: int64"
      ]
     },
     "execution_count": 41,
     "metadata": {},
     "output_type": "execute_result"
    }
   ],
   "source": [
    "# Check the output\n",
    "\n",
    "loy"
   ]
  },
  {
   "cell_type": "code",
   "execution_count": 42,
   "metadata": {},
   "outputs": [
    {
     "data": {
      "text/plain": [
       "Text(0.5, 1.0, 'Customers by loyalty flag')"
      ]
     },
     "execution_count": 42,
     "metadata": {},
     "output_type": "execute_result"
    },
    {
     "data": {
      "image/png": "[encoded data removed]",
      "text/plain": [
       "<Figure size 720x432 with 1 Axes>"
      ]
     },
     "metadata": {},
     "output_type": "display_data"
    }
   ],
   "source": [
    "# Create a chart \n",
    "\n",
    "loy_pie = loy.plot.pie(ylabel = (''), autopct = '%.0f%%', fontsize = 12, figsize = (10, 6))\n",
    "\n",
    "plt.title('Customers by loyalty flag', fontsize = 16)"
   ]
  },
  {
   "cell_type": "code",
   "execution_count": 43,
   "metadata": {},
   "outputs": [],
   "source": [
    "# Export chart outside of Jupyter in the form of an image file\n",
    "\n",
    "loy_pie.figure.savefig(os.path.join(path, '04 Analysis','Visualizations', 'loy_pie.png'))"
   ]
  },
  {
   "cell_type": "code",
   "execution_count": 43,
   "metadata": {},
   "outputs": [
    {
     "data": {
      "text/plain": [
       "loyalty_flag\n",
       "Loyal customer      1024517\n",
       "New customer         486738\n",
       "Regular customer    1553120\n",
       "Name: order_id, dtype: int64"
      ]
     },
     "execution_count": 43,
     "metadata": {},
     "output_type": "execute_result"
    }
   ],
   "source": [
    "# Check the output\n",
    "dd\n",
    "loy_ord"
   ]
  },
  {
   "cell_type": "code",
   "execution_count": 69,
   "metadata": {},
   "outputs": [
    {
     "data": {
      "image/png": "[encoded data removed]",
      "text/plain": [
       "<Figure size 504x432 with 1 Axes>"
      ]
     },
     "metadata": {
      "needs_background": "light"
     },
     "output_type": "display_data"
    }
   ],
   "source": [
    "# Create a variable that stores counts of orders by loyalty_flag\n",
    "\n",
    "loy_ord = df.groupby('loyalty_flag').order_id.nunique()\n",
    "\n",
    "colors = ['#d4d5d7', '#8ca9ad', '#a8a1bb']\n",
    "# Creating bar chart\n",
    "loy_ord_bar = loy_ord.plot(kind='bar', color=colors, figsize=(7, 6), rot = 30)\n",
    "\n",
    "plt.ylabel('Orders in millions')\n",
    "plt.xlabel('')\n",
    "\n",
    "total = sum(loy_ord)\n",
    "for i, v in enumerate(loy_ord):\n",
    "    percentage = (v / total) * 100\n",
    "    plt.text(i, v + 10, f'{percentage:.1f}%', ha='center', va='bottom', fontsize=12)\n",
    "plt.gca().set_facecolor('none')\n",
    "plt.title('Orders by loyalty flag', fontsize=16)\n",
    "plt.show()"
   ]
  },
  {
   "cell_type": "code",
   "execution_count": 70,
   "metadata": {},
   "outputs": [],
   "source": [
    "# Export chart outside of Jupyter in the form of an image file\n",
    "\n",
    "loy_ord_bar.figure.savefig(os.path.join(path, '04 Analysis','Visualizations', 'loy_ord_bar.png'))"
   ]
  },
  {
   "cell_type": "code",
   "execution_count": null,
   "metadata": {},
   "outputs": [],
   "source": [
    "\n",
    "loy_cust"
   ]
  },
  {
   "cell_type": "code",
   "execution_count": 71,
   "metadata": {},
   "outputs": [
    {
     "data": {
      "image/png": "[encoded data removed]",
      "text/plain": [
       "<Figure size 504x432 with 1 Axes>"
      ]
     },
     "metadata": {
      "needs_background": "light"
     },
     "output_type": "display_data"
    }
   ],
   "source": [
    "\n",
    "# Create a variable that stores counts of customers by loyalty_flag\n",
    "\n",
    "loy_cust = df.groupby('loyalty_flag').user_id.nunique()\n",
    "\n",
    "colors = ['#d4d5d7', '#8ca9ad', '#a8a1bb']\n",
    "\n",
    "# Creating bar chart\n",
    "loy_cust_bar = loy_cust.plot(kind='bar', color=colors, figsize=(7, 6), rot = 30)\n",
    "\n",
    "plt.ylabel('Customers')\n",
    "plt.xlabel('')\n",
    "\n",
    "total = sum(loy_cust)\n",
    "for i, v in enumerate(loy_cust):\n",
    "    percentage = (v / total) * 100\n",
    "    plt.text(i, v + 10, f'{percentage:.1f}%', ha='center', va='bottom', fontsize=12)\n",
    "plt.gca().set_facecolor('none')\n",
    "plt.title('Customers by loyalty flag', fontsize=16)\n",
    "plt.show()"
   ]
  },
  {
   "cell_type": "code",
   "execution_count": 72,
   "metadata": {},
   "outputs": [],
   "source": [
    "# Export chart outside of Jupyter in the form of an image file\n",
    "\n",
    "loy_cust_bar.figure.savefig(os.path.join(path, '04 Analysis','Visualizations', 'loy_cust_bar.png'))"
   ]
  },
  {
   "cell_type": "code",
   "execution_count": 48,
   "metadata": {},
   "outputs": [],
   "source": [
    "# Create a pivot table, count of orders made department and loyalty_flag\n",
    "\n",
    "dep_loy = pd.crosstab(index = df['department'],\n",
    "                          columns = df['loyalty_flag'], \n",
    "                          values = df['order_id'], \n",
    "                          aggfunc = 'nunique')"
   ]
  },
  {
   "cell_type": "code",
   "execution_count": 49,
   "metadata": {},
   "outputs": [
    {
     "data": {
      "text/html": [
       "<div>\n",
       "<style scoped>\n",
       "    .dataframe tbody tr th:only-of-type {\n",
       "        vertical-align: middle;\n",
       "    }\n",
       "\n",
       "    .dataframe tbody tr th {\n",
       "        vertical-align: top;\n",
       "    }\n",
       "\n",
       "    .dataframe thead th {\n",
       "        text-align: right;\n",
       "    }\n",
       "</style>\n",
       "<table border=\"1\" class=\"dataframe\">\n",
       "  <thead>\n",
       "    <tr style=\"text-align: right;\">\n",
       "      <th>loyalty_flag</th>\n",
       "      <th>Loyal customer</th>\n",
       "      <th>New customer</th>\n",
       "      <th>Regular customer</th>\n",
       "    </tr>\n",
       "    <tr>\n",
       "      <th>department</th>\n",
       "      <th></th>\n",
       "      <th></th>\n",
       "      <th></th>\n",
       "    </tr>\n",
       "  </thead>\n",
       "  <tbody>\n",
       "    <tr>\n",
       "      <th>alcohol</th>\n",
       "      <td>20683</td>\n",
       "      <td>15852</td>\n",
       "      <td>43120</td>\n",
       "    </tr>\n",
       "    <tr>\n",
       "      <th>babies</th>\n",
       "      <td>71062</td>\n",
       "      <td>19622</td>\n",
       "      <td>81417</td>\n",
       "    </tr>\n",
       "    <tr>\n",
       "      <th>bakery</th>\n",
       "      <td>279774</td>\n",
       "      <td>130776</td>\n",
       "      <td>428658</td>\n",
       "    </tr>\n",
       "    <tr>\n",
       "      <th>beverages</th>\n",
       "      <td>452206</td>\n",
       "      <td>219548</td>\n",
       "      <td>719750</td>\n",
       "    </tr>\n",
       "    <tr>\n",
       "      <th>breakfast</th>\n",
       "      <td>161967</td>\n",
       "      <td>79087</td>\n",
       "      <td>256314</td>\n",
       "    </tr>\n",
       "    <tr>\n",
       "      <th>bulk</th>\n",
       "      <td>13557</td>\n",
       "      <td>4039</td>\n",
       "      <td>15102</td>\n",
       "    </tr>\n",
       "    <tr>\n",
       "      <th>canned goods</th>\n",
       "      <td>195467</td>\n",
       "      <td>110238</td>\n",
       "      <td>341342</td>\n",
       "    </tr>\n",
       "    <tr>\n",
       "      <th>dairy eggs</th>\n",
       "      <td>713249</td>\n",
       "      <td>313851</td>\n",
       "      <td>1053072</td>\n",
       "    </tr>\n",
       "    <tr>\n",
       "      <th>deli</th>\n",
       "      <td>236739</td>\n",
       "      <td>116197</td>\n",
       "      <td>382288</td>\n",
       "    </tr>\n",
       "    <tr>\n",
       "      <th>dry goods pasta</th>\n",
       "      <td>174225</td>\n",
       "      <td>95989</td>\n",
       "      <td>298382</td>\n",
       "    </tr>\n",
       "    <tr>\n",
       "      <th>frozen</th>\n",
       "      <td>344108</td>\n",
       "      <td>186458</td>\n",
       "      <td>593208</td>\n",
       "    </tr>\n",
       "    <tr>\n",
       "      <th>household</th>\n",
       "      <td>132128</td>\n",
       "      <td>78005</td>\n",
       "      <td>236985</td>\n",
       "    </tr>\n",
       "    <tr>\n",
       "      <th>international</th>\n",
       "      <td>65982</td>\n",
       "      <td>35163</td>\n",
       "      <td>109843</td>\n",
       "    </tr>\n",
       "    <tr>\n",
       "      <th>meat seafood</th>\n",
       "      <td>166969</td>\n",
       "      <td>90245</td>\n",
       "      <td>290075</td>\n",
       "    </tr>\n",
       "    <tr>\n",
       "      <th>missing</th>\n",
       "      <td>15894</td>\n",
       "      <td>10846</td>\n",
       "      <td>29039</td>\n",
       "    </tr>\n",
       "    <tr>\n",
       "      <th>other</th>\n",
       "      <td>10373</td>\n",
       "      <td>5610</td>\n",
       "      <td>17263</td>\n",
       "    </tr>\n",
       "    <tr>\n",
       "      <th>pantry</th>\n",
       "      <td>344668</td>\n",
       "      <td>172517</td>\n",
       "      <td>547491</td>\n",
       "    </tr>\n",
       "    <tr>\n",
       "      <th>personal care</th>\n",
       "      <td>90987</td>\n",
       "      <td>52000</td>\n",
       "      <td>160079</td>\n",
       "    </tr>\n",
       "    <tr>\n",
       "      <th>pets</th>\n",
       "      <td>15560</td>\n",
       "      <td>9724</td>\n",
       "      <td>31083</td>\n",
       "    </tr>\n",
       "    <tr>\n",
       "      <th>produce</th>\n",
       "      <td>795517</td>\n",
       "      <td>348120</td>\n",
       "      <td>1160046</td>\n",
       "    </tr>\n",
       "    <tr>\n",
       "      <th>snacks</th>\n",
       "      <td>443586</td>\n",
       "      <td>204772</td>\n",
       "      <td>682259</td>\n",
       "    </tr>\n",
       "  </tbody>\n",
       "</table>\n",
       "</div>"
      ],
      "text/plain": [
       "loyalty_flag     Loyal customer  New customer  Regular customer\n",
       "department                                                     \n",
       "alcohol                   20683         15852             43120\n",
       "babies                    71062         19622             81417\n",
       "bakery                   279774        130776            428658\n",
       "beverages                452206        219548            719750\n",
       "breakfast                161967         79087            256314\n",
       "bulk                      13557          4039             15102\n",
       "canned goods             195467        110238            341342\n",
       "dairy eggs               713249        313851           1053072\n",
       "deli                     236739        116197            382288\n",
       "dry goods pasta          174225         95989            298382\n",
       "frozen                   344108        186458            593208\n",
       "household                132128         78005            236985\n",
       "international             65982         35163            109843\n",
       "meat seafood             166969         90245            290075\n",
       "missing                   15894         10846             29039\n",
       "other                     10373          5610             17263\n",
       "pantry                   344668        172517            547491\n",
       "personal care             90987         52000            160079\n",
       "pets                      15560          9724             31083\n",
       "produce                  795517        348120           1160046\n",
       "snacks                   443586        204772            682259"
      ]
     },
     "execution_count": 49,
     "metadata": {},
     "output_type": "execute_result"
    }
   ],
   "source": [
    "# Check the output \n",
    "\n",
    "dep_loy"
   ]
  },
  {
   "cell_type": "code",
   "execution_count": 50,
   "metadata": {},
   "outputs": [],
   "source": [
    "# Sort the values\n",
    "\n",
    "dep_loy = dep_loy.loc[dep_loy.sum(axis=1).sort_values(ascending=True).index]"
   ]
  },
  {
   "cell_type": "code",
   "execution_count": 51,
   "metadata": {},
   "outputs": [
    {
     "data": {
      "text/plain": [
       "Text(0.5, 1.0, 'Number of items purchased in each department broken down into loyalty groups')"
      ]
     },
     "execution_count": 51,
     "metadata": {},
     "output_type": "execute_result"
    },
    {
     "data": {
      "image/png": "[encoded data removed]",
      "text/plain": [
       "<Figure size 1440x720 with 1 Axes>"
      ]
     },
     "metadata": {
      "needs_background": "light"
     },
     "output_type": "display_data"
    }
   ],
   "source": [
    "# Create a chart\n",
    "\n",
    "dep_loy_bar = dep_loy.plot.barh(xlabel = (''), stacked = True, figsize = (20, 10))\n",
    "\n",
    "plt.title('Number of items purchased in each department broken down into loyalty groups', fontsize = 16)"
   ]
  },
  {
   "cell_type": "code",
   "execution_count": 52,
   "metadata": {},
   "outputs": [],
   "source": [
    "# Export chart outside of Jupyter in the form of an image file\n",
    "\n",
    "dep_loy_bar.figure.savefig(os.path.join(path, '04 Analysis','Visualizations', 'dep_loy_bar.png'))"
   ]
  },
  {
   "cell_type": "code",
   "execution_count": 53,
   "metadata": {},
   "outputs": [],
   "source": [
    "# Create a pivot table, count of orders by loyalty flag and departments\n",
    "\n",
    "loy_pri = pd.crosstab(index = df['loyalty_flag'],\n",
    "                          columns = df['price_range'], \n",
    "                          values = df['order_id'], \n",
    "                          aggfunc = 'nunique')"
   ]
  },
  {
   "cell_type": "code",
   "execution_count": 54,
   "metadata": {},
   "outputs": [
    {
     "data": {
      "text/html": [
       "<div>\n",
       "<style scoped>\n",
       "    .dataframe tbody tr th:only-of-type {\n",
       "        vertical-align: middle;\n",
       "    }\n",
       "\n",
       "    .dataframe tbody tr th {\n",
       "        vertical-align: top;\n",
       "    }\n",
       "\n",
       "    .dataframe thead th {\n",
       "        text-align: right;\n",
       "    }\n",
       "</style>\n",
       "<table border=\"1\" class=\"dataframe\">\n",
       "  <thead>\n",
       "    <tr style=\"text-align: right;\">\n",
       "      <th>price_range</th>\n",
       "      <th>High range</th>\n",
       "      <th>Low-range product</th>\n",
       "      <th>Mid-range product</th>\n",
       "    </tr>\n",
       "    <tr>\n",
       "      <th>loyalty_flag</th>\n",
       "      <th></th>\n",
       "      <th></th>\n",
       "      <th></th>\n",
       "    </tr>\n",
       "  </thead>\n",
       "  <tbody>\n",
       "    <tr>\n",
       "      <th>Loyal customer</th>\n",
       "      <td>105500</td>\n",
       "      <td>900891</td>\n",
       "      <td>999218</td>\n",
       "    </tr>\n",
       "    <tr>\n",
       "      <th>New customer</th>\n",
       "      <td>56739</td>\n",
       "      <td>421229</td>\n",
       "      <td>469992</td>\n",
       "    </tr>\n",
       "    <tr>\n",
       "      <th>Regular customer</th>\n",
       "      <td>183635</td>\n",
       "      <td>1361373</td>\n",
       "      <td>1509241</td>\n",
       "    </tr>\n",
       "  </tbody>\n",
       "</table>\n",
       "</div>"
      ],
      "text/plain": [
       "price_range       High range  Low-range product  Mid-range product\n",
       "loyalty_flag                                                      \n",
       "Loyal customer        105500             900891             999218\n",
       "New customer           56739             421229             469992\n",
       "Regular customer      183635            1361373            1509241"
      ]
     },
     "execution_count": 54,
     "metadata": {},
     "output_type": "execute_result"
    }
   ],
   "source": [
    "# Check the output\n",
    "\n",
    "loy_pri"
   ]
  },
  {
   "cell_type": "code",
   "execution_count": 55,
   "metadata": {},
   "outputs": [],
   "source": [
    "# Export table as Excel file\n",
    "\n",
    "loy_pri.to_excel(os.path.join(path, '04 Analysis', 'Excel Tables', 'loyal_price.xlsx'))"
   ]
  },
  {
   "cell_type": "code",
   "execution_count": 56,
   "metadata": {},
   "outputs": [
    {
     "data": {
      "text/plain": [
       "Text(0.5, 1.0, 'Loyalty group orders by price range')"
      ]
     },
     "execution_count": 56,
     "metadata": {},
     "output_type": "execute_result"
    },
    {
     "data": {
      "image/png": "[encoded data removed]",
      "text/plain": [
       "<Figure size 720x432 with 1 Axes>"
      ]
     },
     "metadata": {
      "needs_background": "light"
     },
     "output_type": "display_data"
    }
   ],
   "source": [
    "# Create a chart \n",
    "\n",
    "loy_pri_bar = loy_pri.plot.bar(figsize = (10, 6), rot = 30)\n",
    "\n",
    "plt.title('Loyalty group orders by price range', fontsize = 16)\n"
   ]
  },
  {
   "cell_type": "code",
   "execution_count": 57,
   "metadata": {},
   "outputs": [],
   "source": [
    "# Export chart outside of Jupyter in the form of an image file\n",
    "\n",
    "loy_pri_bar.figure.savefig(os.path.join(path, '04 Analysis','Visualizations', 'loy_pri_bar.png'))"
   ]
  },
  {
   "cell_type": "markdown",
   "metadata": {},
   "source": [
    "### b) Ordering habits based on a customer’s region"
   ]
  },
  {
   "cell_type": "code",
   "execution_count": 58,
   "metadata": {},
   "outputs": [],
   "source": [
    "# Create a pivot table, count of prices by departments by spending_flag\n",
    "\n",
    "spe_dep = pd.crosstab(index=df['department'],\n",
    "                      columns=df['spending_flag'], \n",
    "                      values=df['prices'], \n",
    "                      aggfunc='count')"
   ]
  },
  {
   "cell_type": "code",
   "execution_count": 59,
   "metadata": {},
   "outputs": [
    {
     "data": {
      "text/html": [
       "<div>\n",
       "<style scoped>\n",
       "    .dataframe tbody tr th:only-of-type {\n",
       "        vertical-align: middle;\n",
       "    }\n",
       "\n",
       "    .dataframe tbody tr th {\n",
       "        vertical-align: top;\n",
       "    }\n",
       "\n",
       "    .dataframe thead th {\n",
       "        text-align: right;\n",
       "    }\n",
       "</style>\n",
       "<table border=\"1\" class=\"dataframe\">\n",
       "  <thead>\n",
       "    <tr style=\"text-align: right;\">\n",
       "      <th>spending_flag</th>\n",
       "      <th>High spender</th>\n",
       "      <th>Low spender</th>\n",
       "    </tr>\n",
       "    <tr>\n",
       "      <th>department</th>\n",
       "      <th></th>\n",
       "      <th></th>\n",
       "    </tr>\n",
       "  </thead>\n",
       "  <tbody>\n",
       "    <tr>\n",
       "      <th>alcohol</th>\n",
       "      <td>12803</td>\n",
       "      <td>131824</td>\n",
       "    </tr>\n",
       "    <tr>\n",
       "      <th>babies</th>\n",
       "      <td>4529</td>\n",
       "      <td>405863</td>\n",
       "    </tr>\n",
       "    <tr>\n",
       "      <th>bakery</th>\n",
       "      <td>28371</td>\n",
       "      <td>1092457</td>\n",
       "    </tr>\n",
       "    <tr>\n",
       "      <th>beverages</th>\n",
       "      <td>58467</td>\n",
       "      <td>2513434</td>\n",
       "    </tr>\n",
       "    <tr>\n",
       "      <th>breakfast</th>\n",
       "      <td>15046</td>\n",
       "      <td>655804</td>\n",
       "    </tr>\n",
       "    <tr>\n",
       "      <th>bulk</th>\n",
       "      <td>113</td>\n",
       "      <td>33338</td>\n",
       "    </tr>\n",
       "    <tr>\n",
       "      <th>canned goods</th>\n",
       "      <td>20431</td>\n",
       "      <td>991643</td>\n",
       "    </tr>\n",
       "    <tr>\n",
       "      <th>dairy eggs</th>\n",
       "      <td>104194</td>\n",
       "      <td>5068111</td>\n",
       "    </tr>\n",
       "    <tr>\n",
       "      <th>deli</th>\n",
       "      <td>16794</td>\n",
       "      <td>987040</td>\n",
       "    </tr>\n",
       "    <tr>\n",
       "      <th>dry goods pasta</th>\n",
       "      <td>15972</td>\n",
       "      <td>806164</td>\n",
       "    </tr>\n",
       "    <tr>\n",
       "      <th>frozen</th>\n",
       "      <td>45625</td>\n",
       "      <td>2076106</td>\n",
       "    </tr>\n",
       "    <tr>\n",
       "      <th>household</th>\n",
       "      <td>24845</td>\n",
       "      <td>675012</td>\n",
       "    </tr>\n",
       "    <tr>\n",
       "      <th>international</th>\n",
       "      <td>4671</td>\n",
       "      <td>251320</td>\n",
       "    </tr>\n",
       "    <tr>\n",
       "      <th>meat seafood</th>\n",
       "      <td>20604</td>\n",
       "      <td>654177</td>\n",
       "    </tr>\n",
       "    <tr>\n",
       "      <th>missing</th>\n",
       "      <td>888</td>\n",
       "      <td>63880</td>\n",
       "    </tr>\n",
       "    <tr>\n",
       "      <th>other</th>\n",
       "      <td>1034</td>\n",
       "      <td>33377</td>\n",
       "    </tr>\n",
       "    <tr>\n",
       "      <th>pantry</th>\n",
       "      <td>37470</td>\n",
       "      <td>1745235</td>\n",
       "    </tr>\n",
       "    <tr>\n",
       "      <th>personal care</th>\n",
       "      <td>9664</td>\n",
       "      <td>414642</td>\n",
       "    </tr>\n",
       "    <tr>\n",
       "      <th>pets</th>\n",
       "      <td>3961</td>\n",
       "      <td>89099</td>\n",
       "    </tr>\n",
       "    <tr>\n",
       "      <th>produce</th>\n",
       "      <td>124643</td>\n",
       "      <td>8954630</td>\n",
       "    </tr>\n",
       "    <tr>\n",
       "      <th>snacks</th>\n",
       "      <td>48375</td>\n",
       "      <td>2718031</td>\n",
       "    </tr>\n",
       "  </tbody>\n",
       "</table>\n",
       "</div>"
      ],
      "text/plain": [
       "spending_flag    High spender  Low spender\n",
       "department                                \n",
       "alcohol                 12803       131824\n",
       "babies                   4529       405863\n",
       "bakery                  28371      1092457\n",
       "beverages               58467      2513434\n",
       "breakfast               15046       655804\n",
       "bulk                      113        33338\n",
       "canned goods            20431       991643\n",
       "dairy eggs             104194      5068111\n",
       "deli                    16794       987040\n",
       "dry goods pasta         15972       806164\n",
       "frozen                  45625      2076106\n",
       "household               24845       675012\n",
       "international            4671       251320\n",
       "meat seafood            20604       654177\n",
       "missing                   888        63880\n",
       "other                    1034        33377\n",
       "pantry                  37470      1745235\n",
       "personal care            9664       414642\n",
       "pets                     3961        89099\n",
       "produce                124643      8954630\n",
       "snacks                  48375      2718031"
      ]
     },
     "execution_count": 59,
     "metadata": {},
     "output_type": "execute_result"
    }
   ],
   "source": [
    "# Check the output \n",
    "\n",
    "spe_dep\n"
   ]
  },
  {
   "cell_type": "code",
   "execution_count": 60,
   "metadata": {},
   "outputs": [],
   "source": [
    "# Sort values\n",
    "\n",
    "spe_dep = spe_dep.loc[spe_dep.sum(axis=1).sort_values(ascending=True).index]"
   ]
  },
  {
   "cell_type": "code",
   "execution_count": 61,
   "metadata": {},
   "outputs": [
    {
     "data": {
      "text/plain": [
       "Text(0.5, 1.0, 'Low and high spenders by department')"
      ]
     },
     "execution_count": 61,
     "metadata": {},
     "output_type": "execute_result"
    },
    {
     "data": {
      "image/png": "[encoded data removed]",
      "text/plain": [
       "<Figure size 1440x720 with 1 Axes>"
      ]
     },
     "metadata": {
      "needs_background": "light"
     },
     "output_type": "display_data"
    }
   ],
   "source": [
    "# Create a chart\n",
    "\n",
    "colors = ('#F7851E', '#2CA32C')\n",
    "\n",
    "spe_dep_bar = spe_dep.plot.barh(stacked = True, xlabel = (''), color = colors, figsize = (20, 10))\n",
    "\n",
    "plt.title('Low and high spenders by department', fontsize=16)\n"
   ]
  },
  {
   "cell_type": "code",
   "execution_count": 62,
   "metadata": {},
   "outputs": [],
   "source": [
    "# Export chart outside of Jupyter in the form of an image file\n",
    "\n",
    "spe_dep_bar.figure.savefig(os.path.join(path, '04 Analysis','Visualizations', 'spe_dep_bar.png'))"
   ]
  },
  {
   "cell_type": "code",
   "execution_count": 63,
   "metadata": {},
   "outputs": [],
   "source": [
    "# Create a variable that shows what price range each region prefers\n",
    "\n",
    "price_reg = pd.crosstab(index = df['region'], \n",
    "                                        columns = df['price_range'], \n",
    "                                        values = df['product_id'], \n",
    "                                        aggfunc = 'count')"
   ]
  },
  {
   "cell_type": "code",
   "execution_count": 64,
   "metadata": {},
   "outputs": [
    {
     "data": {
      "text/html": [
       "<div>\n",
       "<style scoped>\n",
       "    .dataframe tbody tr th:only-of-type {\n",
       "        vertical-align: middle;\n",
       "    }\n",
       "\n",
       "    .dataframe tbody tr th {\n",
       "        vertical-align: top;\n",
       "    }\n",
       "\n",
       "    .dataframe thead th {\n",
       "        text-align: right;\n",
       "    }\n",
       "</style>\n",
       "<table border=\"1\" class=\"dataframe\">\n",
       "  <thead>\n",
       "    <tr style=\"text-align: right;\">\n",
       "      <th>price_range</th>\n",
       "      <th>High range</th>\n",
       "      <th>Low-range product</th>\n",
       "      <th>Mid-range product</th>\n",
       "    </tr>\n",
       "    <tr>\n",
       "      <th>region</th>\n",
       "      <th></th>\n",
       "      <th></th>\n",
       "      <th></th>\n",
       "    </tr>\n",
       "  </thead>\n",
       "  <tbody>\n",
       "    <tr>\n",
       "      <th>Midwest</th>\n",
       "      <td>92073</td>\n",
       "      <td>2267085</td>\n",
       "      <td>4901148</td>\n",
       "    </tr>\n",
       "    <tr>\n",
       "      <th>Northeast</th>\n",
       "      <td>68929</td>\n",
       "      <td>1712360</td>\n",
       "      <td>3682593</td>\n",
       "    </tr>\n",
       "    <tr>\n",
       "      <th>South</th>\n",
       "      <td>130964</td>\n",
       "      <td>3217500</td>\n",
       "      <td>6960978</td>\n",
       "    </tr>\n",
       "    <tr>\n",
       "      <th>West</th>\n",
       "      <td>101110</td>\n",
       "      <td>2477895</td>\n",
       "      <td>5347052</td>\n",
       "    </tr>\n",
       "  </tbody>\n",
       "</table>\n",
       "</div>"
      ],
      "text/plain": [
       "price_range  High range  Low-range product  Mid-range product\n",
       "region                                                       \n",
       "Midwest           92073            2267085            4901148\n",
       "Northeast         68929            1712360            3682593\n",
       "South            130964            3217500            6960978\n",
       "West             101110            2477895            5347052"
      ]
     },
     "execution_count": 64,
     "metadata": {},
     "output_type": "execute_result"
    }
   ],
   "source": [
    "# Check the output\n",
    "\n",
    "price_reg"
   ]
  },
  {
   "cell_type": "code",
   "execution_count": 65,
   "metadata": {},
   "outputs": [],
   "source": [
    "# Export table as Excel file\n",
    "\n",
    "price_reg.to_excel(os.path.join(path, '04 Analysis', 'Excel Tables', 'price_reg.xlsx'))"
   ]
  },
  {
   "cell_type": "code",
   "execution_count": 66,
   "metadata": {},
   "outputs": [
    {
     "data": {
      "text/plain": [
       "Text(0.5, 1.0, 'Products purchased by price category and region')"
      ]
     },
     "execution_count": 66,
     "metadata": {},
     "output_type": "execute_result"
    },
    {
     "data": {
      "image/png": "[encoded data removed]",
      "text/plain": [
       "<Figure size 720x432 with 1 Axes>"
      ]
     },
     "metadata": {
      "needs_background": "light"
     },
     "output_type": "display_data"
    }
   ],
   "source": [
    "# Create a chart \n",
    "\n",
    "price_reg_bar = price_reg.plot.bar(xlabel = (''), figsize = (10, 6), rot = 30)\n",
    "\n",
    "plt.title('Products purchased by price category and region', fontsize = 16)"
   ]
  },
  {
   "cell_type": "code",
   "execution_count": 67,
   "metadata": {},
   "outputs": [],
   "source": [
    "# Export chart outside of Jupyter in the form of an image file\n",
    "\n",
    "price_reg_bar.figure.savefig(os.path.join(path, '04 Analysis','Visualizations', 'price_reg_bar.png'))"
   ]
  },
  {
   "cell_type": "code",
   "execution_count": 68,
   "metadata": {},
   "outputs": [],
   "source": [
    "# Create a pivot table, count of products by departments and region\n",
    "\n",
    "dep_regio = pd.crosstab(index = df['department'],\n",
    "                          columns = df['region'], \n",
    "                          values=df['prices'], \n",
    "                          aggfunc='count')"
   ]
  },
  {
   "cell_type": "code",
   "execution_count": 69,
   "metadata": {},
   "outputs": [
    {
     "data": {
      "text/html": [
       "<div>\n",
       "<style scoped>\n",
       "    .dataframe tbody tr th:only-of-type {\n",
       "        vertical-align: middle;\n",
       "    }\n",
       "\n",
       "    .dataframe tbody tr th {\n",
       "        vertical-align: top;\n",
       "    }\n",
       "\n",
       "    .dataframe thead th {\n",
       "        text-align: right;\n",
       "    }\n",
       "</style>\n",
       "<table border=\"1\" class=\"dataframe\">\n",
       "  <thead>\n",
       "    <tr style=\"text-align: right;\">\n",
       "      <th>region</th>\n",
       "      <th>Midwest</th>\n",
       "      <th>Northeast</th>\n",
       "      <th>South</th>\n",
       "      <th>West</th>\n",
       "    </tr>\n",
       "    <tr>\n",
       "      <th>department</th>\n",
       "      <th></th>\n",
       "      <th></th>\n",
       "      <th></th>\n",
       "      <th></th>\n",
       "    </tr>\n",
       "  </thead>\n",
       "  <tbody>\n",
       "    <tr>\n",
       "      <th>alcohol</th>\n",
       "      <td>34043</td>\n",
       "      <td>25017</td>\n",
       "      <td>48813</td>\n",
       "      <td>36754</td>\n",
       "    </tr>\n",
       "    <tr>\n",
       "      <th>babies</th>\n",
       "      <td>95741</td>\n",
       "      <td>72712</td>\n",
       "      <td>139511</td>\n",
       "      <td>102428</td>\n",
       "    </tr>\n",
       "    <tr>\n",
       "      <th>bakery</th>\n",
       "      <td>261753</td>\n",
       "      <td>199300</td>\n",
       "      <td>371620</td>\n",
       "      <td>288155</td>\n",
       "    </tr>\n",
       "    <tr>\n",
       "      <th>beverages</th>\n",
       "      <td>598979</td>\n",
       "      <td>462929</td>\n",
       "      <td>859419</td>\n",
       "      <td>650574</td>\n",
       "    </tr>\n",
       "    <tr>\n",
       "      <th>breakfast</th>\n",
       "      <td>156155</td>\n",
       "      <td>117904</td>\n",
       "      <td>223172</td>\n",
       "      <td>173619</td>\n",
       "    </tr>\n",
       "    <tr>\n",
       "      <th>bulk</th>\n",
       "      <td>7929</td>\n",
       "      <td>5599</td>\n",
       "      <td>11180</td>\n",
       "      <td>8743</td>\n",
       "    </tr>\n",
       "    <tr>\n",
       "      <th>canned goods</th>\n",
       "      <td>237459</td>\n",
       "      <td>176936</td>\n",
       "      <td>337458</td>\n",
       "      <td>260221</td>\n",
       "    </tr>\n",
       "    <tr>\n",
       "      <th>dairy eggs</th>\n",
       "      <td>1211283</td>\n",
       "      <td>913813</td>\n",
       "      <td>1721319</td>\n",
       "      <td>1325890</td>\n",
       "    </tr>\n",
       "    <tr>\n",
       "      <th>deli</th>\n",
       "      <td>234464</td>\n",
       "      <td>178398</td>\n",
       "      <td>333620</td>\n",
       "      <td>257352</td>\n",
       "    </tr>\n",
       "    <tr>\n",
       "      <th>dry goods pasta</th>\n",
       "      <td>193463</td>\n",
       "      <td>143817</td>\n",
       "      <td>272813</td>\n",
       "      <td>212043</td>\n",
       "    </tr>\n",
       "    <tr>\n",
       "      <th>frozen</th>\n",
       "      <td>498225</td>\n",
       "      <td>370436</td>\n",
       "      <td>709906</td>\n",
       "      <td>543164</td>\n",
       "    </tr>\n",
       "    <tr>\n",
       "      <th>household</th>\n",
       "      <td>166992</td>\n",
       "      <td>124604</td>\n",
       "      <td>230061</td>\n",
       "      <td>178200</td>\n",
       "    </tr>\n",
       "    <tr>\n",
       "      <th>international</th>\n",
       "      <td>60666</td>\n",
       "      <td>44678</td>\n",
       "      <td>84649</td>\n",
       "      <td>65998</td>\n",
       "    </tr>\n",
       "    <tr>\n",
       "      <th>meat seafood</th>\n",
       "      <td>158260</td>\n",
       "      <td>118571</td>\n",
       "      <td>224120</td>\n",
       "      <td>173830</td>\n",
       "    </tr>\n",
       "    <tr>\n",
       "      <th>missing</th>\n",
       "      <td>15563</td>\n",
       "      <td>11512</td>\n",
       "      <td>21787</td>\n",
       "      <td>15906</td>\n",
       "    </tr>\n",
       "    <tr>\n",
       "      <th>other</th>\n",
       "      <td>7983</td>\n",
       "      <td>6268</td>\n",
       "      <td>11579</td>\n",
       "      <td>8581</td>\n",
       "    </tr>\n",
       "    <tr>\n",
       "      <th>pantry</th>\n",
       "      <td>420334</td>\n",
       "      <td>312731</td>\n",
       "      <td>591754</td>\n",
       "      <td>457886</td>\n",
       "    </tr>\n",
       "    <tr>\n",
       "      <th>personal care</th>\n",
       "      <td>100398</td>\n",
       "      <td>74765</td>\n",
       "      <td>142496</td>\n",
       "      <td>106647</td>\n",
       "    </tr>\n",
       "    <tr>\n",
       "      <th>pets</th>\n",
       "      <td>21358</td>\n",
       "      <td>17734</td>\n",
       "      <td>29909</td>\n",
       "      <td>24059</td>\n",
       "    </tr>\n",
       "    <tr>\n",
       "      <th>produce</th>\n",
       "      <td>2134115</td>\n",
       "      <td>1593004</td>\n",
       "      <td>3027476</td>\n",
       "      <td>2324678</td>\n",
       "    </tr>\n",
       "    <tr>\n",
       "      <th>snacks</th>\n",
       "      <td>645143</td>\n",
       "      <td>493154</td>\n",
       "      <td>916780</td>\n",
       "      <td>711329</td>\n",
       "    </tr>\n",
       "  </tbody>\n",
       "</table>\n",
       "</div>"
      ],
      "text/plain": [
       "region           Midwest  Northeast    South     West\n",
       "department                                           \n",
       "alcohol            34043      25017    48813    36754\n",
       "babies             95741      72712   139511   102428\n",
       "bakery            261753     199300   371620   288155\n",
       "beverages         598979     462929   859419   650574\n",
       "breakfast         156155     117904   223172   173619\n",
       "bulk                7929       5599    11180     8743\n",
       "canned goods      237459     176936   337458   260221\n",
       "dairy eggs       1211283     913813  1721319  1325890\n",
       "deli              234464     178398   333620   257352\n",
       "dry goods pasta   193463     143817   272813   212043\n",
       "frozen            498225     370436   709906   543164\n",
       "household         166992     124604   230061   178200\n",
       "international      60666      44678    84649    65998\n",
       "meat seafood      158260     118571   224120   173830\n",
       "missing            15563      11512    21787    15906\n",
       "other               7983       6268    11579     8581\n",
       "pantry            420334     312731   591754   457886\n",
       "personal care     100398      74765   142496   106647\n",
       "pets               21358      17734    29909    24059\n",
       "produce          2134115    1593004  3027476  2324678\n",
       "snacks            645143     493154   916780   711329"
      ]
     },
     "execution_count": 69,
     "metadata": {},
     "output_type": "execute_result"
    }
   ],
   "source": [
    "# Check the output\n",
    "\n",
    "dep_regio"
   ]
  },
  {
   "cell_type": "code",
   "execution_count": 70,
   "metadata": {},
   "outputs": [],
   "source": [
    "dep_regio = dep_regio.loc[spe_dep.sum(axis=1).sort_values(ascending=True).index]"
   ]
  },
  {
   "cell_type": "code",
   "execution_count": 71,
   "metadata": {},
   "outputs": [
    {
     "data": {
      "image/png": "[encoded data removed]",
      "text/plain": [
       "<Figure size 2880x1440 with 4 Axes>"
      ]
     },
     "metadata": {
      "needs_background": "light"
     },
     "output_type": "display_data"
    }
   ],
   "source": [
    "# Create a chart\n",
    "\n",
    "dep_regio_bar = dep_regio.plot.barh(xlabel = (''), figsize = (40, 20), subplots = True, layout=(2, 2))"
   ]
  },
  {
   "cell_type": "code",
   "execution_count": 216,
   "metadata": {},
   "outputs": [],
   "source": [
    "# Create a pivot table, count of customers by household type and region\n",
    "\n",
    "hous_reg = pd.crosstab(index=df['household_class&type'],\n",
    "                      columns=df['region'], \n",
    "                      values=df['user_id'], \n",
    "                      aggfunc='nunique')"
   ]
  },
  {
   "cell_type": "code",
   "execution_count": 217,
   "metadata": {},
   "outputs": [
    {
     "data": {
      "text/html": [
       "<div>\n",
       "<style scoped>\n",
       "    .dataframe tbody tr th:only-of-type {\n",
       "        vertical-align: middle;\n",
       "    }\n",
       "\n",
       "    .dataframe tbody tr th {\n",
       "        vertical-align: top;\n",
       "    }\n",
       "\n",
       "    .dataframe thead th {\n",
       "        text-align: right;\n",
       "    }\n",
       "</style>\n",
       "<table border=\"1\" class=\"dataframe\">\n",
       "  <thead>\n",
       "    <tr style=\"text-align: right;\">\n",
       "      <th>region</th>\n",
       "      <th>Midwest</th>\n",
       "      <th>Northeast</th>\n",
       "      <th>South</th>\n",
       "      <th>West</th>\n",
       "    </tr>\n",
       "    <tr>\n",
       "      <th>household_class&amp;type</th>\n",
       "      <th></th>\n",
       "      <th></th>\n",
       "      <th></th>\n",
       "      <th></th>\n",
       "    </tr>\n",
       "  </thead>\n",
       "  <tbody>\n",
       "    <tr>\n",
       "      <th>higher class single</th>\n",
       "      <td>15</td>\n",
       "      <td>13</td>\n",
       "      <td>29</td>\n",
       "      <td>17</td>\n",
       "    </tr>\n",
       "    <tr>\n",
       "      <th>higher class young single</th>\n",
       "      <td>7</td>\n",
       "      <td>4</td>\n",
       "      <td>2</td>\n",
       "      <td>4</td>\n",
       "    </tr>\n",
       "    <tr>\n",
       "      <th>middle class large family</th>\n",
       "      <td>3441</td>\n",
       "      <td>2613</td>\n",
       "      <td>5002</td>\n",
       "      <td>3795</td>\n",
       "    </tr>\n",
       "    <tr>\n",
       "      <th>middle class medium family</th>\n",
       "      <td>3417</td>\n",
       "      <td>2606</td>\n",
       "      <td>5049</td>\n",
       "      <td>3868</td>\n",
       "    </tr>\n",
       "    <tr>\n",
       "      <th>middle class single</th>\n",
       "      <td>2659</td>\n",
       "      <td>1907</td>\n",
       "      <td>3613</td>\n",
       "      <td>2846</td>\n",
       "    </tr>\n",
       "    <tr>\n",
       "      <th>middle class small family</th>\n",
       "      <td>3460</td>\n",
       "      <td>2642</td>\n",
       "      <td>4994</td>\n",
       "      <td>3811</td>\n",
       "    </tr>\n",
       "    <tr>\n",
       "      <th>middle class young single</th>\n",
       "      <td>1331</td>\n",
       "      <td>1060</td>\n",
       "      <td>1996</td>\n",
       "      <td>1432</td>\n",
       "    </tr>\n",
       "    <tr>\n",
       "      <th>upper class large family</th>\n",
       "      <td>14</td>\n",
       "      <td>11</td>\n",
       "      <td>24</td>\n",
       "      <td>25</td>\n",
       "    </tr>\n",
       "    <tr>\n",
       "      <th>upper class medium family</th>\n",
       "      <td>25</td>\n",
       "      <td>15</td>\n",
       "      <td>30</td>\n",
       "      <td>24</td>\n",
       "    </tr>\n",
       "    <tr>\n",
       "      <th>upper class small family</th>\n",
       "      <td>25</td>\n",
       "      <td>10</td>\n",
       "      <td>29</td>\n",
       "      <td>22</td>\n",
       "    </tr>\n",
       "    <tr>\n",
       "      <th>upper-middle class large family</th>\n",
       "      <td>4169</td>\n",
       "      <td>3053</td>\n",
       "      <td>5768</td>\n",
       "      <td>4418</td>\n",
       "    </tr>\n",
       "    <tr>\n",
       "      <th>upper-middle class medium family</th>\n",
       "      <td>4131</td>\n",
       "      <td>3041</td>\n",
       "      <td>5668</td>\n",
       "      <td>4438</td>\n",
       "    </tr>\n",
       "    <tr>\n",
       "      <th>upper-middle class single</th>\n",
       "      <td>4063</td>\n",
       "      <td>3106</td>\n",
       "      <td>5706</td>\n",
       "      <td>4370</td>\n",
       "    </tr>\n",
       "    <tr>\n",
       "      <th>upper-middle class small family</th>\n",
       "      <td>4201</td>\n",
       "      <td>3068</td>\n",
       "      <td>5732</td>\n",
       "      <td>4377</td>\n",
       "    </tr>\n",
       "    <tr>\n",
       "      <th>upper-middle class young single</th>\n",
       "      <td>106</td>\n",
       "      <td>48</td>\n",
       "      <td>169</td>\n",
       "      <td>104</td>\n",
       "    </tr>\n",
       "    <tr>\n",
       "      <th>working class large family</th>\n",
       "      <td>1361</td>\n",
       "      <td>975</td>\n",
       "      <td>1948</td>\n",
       "      <td>1494</td>\n",
       "    </tr>\n",
       "    <tr>\n",
       "      <th>working class medium family</th>\n",
       "      <td>1417</td>\n",
       "      <td>1030</td>\n",
       "      <td>1855</td>\n",
       "      <td>1436</td>\n",
       "    </tr>\n",
       "    <tr>\n",
       "      <th>working class single</th>\n",
       "      <td>1083</td>\n",
       "      <td>816</td>\n",
       "      <td>1574</td>\n",
       "      <td>1208</td>\n",
       "    </tr>\n",
       "    <tr>\n",
       "      <th>working class small family</th>\n",
       "      <td>1309</td>\n",
       "      <td>1036</td>\n",
       "      <td>1953</td>\n",
       "      <td>1466</td>\n",
       "    </tr>\n",
       "    <tr>\n",
       "      <th>working class young single</th>\n",
       "      <td>721</td>\n",
       "      <td>583</td>\n",
       "      <td>1073</td>\n",
       "      <td>854</td>\n",
       "    </tr>\n",
       "  </tbody>\n",
       "</table>\n",
       "</div>"
      ],
      "text/plain": [
       "region                            Midwest  Northeast  South  West\n",
       "household_class&type                                             \n",
       "higher class single                    15         13     29    17\n",
       "higher class young single               7          4      2     4\n",
       "middle class large family            3441       2613   5002  3795\n",
       "middle class medium family           3417       2606   5049  3868\n",
       "middle class single                  2659       1907   3613  2846\n",
       "middle class small family            3460       2642   4994  3811\n",
       "middle class young single            1331       1060   1996  1432\n",
       "upper class large family               14         11     24    25\n",
       "upper class medium family              25         15     30    24\n",
       "upper class small family               25         10     29    22\n",
       "upper-middle class large family      4169       3053   5768  4418\n",
       "upper-middle class medium family     4131       3041   5668  4438\n",
       "upper-middle class single            4063       3106   5706  4370\n",
       "upper-middle class small family      4201       3068   5732  4377\n",
       "upper-middle class young single       106         48    169   104\n",
       "working class large family           1361        975   1948  1494\n",
       "working class medium family          1417       1030   1855  1436\n",
       "working class single                 1083        816   1574  1208\n",
       "working class small family           1309       1036   1953  1466\n",
       "working class young single            721        583   1073   854"
      ]
     },
     "execution_count": 217,
     "metadata": {},
     "output_type": "execute_result"
    }
   ],
   "source": [
    "# Check the output\n",
    "\n",
    "hous_reg"
   ]
  },
  {
   "cell_type": "code",
   "execution_count": 223,
   "metadata": {},
   "outputs": [
    {
     "data": {
      "text/plain": [
       "Text(0.5, 1.0, 'Number of customers by household class&type and region')"
      ]
     },
     "execution_count": 223,
     "metadata": {},
     "output_type": "execute_result"
    },
    {
     "data": {
      "image/png": "[encoded data removed]",
      "text/plain": [
       "<Figure size 720x432 with 1 Axes>"
      ]
     },
     "metadata": {
      "needs_background": "light"
     },
     "output_type": "display_data"
    }
   ],
   "source": [
    "# Create a chart \n",
    "\n",
    "hous_reg_bar = hous_reg.plot.barh(xlabel = (''), stacked = True, figsize = (10, 6))\n",
    "\n",
    "plt.title('Number of customers by household class&type and region', fontsize = 16)"
   ]
  },
  {
   "cell_type": "code",
   "execution_count": 222,
   "metadata": {},
   "outputs": [],
   "source": [
    "# Export chart outside of Jupyter in the form of an image file\n",
    "\n",
    "hous_reg_bar.figure.savefig(os.path.join(path, '04 Analysis','Visualizations', 'hous_reg_bar.png'))"
   ]
  },
  {
   "cell_type": "markdown",
   "metadata": {},
   "source": [
    "#### d) Is there a connection between age and family status in terms of ordering habits?"
   ]
  },
  {
   "cell_type": "code",
   "execution_count": 231,
   "metadata": {},
   "outputs": [],
   "source": [
    "# Create a pivot table, count of product purchased by household type and price range \n",
    "\n",
    "hous_price = pd.crosstab(index=df['household_class&type'],\n",
    "                      columns=df['price_range'], \n",
    "                      values=df['product_id'], \n",
    "                      aggfunc='nunique')"
   ]
  },
  {
   "cell_type": "code",
   "execution_count": 232,
   "metadata": {},
   "outputs": [
    {
     "data": {
      "text/html": [
       "<div>\n",
       "<style scoped>\n",
       "    .dataframe tbody tr th:only-of-type {\n",
       "        vertical-align: middle;\n",
       "    }\n",
       "\n",
       "    .dataframe tbody tr th {\n",
       "        vertical-align: top;\n",
       "    }\n",
       "\n",
       "    .dataframe thead th {\n",
       "        text-align: right;\n",
       "    }\n",
       "</style>\n",
       "<table border=\"1\" class=\"dataframe\">\n",
       "  <thead>\n",
       "    <tr style=\"text-align: right;\">\n",
       "      <th>price_range</th>\n",
       "      <th>High range</th>\n",
       "      <th>Low-range product</th>\n",
       "      <th>Mid-range product</th>\n",
       "    </tr>\n",
       "    <tr>\n",
       "      <th>household_class&amp;type</th>\n",
       "      <th></th>\n",
       "      <th></th>\n",
       "      <th></th>\n",
       "    </tr>\n",
       "  </thead>\n",
       "  <tbody>\n",
       "    <tr>\n",
       "      <th>higher class single</th>\n",
       "      <td>74</td>\n",
       "      <td>1720</td>\n",
       "      <td>3420</td>\n",
       "    </tr>\n",
       "    <tr>\n",
       "      <th>higher class young single</th>\n",
       "      <td>24</td>\n",
       "      <td>523</td>\n",
       "      <td>1087</td>\n",
       "    </tr>\n",
       "    <tr>\n",
       "      <th>middle class large family</th>\n",
       "      <td>460</td>\n",
       "      <td>13121</td>\n",
       "      <td>26544</td>\n",
       "    </tr>\n",
       "    <tr>\n",
       "      <th>middle class medium family</th>\n",
       "      <td>467</td>\n",
       "      <td>13129</td>\n",
       "      <td>26425</td>\n",
       "    </tr>\n",
       "    <tr>\n",
       "      <th>middle class single</th>\n",
       "      <td>443</td>\n",
       "      <td>12236</td>\n",
       "      <td>24750</td>\n",
       "    </tr>\n",
       "    <tr>\n",
       "      <th>middle class small family</th>\n",
       "      <td>458</td>\n",
       "      <td>13169</td>\n",
       "      <td>26639</td>\n",
       "    </tr>\n",
       "    <tr>\n",
       "      <th>middle class young single</th>\n",
       "      <td>391</td>\n",
       "      <td>10368</td>\n",
       "      <td>21020</td>\n",
       "    </tr>\n",
       "    <tr>\n",
       "      <th>upper class large family</th>\n",
       "      <td>70</td>\n",
       "      <td>1577</td>\n",
       "      <td>3195</td>\n",
       "    </tr>\n",
       "    <tr>\n",
       "      <th>upper class medium family</th>\n",
       "      <td>72</td>\n",
       "      <td>1751</td>\n",
       "      <td>3571</td>\n",
       "    </tr>\n",
       "    <tr>\n",
       "      <th>upper class small family</th>\n",
       "      <td>77</td>\n",
       "      <td>1657</td>\n",
       "      <td>3375</td>\n",
       "    </tr>\n",
       "    <tr>\n",
       "      <th>upper-middle class large family</th>\n",
       "      <td>484</td>\n",
       "      <td>13605</td>\n",
       "      <td>27622</td>\n",
       "    </tr>\n",
       "    <tr>\n",
       "      <th>upper-middle class medium family</th>\n",
       "      <td>485</td>\n",
       "      <td>13633</td>\n",
       "      <td>27629</td>\n",
       "    </tr>\n",
       "    <tr>\n",
       "      <th>upper-middle class single</th>\n",
       "      <td>483</td>\n",
       "      <td>13575</td>\n",
       "      <td>27514</td>\n",
       "    </tr>\n",
       "    <tr>\n",
       "      <th>upper-middle class small family</th>\n",
       "      <td>486</td>\n",
       "      <td>13487</td>\n",
       "      <td>27512</td>\n",
       "    </tr>\n",
       "    <tr>\n",
       "      <th>upper-middle class young single</th>\n",
       "      <td>168</td>\n",
       "      <td>3847</td>\n",
       "      <td>7941</td>\n",
       "    </tr>\n",
       "    <tr>\n",
       "      <th>working class large family</th>\n",
       "      <td>269</td>\n",
       "      <td>9686</td>\n",
       "      <td>17825</td>\n",
       "    </tr>\n",
       "    <tr>\n",
       "      <th>working class medium family</th>\n",
       "      <td>272</td>\n",
       "      <td>9635</td>\n",
       "      <td>17629</td>\n",
       "    </tr>\n",
       "    <tr>\n",
       "      <th>working class single</th>\n",
       "      <td>280</td>\n",
       "      <td>8964</td>\n",
       "      <td>16310</td>\n",
       "    </tr>\n",
       "    <tr>\n",
       "      <th>working class small family</th>\n",
       "      <td>274</td>\n",
       "      <td>9661</td>\n",
       "      <td>17658</td>\n",
       "    </tr>\n",
       "    <tr>\n",
       "      <th>working class young single</th>\n",
       "      <td>242</td>\n",
       "      <td>8263</td>\n",
       "      <td>15273</td>\n",
       "    </tr>\n",
       "  </tbody>\n",
       "</table>\n",
       "</div>"
      ],
      "text/plain": [
       "price_range                       High range  Low-range product  \\\n",
       "household_class&type                                              \n",
       "higher class single                       74               1720   \n",
       "higher class young single                 24                523   \n",
       "middle class large family                460              13121   \n",
       "middle class medium family               467              13129   \n",
       "middle class single                      443              12236   \n",
       "middle class small family                458              13169   \n",
       "middle class young single                391              10368   \n",
       "upper class large family                  70               1577   \n",
       "upper class medium family                 72               1751   \n",
       "upper class small family                  77               1657   \n",
       "upper-middle class large family          484              13605   \n",
       "upper-middle class medium family         485              13633   \n",
       "upper-middle class single                483              13575   \n",
       "upper-middle class small family          486              13487   \n",
       "upper-middle class young single          168               3847   \n",
       "working class large family               269               9686   \n",
       "working class medium family              272               9635   \n",
       "working class single                     280               8964   \n",
       "working class small family               274               9661   \n",
       "working class young single               242               8263   \n",
       "\n",
       "price_range                       Mid-range product  \n",
       "household_class&type                                 \n",
       "higher class single                            3420  \n",
       "higher class young single                      1087  \n",
       "middle class large family                     26544  \n",
       "middle class medium family                    26425  \n",
       "middle class single                           24750  \n",
       "middle class small family                     26639  \n",
       "middle class young single                     21020  \n",
       "upper class large family                       3195  \n",
       "upper class medium family                      3571  \n",
       "upper class small family                       3375  \n",
       "upper-middle class large family               27622  \n",
       "upper-middle class medium family              27629  \n",
       "upper-middle class single                     27514  \n",
       "upper-middle class small family               27512  \n",
       "upper-middle class young single                7941  \n",
       "working class large family                    17825  \n",
       "working class medium family                   17629  \n",
       "working class single                          16310  \n",
       "working class small family                    17658  \n",
       "working class young single                    15273  "
      ]
     },
     "execution_count": 232,
     "metadata": {},
     "output_type": "execute_result"
    }
   ],
   "source": [
    "# Check the output \n",
    "\n",
    "hous_price"
   ]
  },
  {
   "cell_type": "code",
   "execution_count": 234,
   "metadata": {},
   "outputs": [
    {
     "data": {
      "text/plain": [
       "Text(0.5, 1.0, 'Number of products purchased within a certain price range by class and household type')"
      ]
     },
     "execution_count": 234,
     "metadata": {},
     "output_type": "execute_result"
    },
    {
     "data": {
      "image/png": "[encoded data removed]",
      "text/plain": [
       "<Figure size 720x432 with 1 Axes>"
      ]
     },
     "metadata": {
      "needs_background": "light"
     },
     "output_type": "display_data"
    }
   ],
   "source": [
    "# Create a chart \n",
    "\n",
    "hous_price_bar = hous_price.plot.barh(xlabel = (''), stacked = True, figsize = (10, 6))\n",
    "\n",
    "plt.title('Number of products purchased within a certain price range by class and household type', fontsize = 16)"
   ]
  },
  {
   "cell_type": "code",
   "execution_count": 236,
   "metadata": {},
   "outputs": [],
   "source": [
    "# Export chart outside of Jupyter in the form of an image file\n",
    "\n",
    "hous_price_bar.figure.savefig(os.path.join(path, '04 Analysis','Visualizations', 'hous_price_bar.png'))"
   ]
  },
  {
   "cell_type": "code",
   "execution_count": 319,
   "metadata": {},
   "outputs": [],
   "source": [
    "# Create a pivot table, count of customers by household type and frequency flag\n",
    "\n",
    "hous_freq = pd.crosstab(index=df['household_class&type'],\n",
    "                      columns=df['freq_flag'], \n",
    "                      values=df['user_id'], \n",
    "                      aggfunc='nunique')"
   ]
  },
  {
   "cell_type": "code",
   "execution_count": 320,
   "metadata": {},
   "outputs": [
    {
     "data": {
      "text/html": [
       "<div>\n",
       "<style scoped>\n",
       "    .dataframe tbody tr th:only-of-type {\n",
       "        vertical-align: middle;\n",
       "    }\n",
       "\n",
       "    .dataframe tbody tr th {\n",
       "        vertical-align: top;\n",
       "    }\n",
       "\n",
       "    .dataframe thead th {\n",
       "        text-align: right;\n",
       "    }\n",
       "</style>\n",
       "<table border=\"1\" class=\"dataframe\">\n",
       "  <thead>\n",
       "    <tr style=\"text-align: right;\">\n",
       "      <th>freq_flag</th>\n",
       "      <th>Frequent customer</th>\n",
       "      <th>Non-frequent customer</th>\n",
       "      <th>Regular customer</th>\n",
       "    </tr>\n",
       "    <tr>\n",
       "      <th>household_class&amp;type</th>\n",
       "      <th></th>\n",
       "      <th></th>\n",
       "      <th></th>\n",
       "    </tr>\n",
       "  </thead>\n",
       "  <tbody>\n",
       "    <tr>\n",
       "      <th>higher class single</th>\n",
       "      <td>38</td>\n",
       "      <td>14</td>\n",
       "      <td>22</td>\n",
       "    </tr>\n",
       "    <tr>\n",
       "      <th>higher class young single</th>\n",
       "      <td>8</td>\n",
       "      <td>5</td>\n",
       "      <td>4</td>\n",
       "    </tr>\n",
       "    <tr>\n",
       "      <th>middle class large family</th>\n",
       "      <td>6983</td>\n",
       "      <td>3315</td>\n",
       "      <td>4553</td>\n",
       "    </tr>\n",
       "    <tr>\n",
       "      <th>middle class medium family</th>\n",
       "      <td>7016</td>\n",
       "      <td>3312</td>\n",
       "      <td>4612</td>\n",
       "    </tr>\n",
       "    <tr>\n",
       "      <th>middle class single</th>\n",
       "      <td>5172</td>\n",
       "      <td>2429</td>\n",
       "      <td>3424</td>\n",
       "    </tr>\n",
       "    <tr>\n",
       "      <th>middle class small family</th>\n",
       "      <td>7069</td>\n",
       "      <td>3250</td>\n",
       "      <td>4588</td>\n",
       "    </tr>\n",
       "    <tr>\n",
       "      <th>middle class young single</th>\n",
       "      <td>2747</td>\n",
       "      <td>1279</td>\n",
       "      <td>1793</td>\n",
       "    </tr>\n",
       "    <tr>\n",
       "      <th>upper class large family</th>\n",
       "      <td>39</td>\n",
       "      <td>12</td>\n",
       "      <td>23</td>\n",
       "    </tr>\n",
       "    <tr>\n",
       "      <th>upper class medium family</th>\n",
       "      <td>52</td>\n",
       "      <td>11</td>\n",
       "      <td>31</td>\n",
       "    </tr>\n",
       "    <tr>\n",
       "      <th>upper class small family</th>\n",
       "      <td>47</td>\n",
       "      <td>12</td>\n",
       "      <td>27</td>\n",
       "    </tr>\n",
       "    <tr>\n",
       "      <th>upper-middle class large family</th>\n",
       "      <td>8323</td>\n",
       "      <td>3757</td>\n",
       "      <td>5328</td>\n",
       "    </tr>\n",
       "    <tr>\n",
       "      <th>upper-middle class medium family</th>\n",
       "      <td>8313</td>\n",
       "      <td>3707</td>\n",
       "      <td>5258</td>\n",
       "    </tr>\n",
       "    <tr>\n",
       "      <th>upper-middle class single</th>\n",
       "      <td>8210</td>\n",
       "      <td>3689</td>\n",
       "      <td>5346</td>\n",
       "    </tr>\n",
       "    <tr>\n",
       "      <th>upper-middle class small family</th>\n",
       "      <td>8248</td>\n",
       "      <td>3825</td>\n",
       "      <td>5305</td>\n",
       "    </tr>\n",
       "    <tr>\n",
       "      <th>upper-middle class young single</th>\n",
       "      <td>208</td>\n",
       "      <td>86</td>\n",
       "      <td>133</td>\n",
       "    </tr>\n",
       "    <tr>\n",
       "      <th>working class large family</th>\n",
       "      <td>2480</td>\n",
       "      <td>1473</td>\n",
       "      <td>1825</td>\n",
       "    </tr>\n",
       "    <tr>\n",
       "      <th>working class medium family</th>\n",
       "      <td>2401</td>\n",
       "      <td>1564</td>\n",
       "      <td>1773</td>\n",
       "    </tr>\n",
       "    <tr>\n",
       "      <th>working class single</th>\n",
       "      <td>1960</td>\n",
       "      <td>1253</td>\n",
       "      <td>1468</td>\n",
       "    </tr>\n",
       "    <tr>\n",
       "      <th>working class small family</th>\n",
       "      <td>2434</td>\n",
       "      <td>1552</td>\n",
       "      <td>1778</td>\n",
       "    </tr>\n",
       "    <tr>\n",
       "      <th>working class young single</th>\n",
       "      <td>1355</td>\n",
       "      <td>860</td>\n",
       "      <td>1016</td>\n",
       "    </tr>\n",
       "  </tbody>\n",
       "</table>\n",
       "</div>"
      ],
      "text/plain": [
       "freq_flag                         Frequent customer  Non-frequent customer  \\\n",
       "household_class&type                                                         \n",
       "higher class single                              38                     14   \n",
       "higher class young single                         8                      5   \n",
       "middle class large family                      6983                   3315   \n",
       "middle class medium family                     7016                   3312   \n",
       "middle class single                            5172                   2429   \n",
       "middle class small family                      7069                   3250   \n",
       "middle class young single                      2747                   1279   \n",
       "upper class large family                         39                     12   \n",
       "upper class medium family                        52                     11   \n",
       "upper class small family                         47                     12   \n",
       "upper-middle class large family                8323                   3757   \n",
       "upper-middle class medium family               8313                   3707   \n",
       "upper-middle class single                      8210                   3689   \n",
       "upper-middle class small family                8248                   3825   \n",
       "upper-middle class young single                 208                     86   \n",
       "working class large family                     2480                   1473   \n",
       "working class medium family                    2401                   1564   \n",
       "working class single                           1960                   1253   \n",
       "working class small family                     2434                   1552   \n",
       "working class young single                     1355                    860   \n",
       "\n",
       "freq_flag                         Regular customer  \n",
       "household_class&type                                \n",
       "higher class single                             22  \n",
       "higher class young single                        4  \n",
       "middle class large family                     4553  \n",
       "middle class medium family                    4612  \n",
       "middle class single                           3424  \n",
       "middle class small family                     4588  \n",
       "middle class young single                     1793  \n",
       "upper class large family                        23  \n",
       "upper class medium family                       31  \n",
       "upper class small family                        27  \n",
       "upper-middle class large family               5328  \n",
       "upper-middle class medium family              5258  \n",
       "upper-middle class single                     5346  \n",
       "upper-middle class small family               5305  \n",
       "upper-middle class young single                133  \n",
       "working class large family                    1825  \n",
       "working class medium family                   1773  \n",
       "working class single                          1468  \n",
       "working class small family                    1778  \n",
       "working class young single                    1016  "
      ]
     },
     "execution_count": 320,
     "metadata": {},
     "output_type": "execute_result"
    }
   ],
   "source": [
    "# Check the output \n",
    "\n",
    "hous_freq"
   ]
  },
  {
   "cell_type": "code",
   "execution_count": 321,
   "metadata": {},
   "outputs": [
    {
     "data": {
      "text/plain": [
       "Text(0.5, 1.0, 'Number of customers within each household by frequency flag')"
      ]
     },
     "execution_count": 321,
     "metadata": {},
     "output_type": "execute_result"
    },
    {
     "data": {
      "image/png": "[encoded data removed]",
      "text/plain": [
       "<Figure size 720x432 with 1 Axes>"
      ]
     },
     "metadata": {
      "needs_background": "light"
     },
     "output_type": "display_data"
    }
   ],
   "source": [
    "# Create a chart \n",
    "\n",
    "hous_freq_bar = hous_freq.plot.barh(xlabel = (''), stacked = True, figsize = (10, 6))\n",
    "\n",
    "plt.title('Number of customers within each household by frequency flag', fontsize = 16)"
   ]
  },
  {
   "cell_type": "code",
   "execution_count": 322,
   "metadata": {},
   "outputs": [],
   "source": [
    "# Export chart outside of Jupyter in the form of an image file\n",
    "\n",
    "hous_freq_bar.figure.savefig(os.path.join(path, '04 Analysis','Visualizations', 'hous_freq_bar.png'))"
   ]
  },
  {
   "cell_type": "code",
   "execution_count": 323,
   "metadata": {},
   "outputs": [],
   "source": [
    "# Create a pivot table, count of customers by household type and spending flag\n",
    "\n",
    "hous_spend = pd.crosstab(index=df['household_class&type'],\n",
    "                      columns=df['spending_flag'], \n",
    "                      values=df['user_id'], \n",
    "                      aggfunc='nunique')"
   ]
  },
  {
   "cell_type": "code",
   "execution_count": 324,
   "metadata": {},
   "outputs": [
    {
     "data": {
      "text/html": [
       "<div>\n",
       "<style scoped>\n",
       "    .dataframe tbody tr th:only-of-type {\n",
       "        vertical-align: middle;\n",
       "    }\n",
       "\n",
       "    .dataframe tbody tr th {\n",
       "        vertical-align: top;\n",
       "    }\n",
       "\n",
       "    .dataframe thead th {\n",
       "        text-align: right;\n",
       "    }\n",
       "</style>\n",
       "<table border=\"1\" class=\"dataframe\">\n",
       "  <thead>\n",
       "    <tr style=\"text-align: right;\">\n",
       "      <th>spending_flag</th>\n",
       "      <th>High spender</th>\n",
       "      <th>Low spender</th>\n",
       "    </tr>\n",
       "    <tr>\n",
       "      <th>household_class&amp;type</th>\n",
       "      <th></th>\n",
       "      <th></th>\n",
       "    </tr>\n",
       "  </thead>\n",
       "  <tbody>\n",
       "    <tr>\n",
       "      <th>higher class single</th>\n",
       "      <td>74</td>\n",
       "      <td>0</td>\n",
       "    </tr>\n",
       "    <tr>\n",
       "      <th>higher class young single</th>\n",
       "      <td>17</td>\n",
       "      <td>0</td>\n",
       "    </tr>\n",
       "    <tr>\n",
       "      <th>middle class large family</th>\n",
       "      <td>226</td>\n",
       "      <td>14625</td>\n",
       "    </tr>\n",
       "    <tr>\n",
       "      <th>middle class medium family</th>\n",
       "      <td>220</td>\n",
       "      <td>14720</td>\n",
       "    </tr>\n",
       "    <tr>\n",
       "      <th>middle class single</th>\n",
       "      <td>157</td>\n",
       "      <td>10868</td>\n",
       "    </tr>\n",
       "    <tr>\n",
       "      <th>middle class small family</th>\n",
       "      <td>211</td>\n",
       "      <td>14696</td>\n",
       "    </tr>\n",
       "    <tr>\n",
       "      <th>middle class young single</th>\n",
       "      <td>95</td>\n",
       "      <td>5724</td>\n",
       "    </tr>\n",
       "    <tr>\n",
       "      <th>upper class large family</th>\n",
       "      <td>74</td>\n",
       "      <td>0</td>\n",
       "    </tr>\n",
       "    <tr>\n",
       "      <th>upper class medium family</th>\n",
       "      <td>94</td>\n",
       "      <td>0</td>\n",
       "    </tr>\n",
       "    <tr>\n",
       "      <th>upper class small family</th>\n",
       "      <td>86</td>\n",
       "      <td>0</td>\n",
       "    </tr>\n",
       "    <tr>\n",
       "      <th>upper-middle class large family</th>\n",
       "      <td>570</td>\n",
       "      <td>16838</td>\n",
       "    </tr>\n",
       "    <tr>\n",
       "      <th>upper-middle class medium family</th>\n",
       "      <td>570</td>\n",
       "      <td>16708</td>\n",
       "    </tr>\n",
       "    <tr>\n",
       "      <th>upper-middle class single</th>\n",
       "      <td>524</td>\n",
       "      <td>16721</td>\n",
       "    </tr>\n",
       "    <tr>\n",
       "      <th>upper-middle class small family</th>\n",
       "      <td>534</td>\n",
       "      <td>16844</td>\n",
       "    </tr>\n",
       "    <tr>\n",
       "      <th>upper-middle class young single</th>\n",
       "      <td>117</td>\n",
       "      <td>310</td>\n",
       "    </tr>\n",
       "    <tr>\n",
       "      <th>working class large family</th>\n",
       "      <td>10</td>\n",
       "      <td>5768</td>\n",
       "    </tr>\n",
       "    <tr>\n",
       "      <th>working class medium family</th>\n",
       "      <td>7</td>\n",
       "      <td>5731</td>\n",
       "    </tr>\n",
       "    <tr>\n",
       "      <th>working class single</th>\n",
       "      <td>6</td>\n",
       "      <td>4675</td>\n",
       "    </tr>\n",
       "    <tr>\n",
       "      <th>working class small family</th>\n",
       "      <td>3</td>\n",
       "      <td>5761</td>\n",
       "    </tr>\n",
       "    <tr>\n",
       "      <th>working class young single</th>\n",
       "      <td>7</td>\n",
       "      <td>3224</td>\n",
       "    </tr>\n",
       "  </tbody>\n",
       "</table>\n",
       "</div>"
      ],
      "text/plain": [
       "spending_flag                     High spender  Low spender\n",
       "household_class&type                                       \n",
       "higher class single                         74            0\n",
       "higher class young single                   17            0\n",
       "middle class large family                  226        14625\n",
       "middle class medium family                 220        14720\n",
       "middle class single                        157        10868\n",
       "middle class small family                  211        14696\n",
       "middle class young single                   95         5724\n",
       "upper class large family                    74            0\n",
       "upper class medium family                   94            0\n",
       "upper class small family                    86            0\n",
       "upper-middle class large family            570        16838\n",
       "upper-middle class medium family           570        16708\n",
       "upper-middle class single                  524        16721\n",
       "upper-middle class small family            534        16844\n",
       "upper-middle class young single            117          310\n",
       "working class large family                  10         5768\n",
       "working class medium family                  7         5731\n",
       "working class single                         6         4675\n",
       "working class small family                   3         5761\n",
       "working class young single                   7         3224"
      ]
     },
     "execution_count": 324,
     "metadata": {},
     "output_type": "execute_result"
    }
   ],
   "source": [
    "# Check the output\n",
    "\n",
    "hous_spend"
   ]
  },
  {
   "cell_type": "code",
   "execution_count": 325,
   "metadata": {},
   "outputs": [
    {
     "data": {
      "text/plain": [
       "Text(0.5, 1.0, 'Number of customers within each household by spending flag')"
      ]
     },
     "execution_count": 325,
     "metadata": {},
     "output_type": "execute_result"
    },
    {
     "data": {
      "image/png": "[encoded data removed]",
      "text/plain": [
       "<Figure size 720x432 with 1 Axes>"
      ]
     },
     "metadata": {
      "needs_background": "light"
     },
     "output_type": "display_data"
    }
   ],
   "source": [
    "# Create a chart \n",
    "\n",
    "colors = ('#F7851E', '#2CA32C')\n",
    "\n",
    "hous_spend_bar = hous_spend.plot.barh(xlabel = (''), stacked = True, figsize = (10, 6), color = colors)\n",
    "\n",
    "plt.title('Number of customers within each household by spending flag', fontsize = 16)"
   ]
  },
  {
   "cell_type": "code",
   "execution_count": 326,
   "metadata": {},
   "outputs": [],
   "source": [
    "# Export chart outside of Jupyter in the form of an image file\n",
    "\n",
    "hous_spend_bar.figure.savefig(os.path.join(path, '04 Analysis','Visualizations', 'hous_spend_bar.png'))"
   ]
  },
  {
   "cell_type": "code",
   "execution_count": 237,
   "metadata": {},
   "outputs": [],
   "source": [
    "# Create a pivot, count of product purched by age group broken down by price range\n",
    "\n",
    "age_price = pd.crosstab(index=df['age_group'],\n",
    "                      columns=df['price_range'], \n",
    "                      values=df['product_id'], \n",
    "                      aggfunc='nunique')"
   ]
  },
  {
   "cell_type": "code",
   "execution_count": 238,
   "metadata": {},
   "outputs": [
    {
     "data": {
      "text/html": [
       "<div>\n",
       "<style scoped>\n",
       "    .dataframe tbody tr th:only-of-type {\n",
       "        vertical-align: middle;\n",
       "    }\n",
       "\n",
       "    .dataframe tbody tr th {\n",
       "        vertical-align: top;\n",
       "    }\n",
       "\n",
       "    .dataframe thead th {\n",
       "        text-align: right;\n",
       "    }\n",
       "</style>\n",
       "<table border=\"1\" class=\"dataframe\">\n",
       "  <thead>\n",
       "    <tr style=\"text-align: right;\">\n",
       "      <th>price_range</th>\n",
       "      <th>High range</th>\n",
       "      <th>Low-range product</th>\n",
       "      <th>Mid-range product</th>\n",
       "    </tr>\n",
       "    <tr>\n",
       "      <th>age_group</th>\n",
       "      <th></th>\n",
       "      <th></th>\n",
       "      <th></th>\n",
       "    </tr>\n",
       "  </thead>\n",
       "  <tbody>\n",
       "    <tr>\n",
       "      <th>18-29</th>\n",
       "      <td>510</td>\n",
       "      <td>14798</td>\n",
       "      <td>29700</td>\n",
       "    </tr>\n",
       "    <tr>\n",
       "      <th>30-39</th>\n",
       "      <td>498</td>\n",
       "      <td>14376</td>\n",
       "      <td>28937</td>\n",
       "    </tr>\n",
       "    <tr>\n",
       "      <th>40-49</th>\n",
       "      <td>496</td>\n",
       "      <td>14414</td>\n",
       "      <td>29055</td>\n",
       "    </tr>\n",
       "    <tr>\n",
       "      <th>50-65</th>\n",
       "      <td>519</td>\n",
       "      <td>15164</td>\n",
       "      <td>30556</td>\n",
       "    </tr>\n",
       "    <tr>\n",
       "      <th>65+</th>\n",
       "      <td>523</td>\n",
       "      <td>15347</td>\n",
       "      <td>30975</td>\n",
       "    </tr>\n",
       "  </tbody>\n",
       "</table>\n",
       "</div>"
      ],
      "text/plain": [
       "price_range  High range  Low-range product  Mid-range product\n",
       "age_group                                                    \n",
       "18-29               510              14798              29700\n",
       "30-39               498              14376              28937\n",
       "40-49               496              14414              29055\n",
       "50-65               519              15164              30556\n",
       "65+                 523              15347              30975"
      ]
     },
     "execution_count": 238,
     "metadata": {},
     "output_type": "execute_result"
    }
   ],
   "source": [
    "# Chcek the output \n",
    "\n",
    "age_price"
   ]
  },
  {
   "cell_type": "code",
   "execution_count": 241,
   "metadata": {},
   "outputs": [
    {
     "data": {
      "text/plain": [
       "Text(0.5, 1.0, 'Number of products purchased within a certain price range by age group')"
      ]
     },
     "execution_count": 241,
     "metadata": {},
     "output_type": "execute_result"
    },
    {
     "data": {
      "image/png": "[encoded data removed]",
      "text/plain": [
       "<Figure size 720x432 with 1 Axes>"
      ]
     },
     "metadata": {
      "needs_background": "light"
     },
     "output_type": "display_data"
    }
   ],
   "source": [
    "# Create a chart \n",
    "\n",
    "age_price_bar = age_price.plot.bar(xlabel = (''), stacked = True, figsize = (10, 6), rot = 30)\n",
    "\n",
    "plt.title('Number of products purchased within a certain price range by age group', fontsize = 16)"
   ]
  },
  {
   "cell_type": "code",
   "execution_count": null,
   "metadata": {},
   "outputs": [],
   "source": [
    "# Export chart outside of Jupyter in the form of an image file\n",
    "\n",
    "age_price_bar.figure.savefig(os.path.join(path, '04 Analysis','Visualizations', 'age_price_bar.png'))"
   ]
  },
  {
   "cell_type": "code",
   "execution_count": 81,
   "metadata": {},
   "outputs": [],
   "source": [
    "# Create a pivot table, count of products purchased from each department by age group\n",
    "\n",
    "age_depa = pd.crosstab(index=df['department'],\n",
    "                      columns=df['age_group'], \n",
    "                      values=df['prices'], \n",
    "                      aggfunc='count')"
   ]
  },
  {
   "cell_type": "code",
   "execution_count": 82,
   "metadata": {},
   "outputs": [
    {
     "data": {
      "text/html": [
       "<div>\n",
       "<style scoped>\n",
       "    .dataframe tbody tr th:only-of-type {\n",
       "        vertical-align: middle;\n",
       "    }\n",
       "\n",
       "    .dataframe tbody tr th {\n",
       "        vertical-align: top;\n",
       "    }\n",
       "\n",
       "    .dataframe thead th {\n",
       "        text-align: right;\n",
       "    }\n",
       "</style>\n",
       "<table border=\"1\" class=\"dataframe\">\n",
       "  <thead>\n",
       "    <tr style=\"text-align: right;\">\n",
       "      <th>age_group</th>\n",
       "      <th>18-29</th>\n",
       "      <th>30-39</th>\n",
       "      <th>40-49</th>\n",
       "      <th>50-65</th>\n",
       "      <th>65+</th>\n",
       "    </tr>\n",
       "    <tr>\n",
       "      <th>department</th>\n",
       "      <th></th>\n",
       "      <th></th>\n",
       "      <th></th>\n",
       "      <th></th>\n",
       "      <th></th>\n",
       "    </tr>\n",
       "  </thead>\n",
       "  <tbody>\n",
       "    <tr>\n",
       "      <th>alcohol</th>\n",
       "      <td>27938</td>\n",
       "      <td>23718</td>\n",
       "      <td>22437</td>\n",
       "      <td>33841</td>\n",
       "      <td>36693</td>\n",
       "    </tr>\n",
       "    <tr>\n",
       "      <th>babies</th>\n",
       "      <td>77758</td>\n",
       "      <td>63698</td>\n",
       "      <td>67072</td>\n",
       "      <td>95660</td>\n",
       "      <td>106204</td>\n",
       "    </tr>\n",
       "    <tr>\n",
       "      <th>bakery</th>\n",
       "      <td>210358</td>\n",
       "      <td>175644</td>\n",
       "      <td>176611</td>\n",
       "      <td>262218</td>\n",
       "      <td>295997</td>\n",
       "    </tr>\n",
       "    <tr>\n",
       "      <th>beverages</th>\n",
       "      <td>477655</td>\n",
       "      <td>396518</td>\n",
       "      <td>406669</td>\n",
       "      <td>607039</td>\n",
       "      <td>684020</td>\n",
       "    </tr>\n",
       "    <tr>\n",
       "      <th>breakfast</th>\n",
       "      <td>128115</td>\n",
       "      <td>103824</td>\n",
       "      <td>106309</td>\n",
       "      <td>157306</td>\n",
       "      <td>175296</td>\n",
       "    </tr>\n",
       "    <tr>\n",
       "      <th>bulk</th>\n",
       "      <td>6414</td>\n",
       "      <td>5210</td>\n",
       "      <td>5384</td>\n",
       "      <td>7498</td>\n",
       "      <td>8945</td>\n",
       "    </tr>\n",
       "    <tr>\n",
       "      <th>canned goods</th>\n",
       "      <td>192170</td>\n",
       "      <td>157546</td>\n",
       "      <td>158811</td>\n",
       "      <td>236038</td>\n",
       "      <td>267509</td>\n",
       "    </tr>\n",
       "    <tr>\n",
       "      <th>dairy eggs</th>\n",
       "      <td>975307</td>\n",
       "      <td>816326</td>\n",
       "      <td>819115</td>\n",
       "      <td>1194762</td>\n",
       "      <td>1366795</td>\n",
       "    </tr>\n",
       "    <tr>\n",
       "      <th>deli</th>\n",
       "      <td>188533</td>\n",
       "      <td>157312</td>\n",
       "      <td>158399</td>\n",
       "      <td>234391</td>\n",
       "      <td>265199</td>\n",
       "    </tr>\n",
       "    <tr>\n",
       "      <th>dry goods pasta</th>\n",
       "      <td>155887</td>\n",
       "      <td>127612</td>\n",
       "      <td>128379</td>\n",
       "      <td>192942</td>\n",
       "      <td>217316</td>\n",
       "    </tr>\n",
       "    <tr>\n",
       "      <th>frozen</th>\n",
       "      <td>398217</td>\n",
       "      <td>328586</td>\n",
       "      <td>332834</td>\n",
       "      <td>497844</td>\n",
       "      <td>564250</td>\n",
       "    </tr>\n",
       "    <tr>\n",
       "      <th>household</th>\n",
       "      <td>130400</td>\n",
       "      <td>108705</td>\n",
       "      <td>110817</td>\n",
       "      <td>163305</td>\n",
       "      <td>186630</td>\n",
       "    </tr>\n",
       "    <tr>\n",
       "      <th>international</th>\n",
       "      <td>48830</td>\n",
       "      <td>40016</td>\n",
       "      <td>40773</td>\n",
       "      <td>59173</td>\n",
       "      <td>67199</td>\n",
       "    </tr>\n",
       "    <tr>\n",
       "      <th>meat seafood</th>\n",
       "      <td>126384</td>\n",
       "      <td>104115</td>\n",
       "      <td>106314</td>\n",
       "      <td>156818</td>\n",
       "      <td>181150</td>\n",
       "    </tr>\n",
       "    <tr>\n",
       "      <th>missing</th>\n",
       "      <td>12569</td>\n",
       "      <td>9930</td>\n",
       "      <td>10573</td>\n",
       "      <td>14781</td>\n",
       "      <td>16915</td>\n",
       "    </tr>\n",
       "    <tr>\n",
       "      <th>other</th>\n",
       "      <td>6856</td>\n",
       "      <td>5262</td>\n",
       "      <td>5230</td>\n",
       "      <td>8117</td>\n",
       "      <td>8946</td>\n",
       "    </tr>\n",
       "    <tr>\n",
       "      <th>pantry</th>\n",
       "      <td>334193</td>\n",
       "      <td>277969</td>\n",
       "      <td>281478</td>\n",
       "      <td>416682</td>\n",
       "      <td>472383</td>\n",
       "    </tr>\n",
       "    <tr>\n",
       "      <th>personal care</th>\n",
       "      <td>79540</td>\n",
       "      <td>65267</td>\n",
       "      <td>68059</td>\n",
       "      <td>100388</td>\n",
       "      <td>111052</td>\n",
       "    </tr>\n",
       "    <tr>\n",
       "      <th>pets</th>\n",
       "      <td>18163</td>\n",
       "      <td>13755</td>\n",
       "      <td>14484</td>\n",
       "      <td>21543</td>\n",
       "      <td>25115</td>\n",
       "    </tr>\n",
       "    <tr>\n",
       "      <th>produce</th>\n",
       "      <td>1699431</td>\n",
       "      <td>1429422</td>\n",
       "      <td>1431873</td>\n",
       "      <td>2110443</td>\n",
       "      <td>2408104</td>\n",
       "    </tr>\n",
       "    <tr>\n",
       "      <th>snacks</th>\n",
       "      <td>521914</td>\n",
       "      <td>436373</td>\n",
       "      <td>430737</td>\n",
       "      <td>648833</td>\n",
       "      <td>728549</td>\n",
       "    </tr>\n",
       "  </tbody>\n",
       "</table>\n",
       "</div>"
      ],
      "text/plain": [
       "age_group          18-29    30-39    40-49    50-65      65+\n",
       "department                                                  \n",
       "alcohol            27938    23718    22437    33841    36693\n",
       "babies             77758    63698    67072    95660   106204\n",
       "bakery            210358   175644   176611   262218   295997\n",
       "beverages         477655   396518   406669   607039   684020\n",
       "breakfast         128115   103824   106309   157306   175296\n",
       "bulk                6414     5210     5384     7498     8945\n",
       "canned goods      192170   157546   158811   236038   267509\n",
       "dairy eggs        975307   816326   819115  1194762  1366795\n",
       "deli              188533   157312   158399   234391   265199\n",
       "dry goods pasta   155887   127612   128379   192942   217316\n",
       "frozen            398217   328586   332834   497844   564250\n",
       "household         130400   108705   110817   163305   186630\n",
       "international      48830    40016    40773    59173    67199\n",
       "meat seafood      126384   104115   106314   156818   181150\n",
       "missing            12569     9930    10573    14781    16915\n",
       "other               6856     5262     5230     8117     8946\n",
       "pantry            334193   277969   281478   416682   472383\n",
       "personal care      79540    65267    68059   100388   111052\n",
       "pets               18163    13755    14484    21543    25115\n",
       "produce          1699431  1429422  1431873  2110443  2408104\n",
       "snacks            521914   436373   430737   648833   728549"
      ]
     },
     "execution_count": 82,
     "metadata": {},
     "output_type": "execute_result"
    }
   ],
   "source": [
    "# Check the output \n",
    "\n",
    "age_depa"
   ]
  },
  {
   "cell_type": "code",
   "execution_count": 83,
   "metadata": {},
   "outputs": [],
   "source": [
    "# Sort the values\n",
    "\n",
    "age_depa = age_depa.loc[spe_dep.sum(axis=1).sort_values(ascending=True).index]"
   ]
  },
  {
   "cell_type": "code",
   "execution_count": 84,
   "metadata": {},
   "outputs": [
    {
     "data": {
      "text/plain": [
       "Text(0.5, 1.0, 'Purchases made in departments broken down into age group')"
      ]
     },
     "execution_count": 84,
     "metadata": {},
     "output_type": "execute_result"
    },
    {
     "data": {
      "image/png": "[encoded data removed]",
      "text/plain": [
       "<Figure size 720x432 with 1 Axes>"
      ]
     },
     "metadata": {
      "needs_background": "light"
     },
     "output_type": "display_data"
    }
   ],
   "source": [
    "# Create a chart \n",
    "\n",
    "age_depa_bar = age_depa.plot.barh(xlabel = (''), stacked = True, figsize = (10, 6))\n",
    "\n",
    "plt.title('Purchases made in departments broken down into age group', fontsize = 16)"
   ]
  },
  {
   "cell_type": "code",
   "execution_count": 85,
   "metadata": {},
   "outputs": [],
   "source": [
    "# Export chart outside of Jupyter in the form of an image file\n",
    "\n",
    "age_depa_bar.figure.savefig(os.path.join(path, '04 Analysis','Visualizations', 'age_depa_bar.png'))"
   ]
  },
  {
   "cell_type": "code",
   "execution_count": 24,
   "metadata": {},
   "outputs": [
    {
     "ename": "NameError",
     "evalue": "name 'active_customers' is not defined",
     "output_type": "error",
     "traceback": [
      "\u001b[0;31m---------------------------------------------------------------------------\u001b[0m",
      "\u001b[0;31mNameError\u001b[0m                                 Traceback (most recent call last)",
      "\u001b[0;32m<ipython-input-24-4d2ad8f7d10a>\u001b[0m in \u001b[0;36m<module>\u001b[0;34m\u001b[0m\n\u001b[1;32m      1\u001b[0m \u001b[0;31m# Create a pivot table frequency flag and household type\u001b[0m\u001b[0;34m\u001b[0m\u001b[0;34m\u001b[0m\u001b[0;34m\u001b[0m\u001b[0m\n\u001b[1;32m      2\u001b[0m \u001b[0;34m\u001b[0m\u001b[0m\n\u001b[0;32m----> 3\u001b[0;31m freq_house = pd.crosstab(index = active_customers['freq_flag'], \n\u001b[0m\u001b[1;32m      4\u001b[0m                           \u001b[0mcolumns\u001b[0m \u001b[0;34m=\u001b[0m \u001b[0mactive_customers\u001b[0m\u001b[0;34m[\u001b[0m\u001b[0;34m'household_type'\u001b[0m\u001b[0;34m]\u001b[0m\u001b[0;34m,\u001b[0m\u001b[0;34m\u001b[0m\u001b[0;34m\u001b[0m\u001b[0m\n\u001b[1;32m      5\u001b[0m                           \u001b[0mvalues\u001b[0m \u001b[0;34m=\u001b[0m \u001b[0mactive_customers\u001b[0m\u001b[0;34m[\u001b[0m\u001b[0;34m'order_id'\u001b[0m\u001b[0;34m]\u001b[0m\u001b[0;34m,\u001b[0m\u001b[0;34m\u001b[0m\u001b[0;34m\u001b[0m\u001b[0m\n",
      "\u001b[0;31mNameError\u001b[0m: name 'active_customers' is not defined"
     ]
    }
   ],
   "source": [
    "# Create a pivot table frequency flag and household type\n",
    "\n",
    "freq_house = pd.crosstab(index = active_customers['freq_flag'], \n",
    "                          columns = active_customers['household_type'], \n",
    "                          values = active_customers['order_id'], \n",
    "                          aggfunc = 'nunique')"
   ]
  },
  {
   "cell_type": "code",
   "execution_count": 90,
   "metadata": {},
   "outputs": [],
   "source": [
    "# Create a pivot table, count of products purchased from each department by household type\n",
    "\n",
    "depa_house = pd.crosstab(index=df['department'],\n",
    "                      columns=df['household_type'], \n",
    "                      values=df['prices'], \n",
    "                      aggfunc='count')"
   ]
  },
  {
   "cell_type": "code",
   "execution_count": 91,
   "metadata": {},
   "outputs": [
    {
     "data": {
      "text/html": [
       "<div>\n",
       "<style scoped>\n",
       "    .dataframe tbody tr th:only-of-type {\n",
       "        vertical-align: middle;\n",
       "    }\n",
       "\n",
       "    .dataframe tbody tr th {\n",
       "        vertical-align: top;\n",
       "    }\n",
       "\n",
       "    .dataframe thead th {\n",
       "        text-align: right;\n",
       "    }\n",
       "</style>\n",
       "<table border=\"1\" class=\"dataframe\">\n",
       "  <thead>\n",
       "    <tr style=\"text-align: right;\">\n",
       "      <th>household_type</th>\n",
       "      <th>large family</th>\n",
       "      <th>living with parents</th>\n",
       "      <th>medium family</th>\n",
       "      <th>one-person household</th>\n",
       "      <th>small family</th>\n",
       "    </tr>\n",
       "    <tr>\n",
       "      <th>department</th>\n",
       "      <th></th>\n",
       "      <th></th>\n",
       "      <th></th>\n",
       "      <th></th>\n",
       "      <th></th>\n",
       "    </tr>\n",
       "  </thead>\n",
       "  <tbody>\n",
       "    <tr>\n",
       "      <th>alcohol</th>\n",
       "      <td>34428</td>\n",
       "      <td>8379</td>\n",
       "      <td>31743</td>\n",
       "      <td>36827</td>\n",
       "      <td>33250</td>\n",
       "    </tr>\n",
       "    <tr>\n",
       "      <th>babies</th>\n",
       "      <td>96971</td>\n",
       "      <td>19381</td>\n",
       "      <td>97877</td>\n",
       "      <td>103328</td>\n",
       "      <td>92835</td>\n",
       "    </tr>\n",
       "    <tr>\n",
       "      <th>bakery</th>\n",
       "      <td>262021</td>\n",
       "      <td>53684</td>\n",
       "      <td>261546</td>\n",
       "      <td>281395</td>\n",
       "      <td>262182</td>\n",
       "    </tr>\n",
       "    <tr>\n",
       "      <th>beverages</th>\n",
       "      <td>602237</td>\n",
       "      <td>119107</td>\n",
       "      <td>607397</td>\n",
       "      <td>645341</td>\n",
       "      <td>597819</td>\n",
       "    </tr>\n",
       "    <tr>\n",
       "      <th>breakfast</th>\n",
       "      <td>156765</td>\n",
       "      <td>33198</td>\n",
       "      <td>156507</td>\n",
       "      <td>166432</td>\n",
       "      <td>157948</td>\n",
       "    </tr>\n",
       "    <tr>\n",
       "      <th>bulk</th>\n",
       "      <td>7734</td>\n",
       "      <td>1633</td>\n",
       "      <td>7990</td>\n",
       "      <td>8000</td>\n",
       "      <td>8094</td>\n",
       "    </tr>\n",
       "    <tr>\n",
       "      <th>canned goods</th>\n",
       "      <td>238959</td>\n",
       "      <td>48477</td>\n",
       "      <td>237493</td>\n",
       "      <td>251020</td>\n",
       "      <td>236125</td>\n",
       "    </tr>\n",
       "    <tr>\n",
       "      <th>dairy eggs</th>\n",
       "      <td>1211397</td>\n",
       "      <td>250014</td>\n",
       "      <td>1207646</td>\n",
       "      <td>1293203</td>\n",
       "      <td>1210045</td>\n",
       "    </tr>\n",
       "    <tr>\n",
       "      <th>deli</th>\n",
       "      <td>236512</td>\n",
       "      <td>48119</td>\n",
       "      <td>234082</td>\n",
       "      <td>253382</td>\n",
       "      <td>231739</td>\n",
       "    </tr>\n",
       "    <tr>\n",
       "      <th>dry goods pasta</th>\n",
       "      <td>195114</td>\n",
       "      <td>39542</td>\n",
       "      <td>192059</td>\n",
       "      <td>204296</td>\n",
       "      <td>191125</td>\n",
       "    </tr>\n",
       "    <tr>\n",
       "      <th>frozen</th>\n",
       "      <td>498754</td>\n",
       "      <td>102993</td>\n",
       "      <td>500303</td>\n",
       "      <td>529348</td>\n",
       "      <td>490333</td>\n",
       "    </tr>\n",
       "    <tr>\n",
       "      <th>household</th>\n",
       "      <td>165156</td>\n",
       "      <td>33349</td>\n",
       "      <td>165401</td>\n",
       "      <td>171358</td>\n",
       "      <td>164593</td>\n",
       "    </tr>\n",
       "    <tr>\n",
       "      <th>international</th>\n",
       "      <td>59236</td>\n",
       "      <td>12394</td>\n",
       "      <td>59464</td>\n",
       "      <td>64461</td>\n",
       "      <td>60436</td>\n",
       "    </tr>\n",
       "    <tr>\n",
       "      <th>meat seafood</th>\n",
       "      <td>160575</td>\n",
       "      <td>32344</td>\n",
       "      <td>157640</td>\n",
       "      <td>165878</td>\n",
       "      <td>158344</td>\n",
       "    </tr>\n",
       "    <tr>\n",
       "      <th>missing</th>\n",
       "      <td>15245</td>\n",
       "      <td>3317</td>\n",
       "      <td>15355</td>\n",
       "      <td>15935</td>\n",
       "      <td>14916</td>\n",
       "    </tr>\n",
       "    <tr>\n",
       "      <th>other</th>\n",
       "      <td>7874</td>\n",
       "      <td>1815</td>\n",
       "      <td>7871</td>\n",
       "      <td>8714</td>\n",
       "      <td>8137</td>\n",
       "    </tr>\n",
       "    <tr>\n",
       "      <th>pantry</th>\n",
       "      <td>416566</td>\n",
       "      <td>85845</td>\n",
       "      <td>419168</td>\n",
       "      <td>443904</td>\n",
       "      <td>417222</td>\n",
       "    </tr>\n",
       "    <tr>\n",
       "      <th>personal care</th>\n",
       "      <td>99735</td>\n",
       "      <td>20201</td>\n",
       "      <td>99136</td>\n",
       "      <td>106205</td>\n",
       "      <td>99029</td>\n",
       "    </tr>\n",
       "    <tr>\n",
       "      <th>pets</th>\n",
       "      <td>21725</td>\n",
       "      <td>5338</td>\n",
       "      <td>21007</td>\n",
       "      <td>23602</td>\n",
       "      <td>21388</td>\n",
       "    </tr>\n",
       "    <tr>\n",
       "      <th>produce</th>\n",
       "      <td>2145327</td>\n",
       "      <td>430539</td>\n",
       "      <td>2116969</td>\n",
       "      <td>2275441</td>\n",
       "      <td>2110997</td>\n",
       "    </tr>\n",
       "    <tr>\n",
       "      <th>snacks</th>\n",
       "      <td>650575</td>\n",
       "      <td>131310</td>\n",
       "      <td>650674</td>\n",
       "      <td>690438</td>\n",
       "      <td>643409</td>\n",
       "    </tr>\n",
       "  </tbody>\n",
       "</table>\n",
       "</div>"
      ],
      "text/plain": [
       "household_type   large family  living with parents  medium family  \\\n",
       "department                                                          \n",
       "alcohol                 34428                 8379          31743   \n",
       "babies                  96971                19381          97877   \n",
       "bakery                 262021                53684         261546   \n",
       "beverages              602237               119107         607397   \n",
       "breakfast              156765                33198         156507   \n",
       "bulk                     7734                 1633           7990   \n",
       "canned goods           238959                48477         237493   \n",
       "dairy eggs            1211397               250014        1207646   \n",
       "deli                   236512                48119         234082   \n",
       "dry goods pasta        195114                39542         192059   \n",
       "frozen                 498754               102993         500303   \n",
       "household              165156                33349         165401   \n",
       "international           59236                12394          59464   \n",
       "meat seafood           160575                32344         157640   \n",
       "missing                 15245                 3317          15355   \n",
       "other                    7874                 1815           7871   \n",
       "pantry                 416566                85845         419168   \n",
       "personal care           99735                20201          99136   \n",
       "pets                    21725                 5338          21007   \n",
       "produce               2145327               430539        2116969   \n",
       "snacks                 650575               131310         650674   \n",
       "\n",
       "household_type   one-person household  small family  \n",
       "department                                           \n",
       "alcohol                         36827         33250  \n",
       "babies                         103328         92835  \n",
       "bakery                         281395        262182  \n",
       "beverages                      645341        597819  \n",
       "breakfast                      166432        157948  \n",
       "bulk                             8000          8094  \n",
       "canned goods                   251020        236125  \n",
       "dairy eggs                    1293203       1210045  \n",
       "deli                           253382        231739  \n",
       "dry goods pasta                204296        191125  \n",
       "frozen                         529348        490333  \n",
       "household                      171358        164593  \n",
       "international                   64461         60436  \n",
       "meat seafood                   165878        158344  \n",
       "missing                         15935         14916  \n",
       "other                            8714          8137  \n",
       "pantry                         443904        417222  \n",
       "personal care                  106205         99029  \n",
       "pets                            23602         21388  \n",
       "produce                       2275441       2110997  \n",
       "snacks                         690438        643409  "
      ]
     },
     "execution_count": 91,
     "metadata": {},
     "output_type": "execute_result"
    }
   ],
   "source": [
    "# Check the output\n",
    "\n",
    "depa_house"
   ]
  },
  {
   "cell_type": "code",
   "execution_count": 92,
   "metadata": {},
   "outputs": [],
   "source": [
    "# Sort the values\n",
    "\n",
    "depa_house = depa_house.loc[spe_dep.sum(axis=1).sort_values(ascending=True).index]"
   ]
  },
  {
   "cell_type": "code",
   "execution_count": 93,
   "metadata": {},
   "outputs": [
    {
     "data": {
      "text/plain": [
       "Text(0.5, 1.0, 'Purchases made in departments broken down into household type')"
      ]
     },
     "execution_count": 93,
     "metadata": {},
     "output_type": "execute_result"
    },
    {
     "data": {
      "image/png": "[encoded data removed]",
      "text/plain": [
       "<Figure size 720x432 with 1 Axes>"
      ]
     },
     "metadata": {
      "needs_background": "light"
     },
     "output_type": "display_data"
    }
   ],
   "source": [
    "# Create a chart \n",
    "\n",
    "depa_house_bar = depa_house.plot.barh(xlabel = (''), stacked = True, figsize = (10, 6))\n",
    "\n",
    "plt.title('Purchases made in departments broken down into household type', fontsize = 16)"
   ]
  },
  {
   "cell_type": "code",
   "execution_count": 94,
   "metadata": {},
   "outputs": [],
   "source": [
    "# Export chart outside of Jupyter in the form of an image file\n",
    "\n",
    "depa_house_bar.figure.savefig(os.path.join(path, '04 Analysis','Visualizations', 'depa_house_bar.png'))"
   ]
  },
  {
   "cell_type": "code",
   "execution_count": 310,
   "metadata": {},
   "outputs": [],
   "source": [
    "# Create a pivot table, count of orders made each day broken down by age group\n",
    "\n",
    "age_day = pd.crosstab(index=df['day'],\n",
    "                      columns=df['age_group'], \n",
    "                      values=df['order_id'], \n",
    "                      aggfunc='nunique')"
   ]
  },
  {
   "cell_type": "code",
   "execution_count": 311,
   "metadata": {},
   "outputs": [
    {
     "data": {
      "text/html": [
       "<div>\n",
       "<style scoped>\n",
       "    .dataframe tbody tr th:only-of-type {\n",
       "        vertical-align: middle;\n",
       "    }\n",
       "\n",
       "    .dataframe tbody tr th {\n",
       "        vertical-align: top;\n",
       "    }\n",
       "\n",
       "    .dataframe thead th {\n",
       "        text-align: right;\n",
       "    }\n",
       "</style>\n",
       "<table border=\"1\" class=\"dataframe\">\n",
       "  <thead>\n",
       "    <tr style=\"text-align: right;\">\n",
       "      <th>age_group</th>\n",
       "      <th>18-29</th>\n",
       "      <th>30-39</th>\n",
       "      <th>40-49</th>\n",
       "      <th>50-65</th>\n",
       "      <th>65+</th>\n",
       "    </tr>\n",
       "    <tr>\n",
       "      <th>day</th>\n",
       "      <th></th>\n",
       "      <th></th>\n",
       "      <th></th>\n",
       "      <th></th>\n",
       "      <th></th>\n",
       "    </tr>\n",
       "  </thead>\n",
       "  <tbody>\n",
       "    <tr>\n",
       "      <th>friday</th>\n",
       "      <td>74407</td>\n",
       "      <td>60782</td>\n",
       "      <td>63537</td>\n",
       "      <td>92870</td>\n",
       "      <td>106337</td>\n",
       "    </tr>\n",
       "    <tr>\n",
       "      <th>monday</th>\n",
       "      <td>78454</td>\n",
       "      <td>65577</td>\n",
       "      <td>66844</td>\n",
       "      <td>98906</td>\n",
       "      <td>111753</td>\n",
       "    </tr>\n",
       "    <tr>\n",
       "      <th>saturday</th>\n",
       "      <td>99078</td>\n",
       "      <td>82406</td>\n",
       "      <td>83729</td>\n",
       "      <td>122943</td>\n",
       "      <td>141068</td>\n",
       "    </tr>\n",
       "    <tr>\n",
       "      <th>sunday</th>\n",
       "      <td>99758</td>\n",
       "      <td>83628</td>\n",
       "      <td>83792</td>\n",
       "      <td>123839</td>\n",
       "      <td>140241</td>\n",
       "    </tr>\n",
       "    <tr>\n",
       "      <th>thursday</th>\n",
       "      <td>75982</td>\n",
       "      <td>63161</td>\n",
       "      <td>64360</td>\n",
       "      <td>95345</td>\n",
       "      <td>108608</td>\n",
       "    </tr>\n",
       "    <tr>\n",
       "      <th>tuesday</th>\n",
       "      <td>73169</td>\n",
       "      <td>61227</td>\n",
       "      <td>62550</td>\n",
       "      <td>91530</td>\n",
       "      <td>104963</td>\n",
       "    </tr>\n",
       "    <tr>\n",
       "      <th>wednesday</th>\n",
       "      <td>71522</td>\n",
       "      <td>60110</td>\n",
       "      <td>60583</td>\n",
       "      <td>89580</td>\n",
       "      <td>101736</td>\n",
       "    </tr>\n",
       "  </tbody>\n",
       "</table>\n",
       "</div>"
      ],
      "text/plain": [
       "age_group  18-29  30-39  40-49   50-65     65+\n",
       "day                                           \n",
       "friday     74407  60782  63537   92870  106337\n",
       "monday     78454  65577  66844   98906  111753\n",
       "saturday   99078  82406  83729  122943  141068\n",
       "sunday     99758  83628  83792  123839  140241\n",
       "thursday   75982  63161  64360   95345  108608\n",
       "tuesday    73169  61227  62550   91530  104963\n",
       "wednesday  71522  60110  60583   89580  101736"
      ]
     },
     "execution_count": 311,
     "metadata": {},
     "output_type": "execute_result"
    }
   ],
   "source": [
    "# Check the output\n",
    "\n",
    "age_day"
   ]
  },
  {
   "cell_type": "code",
   "execution_count": 331,
   "metadata": {},
   "outputs": [
    {
     "data": {
      "text/plain": [
       "Text(0.5, 1.0, 'Number of orders by day of the week and by age group')"
      ]
     },
     "execution_count": 331,
     "metadata": {},
     "output_type": "execute_result"
    },
    {
     "data": {
      "image/png": "[encoded data removed]",
      "text/plain": [
       "<Figure size 720x432 with 1 Axes>"
      ]
     },
     "metadata": {
      "needs_background": "light"
     },
     "output_type": "display_data"
    }
   ],
   "source": [
    "# Create a chart \n",
    "\n",
    "age_day_bar = age_day.plot.bar(xlabel = (''), figsize = (10, 6), rot = 30)\n",
    "\n",
    "plt.title('Number of orders by day of the week and by age group', fontsize = 16)"
   ]
  },
  {
   "cell_type": "code",
   "execution_count": 332,
   "metadata": {},
   "outputs": [],
   "source": [
    "# Export chart outside of Jupyter in the form of an image file\n",
    "\n",
    "age_day_bar.figure.savefig(os.path.join(path, '04 Analysis','Visualizations', 'age_day_bar.png'))"
   ]
  },
  {
   "cell_type": "code",
   "execution_count": 327,
   "metadata": {},
   "outputs": [],
   "source": [
    "# Create a pivot table, count of orders made each day broken down by household type\n",
    "hou_day = pd.crosstab(index=df['day'],\n",
    "                      columns=df['household_type'], \n",
    "                      values=df['order_id'], \n",
    "                      aggfunc='nunique')"
   ]
  },
  {
   "cell_type": "code",
   "execution_count": 328,
   "metadata": {},
   "outputs": [
    {
     "data": {
      "text/html": [
       "<div>\n",
       "<style scoped>\n",
       "    .dataframe tbody tr th:only-of-type {\n",
       "        vertical-align: middle;\n",
       "    }\n",
       "\n",
       "    .dataframe tbody tr th {\n",
       "        vertical-align: top;\n",
       "    }\n",
       "\n",
       "    .dataframe thead th {\n",
       "        text-align: right;\n",
       "    }\n",
       "</style>\n",
       "<table border=\"1\" class=\"dataframe\">\n",
       "  <thead>\n",
       "    <tr style=\"text-align: right;\">\n",
       "      <th>household_type</th>\n",
       "      <th>large family</th>\n",
       "      <th>living with parents</th>\n",
       "      <th>medium family</th>\n",
       "      <th>one-person household</th>\n",
       "      <th>small family</th>\n",
       "    </tr>\n",
       "    <tr>\n",
       "      <th>day</th>\n",
       "      <th></th>\n",
       "      <th></th>\n",
       "      <th></th>\n",
       "      <th></th>\n",
       "      <th></th>\n",
       "    </tr>\n",
       "  </thead>\n",
       "  <tbody>\n",
       "    <tr>\n",
       "      <th>friday</th>\n",
       "      <td>93716</td>\n",
       "      <td>18899</td>\n",
       "      <td>93130</td>\n",
       "      <td>98990</td>\n",
       "      <td>93198</td>\n",
       "    </tr>\n",
       "    <tr>\n",
       "      <th>monday</th>\n",
       "      <td>99807</td>\n",
       "      <td>19927</td>\n",
       "      <td>98369</td>\n",
       "      <td>105393</td>\n",
       "      <td>98038</td>\n",
       "    </tr>\n",
       "    <tr>\n",
       "      <th>saturday</th>\n",
       "      <td>124922</td>\n",
       "      <td>24969</td>\n",
       "      <td>123516</td>\n",
       "      <td>132292</td>\n",
       "      <td>123525</td>\n",
       "    </tr>\n",
       "    <tr>\n",
       "      <th>sunday</th>\n",
       "      <td>124876</td>\n",
       "      <td>25355</td>\n",
       "      <td>123344</td>\n",
       "      <td>133979</td>\n",
       "      <td>123704</td>\n",
       "    </tr>\n",
       "    <tr>\n",
       "      <th>thursday</th>\n",
       "      <td>95312</td>\n",
       "      <td>19453</td>\n",
       "      <td>95329</td>\n",
       "      <td>102671</td>\n",
       "      <td>94691</td>\n",
       "    </tr>\n",
       "    <tr>\n",
       "      <th>tuesday</th>\n",
       "      <td>92513</td>\n",
       "      <td>18492</td>\n",
       "      <td>92079</td>\n",
       "      <td>98439</td>\n",
       "      <td>91916</td>\n",
       "    </tr>\n",
       "    <tr>\n",
       "      <th>wednesday</th>\n",
       "      <td>90146</td>\n",
       "      <td>18282</td>\n",
       "      <td>89593</td>\n",
       "      <td>95990</td>\n",
       "      <td>89520</td>\n",
       "    </tr>\n",
       "  </tbody>\n",
       "</table>\n",
       "</div>"
      ],
      "text/plain": [
       "household_type  large family  living with parents  medium family  \\\n",
       "day                                                                \n",
       "friday                 93716                18899          93130   \n",
       "monday                 99807                19927          98369   \n",
       "saturday              124922                24969         123516   \n",
       "sunday                124876                25355         123344   \n",
       "thursday               95312                19453          95329   \n",
       "tuesday                92513                18492          92079   \n",
       "wednesday              90146                18282          89593   \n",
       "\n",
       "household_type  one-person household  small family  \n",
       "day                                                 \n",
       "friday                         98990         93198  \n",
       "monday                        105393         98038  \n",
       "saturday                      132292        123525  \n",
       "sunday                        133979        123704  \n",
       "thursday                      102671         94691  \n",
       "tuesday                        98439         91916  \n",
       "wednesday                      95990         89520  "
      ]
     },
     "execution_count": 328,
     "metadata": {},
     "output_type": "execute_result"
    }
   ],
   "source": [
    "# Check the output\n",
    "\n",
    "hou_day"
   ]
  },
  {
   "cell_type": "code",
   "execution_count": 334,
   "metadata": {},
   "outputs": [
    {
     "data": {
      "text/plain": [
       "Text(0.5, 1.0, 'Number of orders by day of the week and household type')"
      ]
     },
     "execution_count": 334,
     "metadata": {},
     "output_type": "execute_result"
    },
    {
     "data": {
      "image/png": "[encoded data removed]",
      "text/plain": [
       "<Figure size 720x432 with 1 Axes>"
      ]
     },
     "metadata": {
      "needs_background": "light"
     },
     "output_type": "display_data"
    }
   ],
   "source": [
    "# Create a chart \n",
    "\n",
    "hou_day_bar = hou_day.plot.bar(xlabel = (''), figsize = (10, 6), rot = 30)\n",
    "\n",
    "plt.title('Number of orders by day of the week and household type', fontsize = 16)"
   ]
  },
  {
   "cell_type": "code",
   "execution_count": 335,
   "metadata": {},
   "outputs": [],
   "source": [
    "# Export chart outside of Jupyter in the form of an image file\n",
    "\n",
    "hou_day_bar.figure.savefig(os.path.join(path, '04 Analysis','Visualizations', 'hou_day_bar.png'))"
   ]
  },
  {
   "cell_type": "code",
   "execution_count": 243,
   "metadata": {},
   "outputs": [],
   "source": [
    "# Create a pivot table, count of products purchased by income category broken down by price range\n",
    "\n",
    "income_price = pd.crosstab(index=df['income_category'],\n",
    "                      columns=df['price_range'], \n",
    "                      values=df['product_id'], \n",
    "                      aggfunc='nunique')"
   ]
  },
  {
   "cell_type": "code",
   "execution_count": 244,
   "metadata": {},
   "outputs": [
    {
     "data": {
      "text/html": [
       "<div>\n",
       "<style scoped>\n",
       "    .dataframe tbody tr th:only-of-type {\n",
       "        vertical-align: middle;\n",
       "    }\n",
       "\n",
       "    .dataframe tbody tr th {\n",
       "        vertical-align: top;\n",
       "    }\n",
       "\n",
       "    .dataframe thead th {\n",
       "        text-align: right;\n",
       "    }\n",
       "</style>\n",
       "<table border=\"1\" class=\"dataframe\">\n",
       "  <thead>\n",
       "    <tr style=\"text-align: right;\">\n",
       "      <th>price_range</th>\n",
       "      <th>High range</th>\n",
       "      <th>Low-range product</th>\n",
       "      <th>Mid-range product</th>\n",
       "    </tr>\n",
       "    <tr>\n",
       "      <th>income_category</th>\n",
       "      <th></th>\n",
       "      <th></th>\n",
       "      <th></th>\n",
       "    </tr>\n",
       "  </thead>\n",
       "  <tbody>\n",
       "    <tr>\n",
       "      <th>high-income</th>\n",
       "      <td>149</td>\n",
       "      <td>3752</td>\n",
       "      <td>7543</td>\n",
       "    </tr>\n",
       "    <tr>\n",
       "      <th>low-income</th>\n",
       "      <td>425</td>\n",
       "      <td>13828</td>\n",
       "      <td>26510</td>\n",
       "    </tr>\n",
       "    <tr>\n",
       "      <th>middle-income</th>\n",
       "      <td>535</td>\n",
       "      <td>15931</td>\n",
       "      <td>32104</td>\n",
       "    </tr>\n",
       "    <tr>\n",
       "      <th>upper-income</th>\n",
       "      <td>542</td>\n",
       "      <td>15973</td>\n",
       "      <td>32228</td>\n",
       "    </tr>\n",
       "  </tbody>\n",
       "</table>\n",
       "</div>"
      ],
      "text/plain": [
       "price_range      High range  Low-range product  Mid-range product\n",
       "income_category                                                  \n",
       "high-income             149               3752               7543\n",
       "low-income              425              13828              26510\n",
       "middle-income           535              15931              32104\n",
       "upper-income            542              15973              32228"
      ]
     },
     "execution_count": 244,
     "metadata": {},
     "output_type": "execute_result"
    }
   ],
   "source": [
    "# Check the output\n",
    "\n",
    "income_price"
   ]
  },
  {
   "cell_type": "code",
   "execution_count": 245,
   "metadata": {},
   "outputs": [
    {
     "data": {
      "text/plain": [
       "Text(0.5, 1.0, 'Number of products purchased within a certain price range by income category')"
      ]
     },
     "execution_count": 245,
     "metadata": {},
     "output_type": "execute_result"
    },
    {
     "data": {
      "image/png": "[encoded data removed]",
      "text/plain": [
       "<Figure size 720x432 with 1 Axes>"
      ]
     },
     "metadata": {
      "needs_background": "light"
     },
     "output_type": "display_data"
    }
   ],
   "source": [
    "# Create a chart \n",
    "\n",
    "income_price_bar = income_price.plot.bar(xlabel = (''), stacked = True, figsize = (10, 6), rot = 30)\n",
    "\n",
    "plt.title('Number of products purchased within a certain price range by income category', fontsize = 16)"
   ]
  },
  {
   "cell_type": "code",
   "execution_count": 246,
   "metadata": {},
   "outputs": [],
   "source": [
    "# Export chart outside of Jupyter in the form of an image file\n",
    "\n",
    "income_price_bar.figure.savefig(os.path.join(path, '04 Analysis','Visualizations', 'income_price_bar.png'))"
   ]
  },
  {
   "cell_type": "code",
   "execution_count": 248,
   "metadata": {},
   "outputs": [],
   "source": [
    "# Create a pivot table, count of products purchased by income category broken down by spending flag\n",
    "\n",
    "income_spen = pd.crosstab(index=df['income_category'],\n",
    "                      columns=df['spending_flag'], \n",
    "                      values=df['product_id'], \n",
    "                      aggfunc='nunique')"
   ]
  },
  {
   "cell_type": "code",
   "execution_count": 249,
   "metadata": {},
   "outputs": [
    {
     "data": {
      "text/html": [
       "<div>\n",
       "<style scoped>\n",
       "    .dataframe tbody tr th:only-of-type {\n",
       "        vertical-align: middle;\n",
       "    }\n",
       "\n",
       "    .dataframe tbody tr th {\n",
       "        vertical-align: top;\n",
       "    }\n",
       "\n",
       "    .dataframe thead th {\n",
       "        text-align: right;\n",
       "    }\n",
       "</style>\n",
       "<table border=\"1\" class=\"dataframe\">\n",
       "  <thead>\n",
       "    <tr style=\"text-align: right;\">\n",
       "      <th>spending_flag</th>\n",
       "      <th>High spender</th>\n",
       "      <th>Low spender</th>\n",
       "    </tr>\n",
       "    <tr>\n",
       "      <th>income_category</th>\n",
       "      <th></th>\n",
       "      <th></th>\n",
       "    </tr>\n",
       "  </thead>\n",
       "  <tbody>\n",
       "    <tr>\n",
       "      <th>high-income</th>\n",
       "      <td>11445</td>\n",
       "      <td>0</td>\n",
       "    </tr>\n",
       "    <tr>\n",
       "      <th>low-income</th>\n",
       "      <td>564</td>\n",
       "      <td>40757</td>\n",
       "    </tr>\n",
       "    <tr>\n",
       "      <th>middle-income</th>\n",
       "      <td>10418</td>\n",
       "      <td>48550</td>\n",
       "    </tr>\n",
       "    <tr>\n",
       "      <th>upper-income</th>\n",
       "      <td>21547</td>\n",
       "      <td>48665</td>\n",
       "    </tr>\n",
       "  </tbody>\n",
       "</table>\n",
       "</div>"
      ],
      "text/plain": [
       "spending_flag    High spender  Low spender\n",
       "income_category                           \n",
       "high-income             11445            0\n",
       "low-income                564        40757\n",
       "middle-income           10418        48550\n",
       "upper-income            21547        48665"
      ]
     },
     "execution_count": 249,
     "metadata": {},
     "output_type": "execute_result"
    }
   ],
   "source": [
    "# Check the output\n",
    "\n",
    "income_spen"
   ]
  },
  {
   "cell_type": "code",
   "execution_count": 258,
   "metadata": {},
   "outputs": [
    {
     "data": {
      "text/plain": [
       "Text(0.5, 1.0, 'Number of products purchased by income group broken down by spending flag')"
      ]
     },
     "execution_count": 258,
     "metadata": {},
     "output_type": "execute_result"
    },
    {
     "data": {
      "image/png": "[encoded data removed]",
      "text/plain": [
       "<Figure size 720x432 with 1 Axes>"
      ]
     },
     "metadata": {
      "needs_background": "light"
     },
     "output_type": "display_data"
    }
   ],
   "source": [
    "# Create a chart \n",
    "\n",
    "colors = ('#F7851E', '#2CA32C')\n",
    "\n",
    "income_spen_bar = income_spen.plot.bar(xlabel = (''), stacked = True, figsize = (10, 6), rot = 30, color = colors)\n",
    "\n",
    "plt.title('Number of products purchased by income group broken down by spending flag', fontsize = 16)"
   ]
  },
  {
   "cell_type": "code",
   "execution_count": 259,
   "metadata": {},
   "outputs": [],
   "source": [
    "# Export chart outside of Jupyter in the form of an image file\n",
    "\n",
    "income_spen_bar.figure.savefig(os.path.join(path, '04 Analysis','Visualizations', 'income_spen_bar.png'))"
   ]
  },
  {
   "cell_type": "code",
   "execution_count": 342,
   "metadata": {},
   "outputs": [],
   "source": [
    "# Export df as pkl file\n",
    "\n",
    "df.to_pickle(os.path.join(path, '02 Data', 'Prepared Data', 'active_customers.pkl'))"
   ]
  },
  {
   "cell_type": "code",
   "execution_count": null,
   "metadata": {},
   "outputs": [],
   "source": []
  }
 ],
 "metadata": {
  "kernelspec": {
   "display_name": "Python 3",
   "language": "python",
   "name": "python3"
  },
  "language_info": {
   "codemirror_mode": {
    "name": "ipython",
    "version": 3
   },
   "file_extension": ".py",
   "mimetype": "text/x-python",
   "name": "python",
   "nbconvert_exporter": "python",
   "pygments_lexer": "ipython3",
   "version": "3.8.5"
  }
 },
 "nbformat": 4,
 "nbformat_minor": 4
}
