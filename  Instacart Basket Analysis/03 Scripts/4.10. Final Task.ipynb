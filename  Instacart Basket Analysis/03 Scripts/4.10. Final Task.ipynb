{
 "cells": [
  {
   "cell_type": "markdown",
   "metadata": {},
   "source": [
    "# 4.10. Final task"
   ]
  },
  {
   "cell_type": "markdown",
   "metadata": {},
   "source": [
    "## Table of contents:\n",
    "\n",
    "### 1. Importing data\n",
    "### 2. Addressing PII data \n",
    "### 3. Creating a region groups\n",
    "### 4. Exclusion of low-activity customers\n",
    "### 5. + 6. Customer profiling and visulaizations\n",
    "#### a) Age groups\n",
    "#### b) Incone categpry\n",
    "#### c) Family type\n",
    "#### d) Multidimensional customer profile\n",
    "#### e) Department preferencies\n",
    "#### f) Day and hour\n",
    "### 7. Customer profile aggregations\n"
   ]
  },
  {
   "cell_type": "markdown",
   "metadata": {},
   "source": [
    "## Importing libraries"
   ]
  },
  {
   "cell_type": "code",
   "execution_count": 27,
   "metadata": {},
   "outputs": [],
   "source": [
    "# Import libraries\n",
    "\n",
    "import pandas as pd\n",
    "import numpy as np\n",
    "import os\n",
    "import matplotlib.pyplot as plt\n",
    "import seaborn as sns\n",
    "import scipy"
   ]
  },
  {
   "cell_type": "markdown",
   "metadata": {},
   "source": [
    "## 01. Importing data "
   ]
  },
  {
   "cell_type": "code",
   "execution_count": 28,
   "metadata": {},
   "outputs": [],
   "source": [
    "# Create folder path\n",
    "\n",
    "path = r'/Users/edytakowal/Desktop/Instacart Basket Analysis'"
   ]
  },
  {
   "cell_type": "code",
   "execution_count": 29,
   "metadata": {},
   "outputs": [],
   "source": [
    "# Import the final_df.pkl dataframe from the csv file\n",
    "\n",
    "df = pd.read_pickle(os.path.join(path, '02 Data', 'Prepared Data', 'order_products_all.pkl'))"
   ]
  },
  {
   "cell_type": "markdown",
   "metadata": {},
   "source": [
    "## 02. Consider any security implications that might exist for this new data. You’ll need to address any PII data in the data before continuing your analysis."
   ]
  },
  {
   "cell_type": "markdown",
   "metadata": {},
   "source": [
    "I did this in the previous task; I removed the columns containing name and surname because they are not relevant in our analysis."
   ]
  },
  {
   "cell_type": "markdown",
   "metadata": {},
   "source": [
    "## 03. The Instacart officers are interested in comparing customer behavior in different geographic areas. Create a regional segmentation of the data. You’ll need to create a “Region” column based on the “State” column from your customers data set.\n",
    "- Use the region information in this Wikipedia article to create your column (you only need to create regions, not divisions).\n",
    "- Determine whether there’s a difference in spending habits between the different U.S. regions. (Hint: You can do this by crossing the variable you just created with the spending flag.)"
   ]
  },
  {
   "cell_type": "code",
   "execution_count": 30,
   "metadata": {},
   "outputs": [
    {
     "data": {
      "text/html": [
       "<div>\n",
       "<style scoped>\n",
       "    .dataframe tbody tr th:only-of-type {\n",
       "        vertical-align: middle;\n",
       "    }\n",
       "\n",
       "    .dataframe tbody tr th {\n",
       "        vertical-align: top;\n",
       "    }\n",
       "\n",
       "    .dataframe thead th {\n",
       "        text-align: right;\n",
       "    }\n",
       "</style>\n",
       "<table border=\"1\" class=\"dataframe\">\n",
       "  <thead>\n",
       "    <tr style=\"text-align: right;\">\n",
       "      <th></th>\n",
       "      <th>user_id</th>\n",
       "      <th>gender</th>\n",
       "      <th>state</th>\n",
       "      <th>age</th>\n",
       "      <th>joining_date</th>\n",
       "      <th>n_dependants</th>\n",
       "      <th>fam_status</th>\n",
       "      <th>income</th>\n",
       "      <th>product_id</th>\n",
       "      <th>product_name</th>\n",
       "      <th>...</th>\n",
       "      <th>order_hour</th>\n",
       "      <th>days_since_prior_order</th>\n",
       "      <th>add_to_cart_order</th>\n",
       "      <th>reordered</th>\n",
       "      <th>max_order</th>\n",
       "      <th>loyalty_flag</th>\n",
       "      <th>avg_product_price</th>\n",
       "      <th>spending_flag</th>\n",
       "      <th>median_order_freq</th>\n",
       "      <th>freq_flag</th>\n",
       "    </tr>\n",
       "  </thead>\n",
       "  <tbody>\n",
       "    <tr>\n",
       "      <th>0</th>\n",
       "      <td>26711</td>\n",
       "      <td>Female</td>\n",
       "      <td>Missouri</td>\n",
       "      <td>48</td>\n",
       "      <td>1/1/2017</td>\n",
       "      <td>3</td>\n",
       "      <td>married</td>\n",
       "      <td>165665</td>\n",
       "      <td>196</td>\n",
       "      <td>Soda</td>\n",
       "      <td>...</td>\n",
       "      <td>9</td>\n",
       "      <td>30.0</td>\n",
       "      <td>2</td>\n",
       "      <td>0</td>\n",
       "      <td>8</td>\n",
       "      <td>New customer</td>\n",
       "      <td>7.988889</td>\n",
       "      <td>Low spender</td>\n",
       "      <td>19.0</td>\n",
       "      <td>Regular customer</td>\n",
       "    </tr>\n",
       "    <tr>\n",
       "      <th>1</th>\n",
       "      <td>26711</td>\n",
       "      <td>Female</td>\n",
       "      <td>Missouri</td>\n",
       "      <td>48</td>\n",
       "      <td>1/1/2017</td>\n",
       "      <td>3</td>\n",
       "      <td>married</td>\n",
       "      <td>165665</td>\n",
       "      <td>196</td>\n",
       "      <td>Soda</td>\n",
       "      <td>...</td>\n",
       "      <td>15</td>\n",
       "      <td>11.0</td>\n",
       "      <td>1</td>\n",
       "      <td>1</td>\n",
       "      <td>8</td>\n",
       "      <td>New customer</td>\n",
       "      <td>7.988889</td>\n",
       "      <td>Low spender</td>\n",
       "      <td>19.0</td>\n",
       "      <td>Regular customer</td>\n",
       "    </tr>\n",
       "    <tr>\n",
       "      <th>2</th>\n",
       "      <td>26711</td>\n",
       "      <td>Female</td>\n",
       "      <td>Missouri</td>\n",
       "      <td>48</td>\n",
       "      <td>1/1/2017</td>\n",
       "      <td>3</td>\n",
       "      <td>married</td>\n",
       "      <td>165665</td>\n",
       "      <td>196</td>\n",
       "      <td>Soda</td>\n",
       "      <td>...</td>\n",
       "      <td>15</td>\n",
       "      <td>10.0</td>\n",
       "      <td>2</td>\n",
       "      <td>1</td>\n",
       "      <td>8</td>\n",
       "      <td>New customer</td>\n",
       "      <td>7.988889</td>\n",
       "      <td>Low spender</td>\n",
       "      <td>19.0</td>\n",
       "      <td>Regular customer</td>\n",
       "    </tr>\n",
       "    <tr>\n",
       "      <th>3</th>\n",
       "      <td>26711</td>\n",
       "      <td>Female</td>\n",
       "      <td>Missouri</td>\n",
       "      <td>48</td>\n",
       "      <td>1/1/2017</td>\n",
       "      <td>3</td>\n",
       "      <td>married</td>\n",
       "      <td>165665</td>\n",
       "      <td>6184</td>\n",
       "      <td>Clementines</td>\n",
       "      <td>...</td>\n",
       "      <td>9</td>\n",
       "      <td>NaN</td>\n",
       "      <td>1</td>\n",
       "      <td>0</td>\n",
       "      <td>8</td>\n",
       "      <td>New customer</td>\n",
       "      <td>7.988889</td>\n",
       "      <td>Low spender</td>\n",
       "      <td>19.0</td>\n",
       "      <td>Regular customer</td>\n",
       "    </tr>\n",
       "    <tr>\n",
       "      <th>4</th>\n",
       "      <td>26711</td>\n",
       "      <td>Female</td>\n",
       "      <td>Missouri</td>\n",
       "      <td>48</td>\n",
       "      <td>1/1/2017</td>\n",
       "      <td>3</td>\n",
       "      <td>married</td>\n",
       "      <td>165665</td>\n",
       "      <td>6184</td>\n",
       "      <td>Clementines</td>\n",
       "      <td>...</td>\n",
       "      <td>11</td>\n",
       "      <td>30.0</td>\n",
       "      <td>2</td>\n",
       "      <td>1</td>\n",
       "      <td>8</td>\n",
       "      <td>New customer</td>\n",
       "      <td>7.988889</td>\n",
       "      <td>Low spender</td>\n",
       "      <td>19.0</td>\n",
       "      <td>Regular customer</td>\n",
       "    </tr>\n",
       "  </tbody>\n",
       "</table>\n",
       "<p>5 rows × 26 columns</p>\n",
       "</div>"
      ],
      "text/plain": [
       "  user_id  gender     state age joining_date  n_dependants fam_status  income  \\\n",
       "0   26711  Female  Missouri  48     1/1/2017             3    married  165665   \n",
       "1   26711  Female  Missouri  48     1/1/2017             3    married  165665   \n",
       "2   26711  Female  Missouri  48     1/1/2017             3    married  165665   \n",
       "3   26711  Female  Missouri  48     1/1/2017             3    married  165665   \n",
       "4   26711  Female  Missouri  48     1/1/2017             3    married  165665   \n",
       "\n",
       "   product_id product_name  ...  order_hour  days_since_prior_order  \\\n",
       "0         196         Soda  ...           9                    30.0   \n",
       "1         196         Soda  ...          15                    11.0   \n",
       "2         196         Soda  ...          15                    10.0   \n",
       "3        6184  Clementines  ...           9                     NaN   \n",
       "4        6184  Clementines  ...          11                    30.0   \n",
       "\n",
       "   add_to_cart_order  reordered  max_order  loyalty_flag  avg_product_price  \\\n",
       "0                  2          0          8  New customer           7.988889   \n",
       "1                  1          1          8  New customer           7.988889   \n",
       "2                  2          1          8  New customer           7.988889   \n",
       "3                  1          0          8  New customer           7.988889   \n",
       "4                  2          1          8  New customer           7.988889   \n",
       "\n",
       "   spending_flag  median_order_freq         freq_flag  \n",
       "0    Low spender               19.0  Regular customer  \n",
       "1    Low spender               19.0  Regular customer  \n",
       "2    Low spender               19.0  Regular customer  \n",
       "3    Low spender               19.0  Regular customer  \n",
       "4    Low spender               19.0  Regular customer  \n",
       "\n",
       "[5 rows x 26 columns]"
      ]
     },
     "execution_count": 30,
     "metadata": {},
     "output_type": "execute_result"
    }
   ],
   "source": [
    "# Print first 5 rows of df\n",
    "\n",
    "df.head()"
   ]
  },
  {
   "cell_type": "code",
   "execution_count": 31,
   "metadata": {},
   "outputs": [],
   "source": [
    "# Create region variables\n",
    "\n",
    "Northeast = ['Maine', 'New Hampshire', 'Vermont', 'Massachusetts', 'Rhode Island', 'Connecticut', 'New York', 'Pennsylvania', 'New Jersey']\n",
    "Midwest = ['Wisconsin', 'Michigan', 'Illinois', 'Indiana', 'Ohio', 'North Dakota', 'South Dakota', 'Nebraska', 'Kansas', 'Minnesota', 'Iowa', 'Missouri']\n",
    "South = ['Delaware', 'Maryland', 'District of Columbia', 'Virginia', 'West Virginia', 'North Carolina', 'South Carolina', 'Georgia', 'Florida', 'Kentucky', 'Tennessee', 'Mississippi', 'Alabama', 'Oklahoma', 'Texas', 'Arkansas', 'Louisiana']\n",
    "West = ['Idaho', 'Montana', 'Wyoming', 'Nevada', 'Utah', 'Colorado', 'Arizona', 'New Mexico', 'Alaska', 'Washington', 'Oregon', 'California', 'Hawaii']"
   ]
  },
  {
   "cell_type": "code",
   "execution_count": 32,
   "metadata": {},
   "outputs": [],
   "source": [
    "# Create a new column with regions\n",
    "\n",
    "df.loc[df['state'].isin(Northeast), 'region'] = 'Northeast'\n",
    "df.loc[df['state'].isin(Midwest), 'region'] = 'Midwest'\n",
    "df.loc[df['state'].isin(South), 'region'] = 'South'\n",
    "df.loc[df['state'].isin(West), 'region'] = 'West'"
   ]
  },
  {
   "cell_type": "code",
   "execution_count": 33,
   "metadata": {},
   "outputs": [
    {
     "data": {
      "text/html": [
       "<div>\n",
       "<style scoped>\n",
       "    .dataframe tbody tr th:only-of-type {\n",
       "        vertical-align: middle;\n",
       "    }\n",
       "\n",
       "    .dataframe tbody tr th {\n",
       "        vertical-align: top;\n",
       "    }\n",
       "\n",
       "    .dataframe thead th {\n",
       "        text-align: right;\n",
       "    }\n",
       "</style>\n",
       "<table border=\"1\" class=\"dataframe\">\n",
       "  <thead>\n",
       "    <tr style=\"text-align: right;\">\n",
       "      <th></th>\n",
       "      <th>user_id</th>\n",
       "      <th>gender</th>\n",
       "      <th>state</th>\n",
       "      <th>age</th>\n",
       "      <th>joining_date</th>\n",
       "      <th>n_dependants</th>\n",
       "      <th>fam_status</th>\n",
       "      <th>income</th>\n",
       "      <th>product_id</th>\n",
       "      <th>product_name</th>\n",
       "      <th>...</th>\n",
       "      <th>days_since_prior_order</th>\n",
       "      <th>add_to_cart_order</th>\n",
       "      <th>reordered</th>\n",
       "      <th>max_order</th>\n",
       "      <th>loyalty_flag</th>\n",
       "      <th>avg_product_price</th>\n",
       "      <th>spending_flag</th>\n",
       "      <th>median_order_freq</th>\n",
       "      <th>freq_flag</th>\n",
       "      <th>region</th>\n",
       "    </tr>\n",
       "  </thead>\n",
       "  <tbody>\n",
       "    <tr>\n",
       "      <th>0</th>\n",
       "      <td>26711</td>\n",
       "      <td>Female</td>\n",
       "      <td>Missouri</td>\n",
       "      <td>48</td>\n",
       "      <td>1/1/2017</td>\n",
       "      <td>3</td>\n",
       "      <td>married</td>\n",
       "      <td>165665</td>\n",
       "      <td>196</td>\n",
       "      <td>Soda</td>\n",
       "      <td>...</td>\n",
       "      <td>30.0</td>\n",
       "      <td>2</td>\n",
       "      <td>0</td>\n",
       "      <td>8</td>\n",
       "      <td>New customer</td>\n",
       "      <td>7.988889</td>\n",
       "      <td>Low spender</td>\n",
       "      <td>19.0</td>\n",
       "      <td>Regular customer</td>\n",
       "      <td>Midwest</td>\n",
       "    </tr>\n",
       "    <tr>\n",
       "      <th>1</th>\n",
       "      <td>26711</td>\n",
       "      <td>Female</td>\n",
       "      <td>Missouri</td>\n",
       "      <td>48</td>\n",
       "      <td>1/1/2017</td>\n",
       "      <td>3</td>\n",
       "      <td>married</td>\n",
       "      <td>165665</td>\n",
       "      <td>196</td>\n",
       "      <td>Soda</td>\n",
       "      <td>...</td>\n",
       "      <td>11.0</td>\n",
       "      <td>1</td>\n",
       "      <td>1</td>\n",
       "      <td>8</td>\n",
       "      <td>New customer</td>\n",
       "      <td>7.988889</td>\n",
       "      <td>Low spender</td>\n",
       "      <td>19.0</td>\n",
       "      <td>Regular customer</td>\n",
       "      <td>Midwest</td>\n",
       "    </tr>\n",
       "    <tr>\n",
       "      <th>2</th>\n",
       "      <td>26711</td>\n",
       "      <td>Female</td>\n",
       "      <td>Missouri</td>\n",
       "      <td>48</td>\n",
       "      <td>1/1/2017</td>\n",
       "      <td>3</td>\n",
       "      <td>married</td>\n",
       "      <td>165665</td>\n",
       "      <td>196</td>\n",
       "      <td>Soda</td>\n",
       "      <td>...</td>\n",
       "      <td>10.0</td>\n",
       "      <td>2</td>\n",
       "      <td>1</td>\n",
       "      <td>8</td>\n",
       "      <td>New customer</td>\n",
       "      <td>7.988889</td>\n",
       "      <td>Low spender</td>\n",
       "      <td>19.0</td>\n",
       "      <td>Regular customer</td>\n",
       "      <td>Midwest</td>\n",
       "    </tr>\n",
       "    <tr>\n",
       "      <th>3</th>\n",
       "      <td>26711</td>\n",
       "      <td>Female</td>\n",
       "      <td>Missouri</td>\n",
       "      <td>48</td>\n",
       "      <td>1/1/2017</td>\n",
       "      <td>3</td>\n",
       "      <td>married</td>\n",
       "      <td>165665</td>\n",
       "      <td>6184</td>\n",
       "      <td>Clementines</td>\n",
       "      <td>...</td>\n",
       "      <td>NaN</td>\n",
       "      <td>1</td>\n",
       "      <td>0</td>\n",
       "      <td>8</td>\n",
       "      <td>New customer</td>\n",
       "      <td>7.988889</td>\n",
       "      <td>Low spender</td>\n",
       "      <td>19.0</td>\n",
       "      <td>Regular customer</td>\n",
       "      <td>Midwest</td>\n",
       "    </tr>\n",
       "    <tr>\n",
       "      <th>4</th>\n",
       "      <td>26711</td>\n",
       "      <td>Female</td>\n",
       "      <td>Missouri</td>\n",
       "      <td>48</td>\n",
       "      <td>1/1/2017</td>\n",
       "      <td>3</td>\n",
       "      <td>married</td>\n",
       "      <td>165665</td>\n",
       "      <td>6184</td>\n",
       "      <td>Clementines</td>\n",
       "      <td>...</td>\n",
       "      <td>30.0</td>\n",
       "      <td>2</td>\n",
       "      <td>1</td>\n",
       "      <td>8</td>\n",
       "      <td>New customer</td>\n",
       "      <td>7.988889</td>\n",
       "      <td>Low spender</td>\n",
       "      <td>19.0</td>\n",
       "      <td>Regular customer</td>\n",
       "      <td>Midwest</td>\n",
       "    </tr>\n",
       "  </tbody>\n",
       "</table>\n",
       "<p>5 rows × 27 columns</p>\n",
       "</div>"
      ],
      "text/plain": [
       "  user_id  gender     state age joining_date  n_dependants fam_status  income  \\\n",
       "0   26711  Female  Missouri  48     1/1/2017             3    married  165665   \n",
       "1   26711  Female  Missouri  48     1/1/2017             3    married  165665   \n",
       "2   26711  Female  Missouri  48     1/1/2017             3    married  165665   \n",
       "3   26711  Female  Missouri  48     1/1/2017             3    married  165665   \n",
       "4   26711  Female  Missouri  48     1/1/2017             3    married  165665   \n",
       "\n",
       "   product_id product_name  ...  days_since_prior_order  add_to_cart_order  \\\n",
       "0         196         Soda  ...                    30.0                  2   \n",
       "1         196         Soda  ...                    11.0                  1   \n",
       "2         196         Soda  ...                    10.0                  2   \n",
       "3        6184  Clementines  ...                     NaN                  1   \n",
       "4        6184  Clementines  ...                    30.0                  2   \n",
       "\n",
       "   reordered  max_order  loyalty_flag  avg_product_price  spending_flag  \\\n",
       "0          0          8  New customer           7.988889    Low spender   \n",
       "1          1          8  New customer           7.988889    Low spender   \n",
       "2          1          8  New customer           7.988889    Low spender   \n",
       "3          0          8  New customer           7.988889    Low spender   \n",
       "4          1          8  New customer           7.988889    Low spender   \n",
       "\n",
       "   median_order_freq         freq_flag   region  \n",
       "0               19.0  Regular customer  Midwest  \n",
       "1               19.0  Regular customer  Midwest  \n",
       "2               19.0  Regular customer  Midwest  \n",
       "3               19.0  Regular customer  Midwest  \n",
       "4               19.0  Regular customer  Midwest  \n",
       "\n",
       "[5 rows x 27 columns]"
      ]
     },
     "execution_count": 33,
     "metadata": {},
     "output_type": "execute_result"
    }
   ],
   "source": [
    "# Check the output\n",
    "\n",
    "df.head()"
   ]
  },
  {
   "cell_type": "code",
   "execution_count": 34,
   "metadata": {},
   "outputs": [],
   "source": [
    "# Check the number of customers for each region\n",
    "\n",
    "reg = df.groupby('region').user_id.nunique()"
   ]
  },
  {
   "cell_type": "code",
   "execution_count": 35,
   "metadata": {},
   "outputs": [
    {
     "data": {
      "text/plain": [
       "region\n",
       "Midwest      48519\n",
       "Northeast    36388\n",
       "South        68737\n",
       "West         52565\n",
       "Name: user_id, dtype: int64"
      ]
     },
     "execution_count": 35,
     "metadata": {},
     "output_type": "execute_result"
    }
   ],
   "source": [
    "# Check the output \n",
    "\n",
    "reg"
   ]
  },
  {
   "cell_type": "code",
   "execution_count": 36,
   "metadata": {},
   "outputs": [
    {
     "data": {
      "text/plain": [
       "Text(0.5, 1.0, 'Customers by region')"
      ]
     },
     "execution_count": 36,
     "metadata": {},
     "output_type": "execute_result"
    },
    {
     "data": {
      "image/png": "[encoded data removed]",
      "text/plain": [
       "<Figure size 720x432 with 1 Axes>"
      ]
     },
     "metadata": {},
     "output_type": "display_data"
    }
   ],
   "source": [
    "# Create a chart\n",
    "\n",
    "reg_pie = reg.plot.pie(ylabel = (''), autopct = '%.0f%%', fontsize = 12, figsize = (10, 6))\n",
    "\n",
    "plt.title('Customers by region', fontsize = 16)"
   ]
  },
  {
   "cell_type": "code",
   "execution_count": 37,
   "metadata": {},
   "outputs": [],
   "source": [
    "# Export chart outside of Jupyter in the form of an image file\n",
    "\n",
    "reg_pie.figure.savefig(os.path.join(path, '04 Analysis','Visualizations', 'reg_pie.png'))"
   ]
  },
  {
   "cell_type": "code",
   "execution_count": 38,
   "metadata": {},
   "outputs": [],
   "source": [
    "# Check the number of orders for each region\n",
    "\n",
    "reg_ord = df.groupby('region').order_id.nunique()"
   ]
  },
  {
   "cell_type": "code",
   "execution_count": 39,
   "metadata": {},
   "outputs": [
    {
     "data": {
      "text/plain": [
       "region\n",
       "Midwest       754275\n",
       "Northeast     567162\n",
       "South        1071562\n",
       "West          821686\n",
       "Name: order_id, dtype: int64"
      ]
     },
     "execution_count": 39,
     "metadata": {},
     "output_type": "execute_result"
    }
   ],
   "source": [
    "# Check the ooutput \n",
    "\n",
    "reg_ord"
   ]
  },
  {
   "cell_type": "code",
   "execution_count": 40,
   "metadata": {},
   "outputs": [
    {
     "data": {
      "text/plain": [
       "Text(0.5, 1.0, 'Orders by region')"
      ]
     },
     "execution_count": 40,
     "metadata": {},
     "output_type": "execute_result"
    },
    {
     "data": {
      "image/png": "[encoded data removed]",
      "text/plain": [
       "<Figure size 720x432 with 1 Axes>"
      ]
     },
     "metadata": {
      "needs_background": "light"
     },
     "output_type": "display_data"
    }
   ],
   "source": [
    "# Create a chart\n",
    "\n",
    "reg_ord_bar = reg_ord.plot.bar(xlabel = (''), color = 'g', figsize = (10,6), rot = 30)\n",
    "plt.title('Orders by region', fontsize = 16)"
   ]
  },
  {
   "cell_type": "code",
   "execution_count": 41,
   "metadata": {},
   "outputs": [],
   "source": [
    "# Export chart outside of Jupyter in the form of an image file\n",
    "\n",
    "reg_ord_bar.figure.savefig(os.path.join(path, '04 Analysis','Visualizations', 'reg_ord_bar.png'))"
   ]
  },
  {
   "cell_type": "code",
   "execution_count": 42,
   "metadata": {},
   "outputs": [],
   "source": [
    "# Craete a pivot table\n",
    "\n",
    "gen_reg = pd.crosstab(index=df['region'], \n",
    "                          columns=df['gender'], \n",
    "                          values=df['user_id'], \n",
    "                          aggfunc='nunique')"
   ]
  },
  {
   "cell_type": "code",
   "execution_count": 43,
   "metadata": {},
   "outputs": [
    {
     "data": {
      "text/html": [
       "<div>\n",
       "<style scoped>\n",
       "    .dataframe tbody tr th:only-of-type {\n",
       "        vertical-align: middle;\n",
       "    }\n",
       "\n",
       "    .dataframe tbody tr th {\n",
       "        vertical-align: top;\n",
       "    }\n",
       "\n",
       "    .dataframe thead th {\n",
       "        text-align: right;\n",
       "    }\n",
       "</style>\n",
       "<table border=\"1\" class=\"dataframe\">\n",
       "  <thead>\n",
       "    <tr style=\"text-align: right;\">\n",
       "      <th>gender</th>\n",
       "      <th>Female</th>\n",
       "      <th>Male</th>\n",
       "    </tr>\n",
       "    <tr>\n",
       "      <th>region</th>\n",
       "      <th></th>\n",
       "      <th></th>\n",
       "    </tr>\n",
       "  </thead>\n",
       "  <tbody>\n",
       "    <tr>\n",
       "      <th>Midwest</th>\n",
       "      <td>24182</td>\n",
       "      <td>24337</td>\n",
       "    </tr>\n",
       "    <tr>\n",
       "      <th>Northeast</th>\n",
       "      <td>17766</td>\n",
       "      <td>18622</td>\n",
       "    </tr>\n",
       "    <tr>\n",
       "      <th>South</th>\n",
       "      <td>34047</td>\n",
       "      <td>34690</td>\n",
       "    </tr>\n",
       "    <tr>\n",
       "      <th>West</th>\n",
       "      <td>26147</td>\n",
       "      <td>26418</td>\n",
       "    </tr>\n",
       "  </tbody>\n",
       "</table>\n",
       "</div>"
      ],
      "text/plain": [
       "gender     Female   Male\n",
       "region                  \n",
       "Midwest     24182  24337\n",
       "Northeast   17766  18622\n",
       "South       34047  34690\n",
       "West        26147  26418"
      ]
     },
     "execution_count": 43,
     "metadata": {},
     "output_type": "execute_result"
    }
   ],
   "source": [
    "# Check the output \n",
    "\n",
    "gen_reg"
   ]
  },
  {
   "cell_type": "code",
   "execution_count": 44,
   "metadata": {},
   "outputs": [
    {
     "data": {
      "text/plain": [
       "Text(0.5, 1.0, 'Gender distribution by region')"
      ]
     },
     "execution_count": 44,
     "metadata": {},
     "output_type": "execute_result"
    },
    {
     "data": {
      "image/png": "[encoded data removed]",
      "text/plain": [
       "<Figure size 720x432 with 1 Axes>"
      ]
     },
     "metadata": {
      "needs_background": "light"
     },
     "output_type": "display_data"
    }
   ],
   "source": [
    "# Create a chart\n",
    "\n",
    "colors = ['orange', 'green']\n",
    "\n",
    "gen_reg_bar = gen_reg.plot.bar(xlabel = (''), color = colors, figsize = (10,6), rot = 30)\n",
    "\n",
    "plt.title('Gender distribution by region', fontsize=16)"
   ]
  },
  {
   "cell_type": "code",
   "execution_count": 45,
   "metadata": {},
   "outputs": [],
   "source": [
    "# Export chart outside of Jupyter in the form of an image file\n",
    "\n",
    "gen_reg_bar.figure.savefig(os.path.join(path, '04 Analysis','Visualizations', 'gen_reg_bar.png'))"
   ]
  },
  {
   "cell_type": "code",
   "execution_count": 46,
   "metadata": {},
   "outputs": [],
   "source": [
    "# Create a pivot table\n",
    "\n",
    "spe_reg = pd.crosstab(index=df['region'], \n",
    "                          columns=df['spending_flag'], \n",
    "                          values=df['user_id'], \n",
    "                          aggfunc='nunique')"
   ]
  },
  {
   "cell_type": "code",
   "execution_count": 47,
   "metadata": {
    "scrolled": true
   },
   "outputs": [
    {
     "data": {
      "text/html": [
       "<div>\n",
       "<style scoped>\n",
       "    .dataframe tbody tr th:only-of-type {\n",
       "        vertical-align: middle;\n",
       "    }\n",
       "\n",
       "    .dataframe tbody tr th {\n",
       "        vertical-align: top;\n",
       "    }\n",
       "\n",
       "    .dataframe thead th {\n",
       "        text-align: right;\n",
       "    }\n",
       "</style>\n",
       "<table border=\"1\" class=\"dataframe\">\n",
       "  <thead>\n",
       "    <tr style=\"text-align: right;\">\n",
       "      <th>spending_flag</th>\n",
       "      <th>High spender</th>\n",
       "      <th>Low spender</th>\n",
       "    </tr>\n",
       "    <tr>\n",
       "      <th>region</th>\n",
       "      <th></th>\n",
       "      <th></th>\n",
       "    </tr>\n",
       "  </thead>\n",
       "  <tbody>\n",
       "    <tr>\n",
       "      <th>Midwest</th>\n",
       "      <td>1263</td>\n",
       "      <td>47256</td>\n",
       "    </tr>\n",
       "    <tr>\n",
       "      <th>Northeast</th>\n",
       "      <td>881</td>\n",
       "      <td>35507</td>\n",
       "    </tr>\n",
       "    <tr>\n",
       "      <th>South</th>\n",
       "      <td>1815</td>\n",
       "      <td>66922</td>\n",
       "    </tr>\n",
       "    <tr>\n",
       "      <th>West</th>\n",
       "      <td>1392</td>\n",
       "      <td>51173</td>\n",
       "    </tr>\n",
       "  </tbody>\n",
       "</table>\n",
       "</div>"
      ],
      "text/plain": [
       "spending_flag  High spender  Low spender\n",
       "region                                  \n",
       "Midwest                1263        47256\n",
       "Northeast               881        35507\n",
       "South                  1815        66922\n",
       "West                   1392        51173"
      ]
     },
     "execution_count": 47,
     "metadata": {},
     "output_type": "execute_result"
    }
   ],
   "source": [
    "# Check the output\n",
    "\n",
    "spe_reg"
   ]
  },
  {
   "cell_type": "code",
   "execution_count": 48,
   "metadata": {},
   "outputs": [
    {
     "data": {
      "text/plain": [
       "Text(0.5, 1.0, 'Low and high spenders by region')"
      ]
     },
     "execution_count": 48,
     "metadata": {},
     "output_type": "execute_result"
    },
    {
     "data": {
      "image/png": "[encoded data removed]",
      "text/plain": [
       "<Figure size 720x432 with 1 Axes>"
      ]
     },
     "metadata": {
      "needs_background": "light"
     },
     "output_type": "display_data"
    }
   ],
   "source": [
    "# Create a chart\n",
    "\n",
    "colors = ['orange', 'green']\n",
    "\n",
    "spe_reg_bar = spe_reg.plot.bar(stacked = True, xlabel = (''), color = colors, figsize = (10,6), rot = 30)\n",
    "\n",
    "plt.title('Low and high spenders by region', fontsize=16)"
   ]
  },
  {
   "cell_type": "code",
   "execution_count": 49,
   "metadata": {},
   "outputs": [],
   "source": [
    "# Export chart outside of Jupyter in the form of an image file\n",
    "\n",
    "spe_reg_bar.figure.savefig(os.path.join(path, '04 Analysis','Visualizations', 'spe_reg_bar.png'))"
   ]
  },
  {
   "cell_type": "code",
   "execution_count": 50,
   "metadata": {},
   "outputs": [],
   "source": [
    "# Number of orders taken by high and low spenders by region \n",
    "\n",
    "freq_reg = pd.crosstab(index = df['region'], \n",
    "                                        columns = df['freq_flag'], \n",
    "                                        values = df['user_id'], \n",
    "                                        aggfunc = 'nunique')"
   ]
  },
  {
   "cell_type": "code",
   "execution_count": 51,
   "metadata": {},
   "outputs": [
    {
     "data": {
      "text/html": [
       "<div>\n",
       "<style scoped>\n",
       "    .dataframe tbody tr th:only-of-type {\n",
       "        vertical-align: middle;\n",
       "    }\n",
       "\n",
       "    .dataframe tbody tr th {\n",
       "        vertical-align: top;\n",
       "    }\n",
       "\n",
       "    .dataframe thead th {\n",
       "        text-align: right;\n",
       "    }\n",
       "</style>\n",
       "<table border=\"1\" class=\"dataframe\">\n",
       "  <thead>\n",
       "    <tr style=\"text-align: right;\">\n",
       "      <th>freq_flag</th>\n",
       "      <th>Frequent customer</th>\n",
       "      <th>Non-frequent customer</th>\n",
       "      <th>Regular customer</th>\n",
       "    </tr>\n",
       "    <tr>\n",
       "      <th>region</th>\n",
       "      <th></th>\n",
       "      <th></th>\n",
       "      <th></th>\n",
       "    </tr>\n",
       "  </thead>\n",
       "  <tbody>\n",
       "    <tr>\n",
       "      <th>Midwest</th>\n",
       "      <td>20278</td>\n",
       "      <td>14063</td>\n",
       "      <td>14178</td>\n",
       "    </tr>\n",
       "    <tr>\n",
       "      <th>Northeast</th>\n",
       "      <td>15272</td>\n",
       "      <td>10444</td>\n",
       "      <td>10672</td>\n",
       "    </tr>\n",
       "    <tr>\n",
       "      <th>South</th>\n",
       "      <td>28867</td>\n",
       "      <td>19934</td>\n",
       "      <td>19935</td>\n",
       "    </tr>\n",
       "    <tr>\n",
       "      <th>West</th>\n",
       "      <td>22179</td>\n",
       "      <td>15178</td>\n",
       "      <td>15208</td>\n",
       "    </tr>\n",
       "  </tbody>\n",
       "</table>\n",
       "</div>"
      ],
      "text/plain": [
       "freq_flag  Frequent customer  Non-frequent customer  Regular customer\n",
       "region                                                               \n",
       "Midwest                20278                  14063             14178\n",
       "Northeast              15272                  10444             10672\n",
       "South                  28867                  19934             19935\n",
       "West                   22179                  15178             15208"
      ]
     },
     "execution_count": 51,
     "metadata": {},
     "output_type": "execute_result"
    }
   ],
   "source": [
    "# Check the output\n",
    "\n",
    "freq_reg"
   ]
  },
  {
   "cell_type": "code",
   "execution_count": 52,
   "metadata": {},
   "outputs": [
    {
     "data": {
      "text/plain": [
       "Text(0.5, 1.0, 'Frequent customers by region')"
      ]
     },
     "execution_count": 52,
     "metadata": {},
     "output_type": "execute_result"
    },
    {
     "data": {
      "image/png": "[encoded data removed]",
      "text/plain": [
       "<Figure size 720x432 with 1 Axes>"
      ]
     },
     "metadata": {
      "needs_background": "light"
     },
     "output_type": "display_data"
    }
   ],
   "source": [
    "# Create a chart\n",
    "\n",
    "freq_reg_bar = freq_reg.plot.bar(xlabel = (''), figsize = (10, 6), rot = 30)\n",
    "\n",
    "plt.title('Frequent customers by region', fontsize=16)"
   ]
  },
  {
   "cell_type": "code",
   "execution_count": 53,
   "metadata": {},
   "outputs": [],
   "source": [
    "# Export chart outside of Jupyter in the form of an image file\n",
    "\n",
    "freq_reg_bar.figure.savefig(os.path.join(path, '04 Analysis','Visualizations', 'freq_reg_bar.png'))"
   ]
  },
  {
   "cell_type": "code",
   "execution_count": 54,
   "metadata": {},
   "outputs": [],
   "source": [
    "# Number of orders taken by high and low spenders by region \n",
    "\n",
    "loy_reg = pd.crosstab(index = df['region'], \n",
    "                                    columns = df['loyalty_flag'], \n",
    "                                    values = df['user_id'], \n",
    "                                    aggfunc = 'nunique')"
   ]
  },
  {
   "cell_type": "code",
   "execution_count": 55,
   "metadata": {},
   "outputs": [
    {
     "data": {
      "text/html": [
       "<div>\n",
       "<style scoped>\n",
       "    .dataframe tbody tr th:only-of-type {\n",
       "        vertical-align: middle;\n",
       "    }\n",
       "\n",
       "    .dataframe tbody tr th {\n",
       "        vertical-align: top;\n",
       "    }\n",
       "\n",
       "    .dataframe thead th {\n",
       "        text-align: right;\n",
       "    }\n",
       "</style>\n",
       "<table border=\"1\" class=\"dataframe\">\n",
       "  <thead>\n",
       "    <tr style=\"text-align: right;\">\n",
       "      <th>loyalty_flag</th>\n",
       "      <th>Loyal customer</th>\n",
       "      <th>New customer</th>\n",
       "      <th>Regular customer</th>\n",
       "    </tr>\n",
       "    <tr>\n",
       "      <th>region</th>\n",
       "      <th></th>\n",
       "      <th></th>\n",
       "      <th></th>\n",
       "    </tr>\n",
       "  </thead>\n",
       "  <tbody>\n",
       "    <tr>\n",
       "      <th>Midwest</th>\n",
       "      <td>3991</td>\n",
       "      <td>26333</td>\n",
       "      <td>18195</td>\n",
       "    </tr>\n",
       "    <tr>\n",
       "      <th>Northeast</th>\n",
       "      <td>3027</td>\n",
       "      <td>19869</td>\n",
       "      <td>13492</td>\n",
       "    </tr>\n",
       "    <tr>\n",
       "      <th>South</th>\n",
       "      <td>5637</td>\n",
       "      <td>37491</td>\n",
       "      <td>25609</td>\n",
       "    </tr>\n",
       "    <tr>\n",
       "      <th>West</th>\n",
       "      <td>4362</td>\n",
       "      <td>28635</td>\n",
       "      <td>19568</td>\n",
       "    </tr>\n",
       "  </tbody>\n",
       "</table>\n",
       "</div>"
      ],
      "text/plain": [
       "loyalty_flag  Loyal customer  New customer  Regular customer\n",
       "region                                                      \n",
       "Midwest                 3991         26333             18195\n",
       "Northeast               3027         19869             13492\n",
       "South                   5637         37491             25609\n",
       "West                    4362         28635             19568"
      ]
     },
     "execution_count": 55,
     "metadata": {},
     "output_type": "execute_result"
    }
   ],
   "source": [
    "# Check the output \n",
    "\n",
    "loy_reg"
   ]
  },
  {
   "cell_type": "code",
   "execution_count": 56,
   "metadata": {},
   "outputs": [
    {
     "data": {
      "text/plain": [
       "Text(0.5, 1.0, 'Loyal customers by region')"
      ]
     },
     "execution_count": 56,
     "metadata": {},
     "output_type": "execute_result"
    },
    {
     "data": {
      "image/png": "[encoded data removed]",
      "text/plain": [
       "<Figure size 720x432 with 1 Axes>"
      ]
     },
     "metadata": {
      "needs_background": "light"
     },
     "output_type": "display_data"
    }
   ],
   "source": [
    "# Create a chart\n",
    "\n",
    "loy_reg_bar = loy_reg.plot.bar(xlabel = (''), figsize = (10,6), rot = 30)\n",
    "\n",
    "plt.title('Loyal customers by region', fontsize=16)"
   ]
  },
  {
   "cell_type": "code",
   "execution_count": 57,
   "metadata": {},
   "outputs": [],
   "source": [
    "# Export chart outside of Jupyter in the form of an image file\n",
    "\n",
    "loy_reg_bar.figure.savefig(os.path.join(path, '04 Analysis','Visualizations', 'loy_reg_bar.png'))"
   ]
  },
  {
   "cell_type": "markdown",
   "metadata": {},
   "source": [
    "## 04. The Instacart CFO isn’t interested in customers who don’t generate much revenue for the app. Create an exclusion flag for low-activity customers (customers with less than 5 orders) and exclude them from the data. Make sure you export this sample."
   ]
  },
  {
   "cell_type": "code",
   "execution_count": 58,
   "metadata": {},
   "outputs": [],
   "source": [
    "# Classify customers with orders number < 5 as 'low-active' category\n",
    "\n",
    "df.loc[df['max_order'] < 5, 'activity'] = 'low-active'"
   ]
  },
  {
   "cell_type": "code",
   "execution_count": 59,
   "metadata": {},
   "outputs": [],
   "source": [
    "# Classify customers with order number >= 5 as 'normal-active' category\n",
    "\n",
    "df.loc[df['max_order'] >= 5, 'activity'] = 'normal-active'"
   ]
  },
  {
   "cell_type": "code",
   "execution_count": 60,
   "metadata": {},
   "outputs": [
    {
     "data": {
      "text/plain": [
       "activity\n",
       "low-active        43578\n",
       "normal-active    162631\n",
       "Name: user_id, dtype: int64"
      ]
     },
     "execution_count": 60,
     "metadata": {},
     "output_type": "execute_result"
    }
   ],
   "source": [
    "# Check the number of normal and low- active customers\n",
    "\n",
    "df.groupby('activity').user_id.nunique()"
   ]
  },
  {
   "cell_type": "code",
   "execution_count": 61,
   "metadata": {},
   "outputs": [],
   "source": [
    "# Assign low active customers to new dataframe\n",
    "\n",
    "low_active_customers = df[df['activity'] == 'low-active']"
   ]
  },
  {
   "cell_type": "code",
   "execution_count": 62,
   "metadata": {},
   "outputs": [
    {
     "data": {
      "text/html": [
       "<div>\n",
       "<style scoped>\n",
       "    .dataframe tbody tr th:only-of-type {\n",
       "        vertical-align: middle;\n",
       "    }\n",
       "\n",
       "    .dataframe tbody tr th {\n",
       "        vertical-align: top;\n",
       "    }\n",
       "\n",
       "    .dataframe thead th {\n",
       "        text-align: right;\n",
       "    }\n",
       "</style>\n",
       "<table border=\"1\" class=\"dataframe\">\n",
       "  <thead>\n",
       "    <tr style=\"text-align: right;\">\n",
       "      <th></th>\n",
       "      <th>user_id</th>\n",
       "      <th>gender</th>\n",
       "      <th>state</th>\n",
       "      <th>age</th>\n",
       "      <th>joining_date</th>\n",
       "      <th>n_dependants</th>\n",
       "      <th>fam_status</th>\n",
       "      <th>income</th>\n",
       "      <th>product_id</th>\n",
       "      <th>product_name</th>\n",
       "      <th>...</th>\n",
       "      <th>add_to_cart_order</th>\n",
       "      <th>reordered</th>\n",
       "      <th>max_order</th>\n",
       "      <th>loyalty_flag</th>\n",
       "      <th>avg_product_price</th>\n",
       "      <th>spending_flag</th>\n",
       "      <th>median_order_freq</th>\n",
       "      <th>freq_flag</th>\n",
       "      <th>region</th>\n",
       "      <th>activity</th>\n",
       "    </tr>\n",
       "  </thead>\n",
       "  <tbody>\n",
       "    <tr>\n",
       "      <th>729</th>\n",
       "      <td>168851</td>\n",
       "      <td>Male</td>\n",
       "      <td>South Carolina</td>\n",
       "      <td>30</td>\n",
       "      <td>1/1/2017</td>\n",
       "      <td>0</td>\n",
       "      <td>single</td>\n",
       "      <td>63712</td>\n",
       "      <td>102</td>\n",
       "      <td>Danish Butter Cookies</td>\n",
       "      <td>...</td>\n",
       "      <td>1</td>\n",
       "      <td>0</td>\n",
       "      <td>3</td>\n",
       "      <td>New customer</td>\n",
       "      <td>7.485714</td>\n",
       "      <td>Low spender</td>\n",
       "      <td>20.5</td>\n",
       "      <td>Non-frequent customer</td>\n",
       "      <td>South</td>\n",
       "      <td>low-active</td>\n",
       "    </tr>\n",
       "    <tr>\n",
       "      <th>730</th>\n",
       "      <td>168851</td>\n",
       "      <td>Male</td>\n",
       "      <td>South Carolina</td>\n",
       "      <td>30</td>\n",
       "      <td>1/1/2017</td>\n",
       "      <td>0</td>\n",
       "      <td>single</td>\n",
       "      <td>63712</td>\n",
       "      <td>130</td>\n",
       "      <td>Vanilla Milk Chocolate Almond Ice Cream Bars M...</td>\n",
       "      <td>...</td>\n",
       "      <td>3</td>\n",
       "      <td>0</td>\n",
       "      <td>3</td>\n",
       "      <td>New customer</td>\n",
       "      <td>7.485714</td>\n",
       "      <td>Low spender</td>\n",
       "      <td>20.5</td>\n",
       "      <td>Non-frequent customer</td>\n",
       "      <td>South</td>\n",
       "      <td>low-active</td>\n",
       "    </tr>\n",
       "    <tr>\n",
       "      <th>731</th>\n",
       "      <td>168851</td>\n",
       "      <td>Male</td>\n",
       "      <td>South Carolina</td>\n",
       "      <td>30</td>\n",
       "      <td>1/1/2017</td>\n",
       "      <td>0</td>\n",
       "      <td>single</td>\n",
       "      <td>63712</td>\n",
       "      <td>130</td>\n",
       "      <td>Vanilla Milk Chocolate Almond Ice Cream Bars M...</td>\n",
       "      <td>...</td>\n",
       "      <td>2</td>\n",
       "      <td>1</td>\n",
       "      <td>3</td>\n",
       "      <td>New customer</td>\n",
       "      <td>7.485714</td>\n",
       "      <td>Low spender</td>\n",
       "      <td>20.5</td>\n",
       "      <td>Non-frequent customer</td>\n",
       "      <td>South</td>\n",
       "      <td>low-active</td>\n",
       "    </tr>\n",
       "    <tr>\n",
       "      <th>732</th>\n",
       "      <td>168851</td>\n",
       "      <td>Male</td>\n",
       "      <td>South Carolina</td>\n",
       "      <td>30</td>\n",
       "      <td>1/1/2017</td>\n",
       "      <td>0</td>\n",
       "      <td>single</td>\n",
       "      <td>63712</td>\n",
       "      <td>130</td>\n",
       "      <td>Vanilla Milk Chocolate Almond Ice Cream Bars M...</td>\n",
       "      <td>...</td>\n",
       "      <td>1</td>\n",
       "      <td>1</td>\n",
       "      <td>3</td>\n",
       "      <td>New customer</td>\n",
       "      <td>7.485714</td>\n",
       "      <td>Low spender</td>\n",
       "      <td>20.5</td>\n",
       "      <td>Non-frequent customer</td>\n",
       "      <td>South</td>\n",
       "      <td>low-active</td>\n",
       "    </tr>\n",
       "    <tr>\n",
       "      <th>733</th>\n",
       "      <td>168851</td>\n",
       "      <td>Male</td>\n",
       "      <td>South Carolina</td>\n",
       "      <td>30</td>\n",
       "      <td>1/1/2017</td>\n",
       "      <td>0</td>\n",
       "      <td>single</td>\n",
       "      <td>63712</td>\n",
       "      <td>196</td>\n",
       "      <td>Soda</td>\n",
       "      <td>...</td>\n",
       "      <td>2</td>\n",
       "      <td>0</td>\n",
       "      <td>3</td>\n",
       "      <td>New customer</td>\n",
       "      <td>7.485714</td>\n",
       "      <td>Low spender</td>\n",
       "      <td>20.5</td>\n",
       "      <td>Non-frequent customer</td>\n",
       "      <td>South</td>\n",
       "      <td>low-active</td>\n",
       "    </tr>\n",
       "  </tbody>\n",
       "</table>\n",
       "<p>5 rows × 28 columns</p>\n",
       "</div>"
      ],
      "text/plain": [
       "    user_id gender           state age joining_date  n_dependants fam_status  \\\n",
       "729  168851   Male  South Carolina  30     1/1/2017             0     single   \n",
       "730  168851   Male  South Carolina  30     1/1/2017             0     single   \n",
       "731  168851   Male  South Carolina  30     1/1/2017             0     single   \n",
       "732  168851   Male  South Carolina  30     1/1/2017             0     single   \n",
       "733  168851   Male  South Carolina  30     1/1/2017             0     single   \n",
       "\n",
       "     income  product_id                                       product_name  \\\n",
       "729   63712         102                              Danish Butter Cookies   \n",
       "730   63712         130  Vanilla Milk Chocolate Almond Ice Cream Bars M...   \n",
       "731   63712         130  Vanilla Milk Chocolate Almond Ice Cream Bars M...   \n",
       "732   63712         130  Vanilla Milk Chocolate Almond Ice Cream Bars M...   \n",
       "733   63712         196                                               Soda   \n",
       "\n",
       "     ...  add_to_cart_order  reordered  max_order  loyalty_flag  \\\n",
       "729  ...                  1          0          3  New customer   \n",
       "730  ...                  3          0          3  New customer   \n",
       "731  ...                  2          1          3  New customer   \n",
       "732  ...                  1          1          3  New customer   \n",
       "733  ...                  2          0          3  New customer   \n",
       "\n",
       "     avg_product_price  spending_flag  median_order_freq  \\\n",
       "729           7.485714    Low spender               20.5   \n",
       "730           7.485714    Low spender               20.5   \n",
       "731           7.485714    Low spender               20.5   \n",
       "732           7.485714    Low spender               20.5   \n",
       "733           7.485714    Low spender               20.5   \n",
       "\n",
       "                 freq_flag  region    activity  \n",
       "729  Non-frequent customer   South  low-active  \n",
       "730  Non-frequent customer   South  low-active  \n",
       "731  Non-frequent customer   South  low-active  \n",
       "732  Non-frequent customer   South  low-active  \n",
       "733  Non-frequent customer   South  low-active  \n",
       "\n",
       "[5 rows x 28 columns]"
      ]
     },
     "execution_count": 62,
     "metadata": {},
     "output_type": "execute_result"
    }
   ],
   "source": [
    "low_active_customers.head()"
   ]
  },
  {
   "cell_type": "code",
   "execution_count": 63,
   "metadata": {},
   "outputs": [
    {
     "data": {
      "text/plain": [
       "(1440295, 28)"
      ]
     },
     "execution_count": 63,
     "metadata": {},
     "output_type": "execute_result"
    }
   ],
   "source": [
    "# Check the shape of low_active_customers df\n",
    "\n",
    "low_active_customers.shape"
   ]
  },
  {
   "cell_type": "code",
   "execution_count": 64,
   "metadata": {},
   "outputs": [],
   "source": [
    "# Assign normal active customers to new dataframe\n",
    "\n",
    "active_customers = df[df['activity'] == 'normal-active']"
   ]
  },
  {
   "cell_type": "code",
   "execution_count": 65,
   "metadata": {},
   "outputs": [
    {
     "data": {
      "text/html": [
       "<div>\n",
       "<style scoped>\n",
       "    .dataframe tbody tr th:only-of-type {\n",
       "        vertical-align: middle;\n",
       "    }\n",
       "\n",
       "    .dataframe tbody tr th {\n",
       "        vertical-align: top;\n",
       "    }\n",
       "\n",
       "    .dataframe thead th {\n",
       "        text-align: right;\n",
       "    }\n",
       "</style>\n",
       "<table border=\"1\" class=\"dataframe\">\n",
       "  <thead>\n",
       "    <tr style=\"text-align: right;\">\n",
       "      <th></th>\n",
       "      <th>user_id</th>\n",
       "      <th>gender</th>\n",
       "      <th>state</th>\n",
       "      <th>age</th>\n",
       "      <th>joining_date</th>\n",
       "      <th>n_dependants</th>\n",
       "      <th>fam_status</th>\n",
       "      <th>income</th>\n",
       "      <th>product_id</th>\n",
       "      <th>product_name</th>\n",
       "      <th>...</th>\n",
       "      <th>add_to_cart_order</th>\n",
       "      <th>reordered</th>\n",
       "      <th>max_order</th>\n",
       "      <th>loyalty_flag</th>\n",
       "      <th>avg_product_price</th>\n",
       "      <th>spending_flag</th>\n",
       "      <th>median_order_freq</th>\n",
       "      <th>freq_flag</th>\n",
       "      <th>region</th>\n",
       "      <th>activity</th>\n",
       "    </tr>\n",
       "  </thead>\n",
       "  <tbody>\n",
       "    <tr>\n",
       "      <th>0</th>\n",
       "      <td>26711</td>\n",
       "      <td>Female</td>\n",
       "      <td>Missouri</td>\n",
       "      <td>48</td>\n",
       "      <td>1/1/2017</td>\n",
       "      <td>3</td>\n",
       "      <td>married</td>\n",
       "      <td>165665</td>\n",
       "      <td>196</td>\n",
       "      <td>Soda</td>\n",
       "      <td>...</td>\n",
       "      <td>2</td>\n",
       "      <td>0</td>\n",
       "      <td>8</td>\n",
       "      <td>New customer</td>\n",
       "      <td>7.988889</td>\n",
       "      <td>Low spender</td>\n",
       "      <td>19.0</td>\n",
       "      <td>Regular customer</td>\n",
       "      <td>Midwest</td>\n",
       "      <td>normal-active</td>\n",
       "    </tr>\n",
       "    <tr>\n",
       "      <th>1</th>\n",
       "      <td>26711</td>\n",
       "      <td>Female</td>\n",
       "      <td>Missouri</td>\n",
       "      <td>48</td>\n",
       "      <td>1/1/2017</td>\n",
       "      <td>3</td>\n",
       "      <td>married</td>\n",
       "      <td>165665</td>\n",
       "      <td>196</td>\n",
       "      <td>Soda</td>\n",
       "      <td>...</td>\n",
       "      <td>1</td>\n",
       "      <td>1</td>\n",
       "      <td>8</td>\n",
       "      <td>New customer</td>\n",
       "      <td>7.988889</td>\n",
       "      <td>Low spender</td>\n",
       "      <td>19.0</td>\n",
       "      <td>Regular customer</td>\n",
       "      <td>Midwest</td>\n",
       "      <td>normal-active</td>\n",
       "    </tr>\n",
       "    <tr>\n",
       "      <th>2</th>\n",
       "      <td>26711</td>\n",
       "      <td>Female</td>\n",
       "      <td>Missouri</td>\n",
       "      <td>48</td>\n",
       "      <td>1/1/2017</td>\n",
       "      <td>3</td>\n",
       "      <td>married</td>\n",
       "      <td>165665</td>\n",
       "      <td>196</td>\n",
       "      <td>Soda</td>\n",
       "      <td>...</td>\n",
       "      <td>2</td>\n",
       "      <td>1</td>\n",
       "      <td>8</td>\n",
       "      <td>New customer</td>\n",
       "      <td>7.988889</td>\n",
       "      <td>Low spender</td>\n",
       "      <td>19.0</td>\n",
       "      <td>Regular customer</td>\n",
       "      <td>Midwest</td>\n",
       "      <td>normal-active</td>\n",
       "    </tr>\n",
       "    <tr>\n",
       "      <th>3</th>\n",
       "      <td>26711</td>\n",
       "      <td>Female</td>\n",
       "      <td>Missouri</td>\n",
       "      <td>48</td>\n",
       "      <td>1/1/2017</td>\n",
       "      <td>3</td>\n",
       "      <td>married</td>\n",
       "      <td>165665</td>\n",
       "      <td>6184</td>\n",
       "      <td>Clementines</td>\n",
       "      <td>...</td>\n",
       "      <td>1</td>\n",
       "      <td>0</td>\n",
       "      <td>8</td>\n",
       "      <td>New customer</td>\n",
       "      <td>7.988889</td>\n",
       "      <td>Low spender</td>\n",
       "      <td>19.0</td>\n",
       "      <td>Regular customer</td>\n",
       "      <td>Midwest</td>\n",
       "      <td>normal-active</td>\n",
       "    </tr>\n",
       "    <tr>\n",
       "      <th>4</th>\n",
       "      <td>26711</td>\n",
       "      <td>Female</td>\n",
       "      <td>Missouri</td>\n",
       "      <td>48</td>\n",
       "      <td>1/1/2017</td>\n",
       "      <td>3</td>\n",
       "      <td>married</td>\n",
       "      <td>165665</td>\n",
       "      <td>6184</td>\n",
       "      <td>Clementines</td>\n",
       "      <td>...</td>\n",
       "      <td>2</td>\n",
       "      <td>1</td>\n",
       "      <td>8</td>\n",
       "      <td>New customer</td>\n",
       "      <td>7.988889</td>\n",
       "      <td>Low spender</td>\n",
       "      <td>19.0</td>\n",
       "      <td>Regular customer</td>\n",
       "      <td>Midwest</td>\n",
       "      <td>normal-active</td>\n",
       "    </tr>\n",
       "  </tbody>\n",
       "</table>\n",
       "<p>5 rows × 28 columns</p>\n",
       "</div>"
      ],
      "text/plain": [
       "  user_id  gender     state age joining_date  n_dependants fam_status  income  \\\n",
       "0   26711  Female  Missouri  48     1/1/2017             3    married  165665   \n",
       "1   26711  Female  Missouri  48     1/1/2017             3    married  165665   \n",
       "2   26711  Female  Missouri  48     1/1/2017             3    married  165665   \n",
       "3   26711  Female  Missouri  48     1/1/2017             3    married  165665   \n",
       "4   26711  Female  Missouri  48     1/1/2017             3    married  165665   \n",
       "\n",
       "   product_id product_name  ...  add_to_cart_order  reordered  max_order  \\\n",
       "0         196         Soda  ...                  2          0          8   \n",
       "1         196         Soda  ...                  1          1          8   \n",
       "2         196         Soda  ...                  2          1          8   \n",
       "3        6184  Clementines  ...                  1          0          8   \n",
       "4        6184  Clementines  ...                  2          1          8   \n",
       "\n",
       "   loyalty_flag  avg_product_price  spending_flag  median_order_freq  \\\n",
       "0  New customer           7.988889    Low spender               19.0   \n",
       "1  New customer           7.988889    Low spender               19.0   \n",
       "2  New customer           7.988889    Low spender               19.0   \n",
       "3  New customer           7.988889    Low spender               19.0   \n",
       "4  New customer           7.988889    Low spender               19.0   \n",
       "\n",
       "          freq_flag   region       activity  \n",
       "0  Regular customer  Midwest  normal-active  \n",
       "1  Regular customer  Midwest  normal-active  \n",
       "2  Regular customer  Midwest  normal-active  \n",
       "3  Regular customer  Midwest  normal-active  \n",
       "4  Regular customer  Midwest  normal-active  \n",
       "\n",
       "[5 rows x 28 columns]"
      ]
     },
     "execution_count": 65,
     "metadata": {},
     "output_type": "execute_result"
    }
   ],
   "source": [
    "active_customers.head()"
   ]
  },
  {
   "cell_type": "code",
   "execution_count": 66,
   "metadata": {},
   "outputs": [
    {
     "data": {
      "text/plain": [
       "(30964564, 28)"
      ]
     },
     "execution_count": 66,
     "metadata": {},
     "output_type": "execute_result"
    }
   ],
   "source": [
    "active_customers.shape"
   ]
  },
  {
   "cell_type": "code",
   "execution_count": 67,
   "metadata": {},
   "outputs": [],
   "source": [
    "# Export low_active_customers df\n",
    "\n",
    "low_active_customers.to_pickle(os.path.join(path, '02 Data', 'Prepared Data', 'low_active_customers.pkl'))"
   ]
  },
  {
   "cell_type": "code",
   "execution_count": null,
   "metadata": {},
   "outputs": [],
   "source": []
  },
  {
   "cell_type": "markdown",
   "metadata": {},
   "source": [
    "## 05. The marketing and business strategy units at Instacart want to create more-relevant marketing strategies for different products and are, thus, curious about customer profiling in their database. Create a profiling variable based on age, income, certain goods in the “department_id” column, and number of dependents. You might also use the “orders_day_of_the_week” and “order_hour_of_day” columns if you can think of a way they would impact customer profiles. (Hint: As an example, try thinking of what characteristics would lead you to the profile “Single adult” or “Young parent.”)\n"
   ]
  },
  {
   "cell_type": "markdown",
   "metadata": {},
   "source": [
    "### a) Age groups"
   ]
  },
  {
   "cell_type": "code",
   "execution_count": 68,
   "metadata": {},
   "outputs": [
    {
     "data": {
      "text/plain": [
       "'18'"
      ]
     },
     "execution_count": 68,
     "metadata": {},
     "output_type": "execute_result"
    }
   ],
   "source": [
    "# Check the min value for column 'age'\n",
    "\n",
    "active_customers['age'].min()"
   ]
  },
  {
   "cell_type": "code",
   "execution_count": 69,
   "metadata": {},
   "outputs": [
    {
     "data": {
      "text/plain": [
       "'81'"
      ]
     },
     "execution_count": 69,
     "metadata": {},
     "output_type": "execute_result"
    }
   ],
   "source": [
    "# Check the max value for column 'age'\n",
    "\n",
    "active_customers['age'].max()"
   ]
  },
  {
   "cell_type": "code",
   "execution_count": 70,
   "metadata": {},
   "outputs": [
    {
     "name": "stderr",
     "output_type": "stream",
     "text": [
      "<ipython-input-70-40806de9b60c>:5: SettingWithCopyWarning: \n",
      "A value is trying to be set on a copy of a slice from a DataFrame.\n",
      "Try using .loc[row_indexer,col_indexer] = value instead\n",
      "\n",
      "See the caveats in the documentation: https://pandas.pydata.org/pandas-docs/stable/user_guide/indexing.html#returning-a-view-versus-a-copy\n",
      "  active_customers['age'] = active_customers['age'].astype('int')\n"
     ]
    }
   ],
   "source": [
    "# Change the data type for age column\n",
    "\n",
    "# Change data type of new columns to 'category'\n",
    "\n",
    "active_customers['age'] = active_customers['age'].astype('int')"
   ]
  },
  {
   "cell_type": "code",
   "execution_count": 71,
   "metadata": {},
   "outputs": [
    {
     "name": "stderr",
     "output_type": "stream",
     "text": [
      "/Users/edytakowal/opt/anaconda3/lib/python3.8/site-packages/pandas/core/indexing.py:1596: SettingWithCopyWarning: \n",
      "A value is trying to be set on a copy of a slice from a DataFrame.\n",
      "Try using .loc[row_indexer,col_indexer] = value instead\n",
      "\n",
      "See the caveats in the documentation: https://pandas.pydata.org/pandas-docs/stable/user_guide/indexing.html#returning-a-view-versus-a-copy\n",
      "  self.obj[key] = _infer_fill_value(value)\n",
      "/Users/edytakowal/opt/anaconda3/lib/python3.8/site-packages/pandas/core/indexing.py:1765: SettingWithCopyWarning: \n",
      "A value is trying to be set on a copy of a slice from a DataFrame.\n",
      "Try using .loc[row_indexer,col_indexer] = value instead\n",
      "\n",
      "See the caveats in the documentation: https://pandas.pydata.org/pandas-docs/stable/user_guide/indexing.html#returning-a-view-versus-a-copy\n",
      "  isetter(loc, value)\n",
      "/Users/edytakowal/opt/anaconda3/lib/python3.8/site-packages/pandas/core/indexing.py:1765: SettingWithCopyWarning: \n",
      "A value is trying to be set on a copy of a slice from a DataFrame.\n",
      "Try using .loc[row_indexer,col_indexer] = value instead\n",
      "\n",
      "See the caveats in the documentation: https://pandas.pydata.org/pandas-docs/stable/user_guide/indexing.html#returning-a-view-versus-a-copy\n",
      "  isetter(loc, value)\n",
      "/Users/edytakowal/opt/anaconda3/lib/python3.8/site-packages/pandas/core/indexing.py:1765: SettingWithCopyWarning: \n",
      "A value is trying to be set on a copy of a slice from a DataFrame.\n",
      "Try using .loc[row_indexer,col_indexer] = value instead\n",
      "\n",
      "See the caveats in the documentation: https://pandas.pydata.org/pandas-docs/stable/user_guide/indexing.html#returning-a-view-versus-a-copy\n",
      "  isetter(loc, value)\n",
      "/Users/edytakowal/opt/anaconda3/lib/python3.8/site-packages/pandas/core/indexing.py:1765: SettingWithCopyWarning: \n",
      "A value is trying to be set on a copy of a slice from a DataFrame.\n",
      "Try using .loc[row_indexer,col_indexer] = value instead\n",
      "\n",
      "See the caveats in the documentation: https://pandas.pydata.org/pandas-docs/stable/user_guide/indexing.html#returning-a-view-versus-a-copy\n",
      "  isetter(loc, value)\n",
      "/Users/edytakowal/opt/anaconda3/lib/python3.8/site-packages/pandas/core/indexing.py:1765: SettingWithCopyWarning: \n",
      "A value is trying to be set on a copy of a slice from a DataFrame.\n",
      "Try using .loc[row_indexer,col_indexer] = value instead\n",
      "\n",
      "See the caveats in the documentation: https://pandas.pydata.org/pandas-docs/stable/user_guide/indexing.html#returning-a-view-versus-a-copy\n",
      "  isetter(loc, value)\n"
     ]
    }
   ],
   "source": [
    "# Create a new column with age groups \n",
    "\n",
    "active_customers.loc[active_customers['age'] <= 29, 'age_group'] = '18-29'\n",
    "active_customers.loc[(active_customers['age'] > 29) & \n",
    "                     (active_customers['age'] < 40), 'age_group'] = '30-39'\n",
    "active_customers.loc[(active_customers['age'] > 39) & \n",
    "                     (active_customers['age'] < 50), 'age_group'] = '40-49'\n",
    "active_customers.loc[(active_customers['age'] > 49) & \n",
    "                     (active_customers['age'] < 65), 'age_group'] = '50-65'\n",
    "active_customers.loc[(active_customers['age'] >= 65), 'age_group'] = '65+'\n",
    "\n"
   ]
  },
  {
   "cell_type": "code",
   "execution_count": 72,
   "metadata": {},
   "outputs": [
    {
     "data": {
      "text/plain": [
       "age_group\n",
       "18-29    30376\n",
       "30-39    25284\n",
       "40-49    25697\n",
       "50-65    38024\n",
       "65+      43250\n",
       "Name: user_id, dtype: int64"
      ]
     },
     "execution_count": 72,
     "metadata": {},
     "output_type": "execute_result"
    }
   ],
   "source": [
    "# Check the frequency of age_group column\n",
    "\n",
    "active_customers.groupby('age_group').user_id.nunique()"
   ]
  },
  {
   "cell_type": "code",
   "execution_count": 73,
   "metadata": {},
   "outputs": [],
   "source": [
    "# Create a variable \n",
    "\n",
    "age = active_customers.groupby('age_group').user_id.nunique()"
   ]
  },
  {
   "cell_type": "code",
   "execution_count": 74,
   "metadata": {},
   "outputs": [
    {
     "data": {
      "text/plain": [
       "Text(0.5, 1.0, 'Customers by age group')"
      ]
     },
     "execution_count": 74,
     "metadata": {},
     "output_type": "execute_result"
    },
    {
     "data": {
      "image/png": "[encoded data removed]",
      "text/plain": [
       "<Figure size 720x432 with 1 Axes>"
      ]
     },
     "metadata": {
      "needs_background": "light"
     },
     "output_type": "display_data"
    }
   ],
   "source": [
    "# Create plot to show age groups frequency\n",
    "\n",
    "age_bar = age.plot.bar(xlabel = ('Age group'), color = 'g', figsize = (10, 6), rot = 30)\n",
    "\n",
    "plt.title('Customers by age group', fontsize = 16)"
   ]
  },
  {
   "cell_type": "code",
   "execution_count": 75,
   "metadata": {},
   "outputs": [],
   "source": [
    "# Export chart outside of Jupyter in the form of an image file\n",
    "\n",
    "age_bar.figure.savefig(os.path.join(path, '04 Analysis','Visualizations', 'age_bar.png'))"
   ]
  },
  {
   "cell_type": "code",
   "execution_count": 76,
   "metadata": {},
   "outputs": [
    {
     "data": {
      "text/plain": [
       "Text(0.5, 1.0, 'Customers by age group')"
      ]
     },
     "execution_count": 76,
     "metadata": {},
     "output_type": "execute_result"
    },
    {
     "data": {
      "image/png": "[encoded data removed]",
      "text/plain": [
       "<Figure size 720x432 with 1 Axes>"
      ]
     },
     "metadata": {},
     "output_type": "display_data"
    }
   ],
   "source": [
    "# Create a pie chart\n",
    "\n",
    "age_pie = age.plot.pie(ylabel = (''), autopct = '%.0f%%', fontsize = 12, figsize = (10, 6), title = 'Customers by family status')\n",
    "\n",
    "plt.title('Customers by age group', fontsize = 16)"
   ]
  },
  {
   "cell_type": "code",
   "execution_count": 77,
   "metadata": {},
   "outputs": [],
   "source": [
    "# Export chart outside of Jupyter in the form of an image file\n",
    "\n",
    "age_pie.figure.savefig(os.path.join(path, '04 Analysis','Visualizations', 'age_pie.png'))"
   ]
  },
  {
   "cell_type": "code",
   "execution_count": 78,
   "metadata": {},
   "outputs": [],
   "source": [
    "# Create a pivot table\n",
    "\n",
    "age_reg = pd.crosstab(index = active_customers['age_group'], \n",
    "                                    columns = active_customers['region'], \n",
    "                                    values = active_customers['user_id'], \n",
    "                                    aggfunc = 'nunique')"
   ]
  },
  {
   "cell_type": "code",
   "execution_count": 79,
   "metadata": {},
   "outputs": [
    {
     "data": {
      "text/html": [
       "<div>\n",
       "<style scoped>\n",
       "    .dataframe tbody tr th:only-of-type {\n",
       "        vertical-align: middle;\n",
       "    }\n",
       "\n",
       "    .dataframe tbody tr th {\n",
       "        vertical-align: top;\n",
       "    }\n",
       "\n",
       "    .dataframe thead th {\n",
       "        text-align: right;\n",
       "    }\n",
       "</style>\n",
       "<table border=\"1\" class=\"dataframe\">\n",
       "  <thead>\n",
       "    <tr style=\"text-align: right;\">\n",
       "      <th>region</th>\n",
       "      <th>Midwest</th>\n",
       "      <th>Northeast</th>\n",
       "      <th>South</th>\n",
       "      <th>West</th>\n",
       "    </tr>\n",
       "    <tr>\n",
       "      <th>age_group</th>\n",
       "      <th></th>\n",
       "      <th></th>\n",
       "      <th></th>\n",
       "      <th></th>\n",
       "    </tr>\n",
       "  </thead>\n",
       "  <tbody>\n",
       "    <tr>\n",
       "      <th>18-29</th>\n",
       "      <td>7062</td>\n",
       "      <td>5261</td>\n",
       "      <td>10267</td>\n",
       "      <td>7786</td>\n",
       "    </tr>\n",
       "    <tr>\n",
       "      <th>30-39</th>\n",
       "      <td>5917</td>\n",
       "      <td>4510</td>\n",
       "      <td>8439</td>\n",
       "      <td>6418</td>\n",
       "    </tr>\n",
       "    <tr>\n",
       "      <th>40-49</th>\n",
       "      <td>6221</td>\n",
       "      <td>4545</td>\n",
       "      <td>8445</td>\n",
       "      <td>6486</td>\n",
       "    </tr>\n",
       "    <tr>\n",
       "      <th>50-65</th>\n",
       "      <td>9007</td>\n",
       "      <td>6685</td>\n",
       "      <td>12609</td>\n",
       "      <td>9723</td>\n",
       "    </tr>\n",
       "    <tr>\n",
       "      <th>65+</th>\n",
       "      <td>10169</td>\n",
       "      <td>7580</td>\n",
       "      <td>14433</td>\n",
       "      <td>11068</td>\n",
       "    </tr>\n",
       "  </tbody>\n",
       "</table>\n",
       "</div>"
      ],
      "text/plain": [
       "region     Midwest  Northeast  South   West\n",
       "age_group                                  \n",
       "18-29         7062       5261  10267   7786\n",
       "30-39         5917       4510   8439   6418\n",
       "40-49         6221       4545   8445   6486\n",
       "50-65         9007       6685  12609   9723\n",
       "65+          10169       7580  14433  11068"
      ]
     },
     "execution_count": 79,
     "metadata": {},
     "output_type": "execute_result"
    }
   ],
   "source": [
    "# Check the output \n",
    "\n",
    "age_reg"
   ]
  },
  {
   "cell_type": "code",
   "execution_count": 80,
   "metadata": {},
   "outputs": [
    {
     "data": {
      "text/plain": [
       "Text(0.5, 1.0, 'Customers by age group and region')"
      ]
     },
     "execution_count": 80,
     "metadata": {},
     "output_type": "execute_result"
    },
    {
     "data": {
      "image/png": "[encoded data removed]",
      "text/plain": [
       "<Figure size 720x432 with 1 Axes>"
      ]
     },
     "metadata": {
      "needs_background": "light"
     },
     "output_type": "display_data"
    }
   ],
   "source": [
    "# Create a chart \n",
    "\n",
    "age_reg_bar = age_reg.plot.bar(xlabel = ('Age group'), figsize = (10, 6), rot = 30)\n",
    "\n",
    "plt.title('Customers by age group and region', fontsize = 16)"
   ]
  },
  {
   "cell_type": "code",
   "execution_count": 81,
   "metadata": {},
   "outputs": [],
   "source": [
    "# Export chart outside of Jupyter in the form of an image file\n",
    "\n",
    "age_reg_bar.figure.savefig(os.path.join(path, '04 Analysis','Visualizations', 'age_reg_bar.png'))"
   ]
  },
  {
   "cell_type": "code",
   "execution_count": 82,
   "metadata": {},
   "outputs": [
    {
     "name": "stderr",
     "output_type": "stream",
     "text": [
      "/Users/edytakowal/opt/anaconda3/lib/python3.8/site-packages/pandas/core/indexing.py:1596: SettingWithCopyWarning: \n",
      "A value is trying to be set on a copy of a slice from a DataFrame.\n",
      "Try using .loc[row_indexer,col_indexer] = value instead\n",
      "\n",
      "See the caveats in the documentation: https://pandas.pydata.org/pandas-docs/stable/user_guide/indexing.html#returning-a-view-versus-a-copy\n",
      "  self.obj[key] = _infer_fill_value(value)\n",
      "/Users/edytakowal/opt/anaconda3/lib/python3.8/site-packages/pandas/core/indexing.py:1765: SettingWithCopyWarning: \n",
      "A value is trying to be set on a copy of a slice from a DataFrame.\n",
      "Try using .loc[row_indexer,col_indexer] = value instead\n",
      "\n",
      "See the caveats in the documentation: https://pandas.pydata.org/pandas-docs/stable/user_guide/indexing.html#returning-a-view-versus-a-copy\n",
      "  isetter(loc, value)\n"
     ]
    },
    {
     "ename": "KeyboardInterrupt",
     "evalue": "",
     "output_type": "error",
     "traceback": [
      "\u001b[0;31m---------------------------------------------------------------------------\u001b[0m",
      "\u001b[0;31mKeyboardInterrupt\u001b[0m                         Traceback (most recent call last)",
      "\u001b[0;32m<ipython-input-82-99732361b139>\u001b[0m in \u001b[0;36m<module>\u001b[0;34m\u001b[0m\n\u001b[1;32m      3\u001b[0m \u001b[0mactive_customers\u001b[0m\u001b[0;34m.\u001b[0m\u001b[0mloc\u001b[0m\u001b[0;34m[\u001b[0m\u001b[0mactive_customers\u001b[0m\u001b[0;34m[\u001b[0m\u001b[0;34m'age_group'\u001b[0m\u001b[0;34m]\u001b[0m \u001b[0;34m==\u001b[0m \u001b[0;34m'18-29'\u001b[0m\u001b[0;34m,\u001b[0m \u001b[0;34m'age_group_name'\u001b[0m\u001b[0;34m]\u001b[0m \u001b[0;34m=\u001b[0m \u001b[0;34m'young adult'\u001b[0m\u001b[0;34m\u001b[0m\u001b[0;34m\u001b[0m\u001b[0m\n\u001b[1;32m      4\u001b[0m \u001b[0mactive_customers\u001b[0m\u001b[0;34m.\u001b[0m\u001b[0mloc\u001b[0m\u001b[0;34m[\u001b[0m\u001b[0mactive_customers\u001b[0m\u001b[0;34m[\u001b[0m\u001b[0;34m'age_group'\u001b[0m\u001b[0;34m]\u001b[0m \u001b[0;34m==\u001b[0m \u001b[0;34m'30-39'\u001b[0m\u001b[0;34m,\u001b[0m \u001b[0;34m'age_group_name'\u001b[0m\u001b[0;34m]\u001b[0m \u001b[0;34m=\u001b[0m \u001b[0;34m'adult'\u001b[0m\u001b[0;34m\u001b[0m\u001b[0;34m\u001b[0m\u001b[0m\n\u001b[0;32m----> 5\u001b[0;31m \u001b[0mactive_customers\u001b[0m\u001b[0;34m.\u001b[0m\u001b[0mloc\u001b[0m\u001b[0;34m[\u001b[0m\u001b[0mactive_customers\u001b[0m\u001b[0;34m[\u001b[0m\u001b[0;34m'age_group'\u001b[0m\u001b[0;34m]\u001b[0m \u001b[0;34m==\u001b[0m \u001b[0;34m'40-49'\u001b[0m\u001b[0;34m,\u001b[0m \u001b[0;34m'age_group_name'\u001b[0m\u001b[0;34m]\u001b[0m \u001b[0;34m=\u001b[0m \u001b[0;34m'middle-aged adult'\u001b[0m\u001b[0;34m\u001b[0m\u001b[0;34m\u001b[0m\u001b[0m\n\u001b[0m\u001b[1;32m      6\u001b[0m \u001b[0mactive_customers\u001b[0m\u001b[0;34m.\u001b[0m\u001b[0mloc\u001b[0m\u001b[0;34m[\u001b[0m\u001b[0mactive_customers\u001b[0m\u001b[0;34m[\u001b[0m\u001b[0;34m'age_group'\u001b[0m\u001b[0;34m]\u001b[0m \u001b[0;34m==\u001b[0m \u001b[0;34m'50-65'\u001b[0m\u001b[0;34m,\u001b[0m \u001b[0;34m'age_group_name'\u001b[0m\u001b[0;34m]\u001b[0m \u001b[0;34m=\u001b[0m \u001b[0;34m'late middle-aged adult'\u001b[0m\u001b[0;34m\u001b[0m\u001b[0;34m\u001b[0m\u001b[0m\n\u001b[1;32m      7\u001b[0m \u001b[0mactive_customers\u001b[0m\u001b[0;34m.\u001b[0m\u001b[0mloc\u001b[0m\u001b[0;34m[\u001b[0m\u001b[0mactive_customers\u001b[0m\u001b[0;34m[\u001b[0m\u001b[0;34m'age_group'\u001b[0m\u001b[0;34m]\u001b[0m \u001b[0;34m==\u001b[0m \u001b[0;34m'65+'\u001b[0m\u001b[0;34m,\u001b[0m \u001b[0;34m'age_group_name'\u001b[0m\u001b[0;34m]\u001b[0m \u001b[0;34m=\u001b[0m \u001b[0;34m'senior'\u001b[0m\u001b[0;34m\u001b[0m\u001b[0;34m\u001b[0m\u001b[0m\n",
      "\u001b[0;32m~/opt/anaconda3/lib/python3.8/site-packages/pandas/core/ops/common.py\u001b[0m in \u001b[0;36mnew_method\u001b[0;34m(self, other)\u001b[0m\n\u001b[1;32m     63\u001b[0m         \u001b[0mother\u001b[0m \u001b[0;34m=\u001b[0m \u001b[0mitem_from_zerodim\u001b[0m\u001b[0;34m(\u001b[0m\u001b[0mother\u001b[0m\u001b[0;34m)\u001b[0m\u001b[0;34m\u001b[0m\u001b[0;34m\u001b[0m\u001b[0m\n\u001b[1;32m     64\u001b[0m \u001b[0;34m\u001b[0m\u001b[0m\n\u001b[0;32m---> 65\u001b[0;31m         \u001b[0;32mreturn\u001b[0m \u001b[0mmethod\u001b[0m\u001b[0;34m(\u001b[0m\u001b[0mself\u001b[0m\u001b[0;34m,\u001b[0m \u001b[0mother\u001b[0m\u001b[0;34m)\u001b[0m\u001b[0;34m\u001b[0m\u001b[0;34m\u001b[0m\u001b[0m\n\u001b[0m\u001b[1;32m     66\u001b[0m \u001b[0;34m\u001b[0m\u001b[0m\n\u001b[1;32m     67\u001b[0m     \u001b[0;32mreturn\u001b[0m \u001b[0mnew_method\u001b[0m\u001b[0;34m\u001b[0m\u001b[0;34m\u001b[0m\u001b[0m\n",
      "\u001b[0;32m~/opt/anaconda3/lib/python3.8/site-packages/pandas/core/ops/__init__.py\u001b[0m in \u001b[0;36mwrapper\u001b[0;34m(self, other)\u001b[0m\n\u001b[1;32m    368\u001b[0m         \u001b[0mrvalues\u001b[0m \u001b[0;34m=\u001b[0m \u001b[0mextract_array\u001b[0m\u001b[0;34m(\u001b[0m\u001b[0mother\u001b[0m\u001b[0;34m,\u001b[0m \u001b[0mextract_numpy\u001b[0m\u001b[0;34m=\u001b[0m\u001b[0;32mTrue\u001b[0m\u001b[0;34m)\u001b[0m\u001b[0;34m\u001b[0m\u001b[0;34m\u001b[0m\u001b[0m\n\u001b[1;32m    369\u001b[0m \u001b[0;34m\u001b[0m\u001b[0m\n\u001b[0;32m--> 370\u001b[0;31m         \u001b[0mres_values\u001b[0m \u001b[0;34m=\u001b[0m \u001b[0mcomparison_op\u001b[0m\u001b[0;34m(\u001b[0m\u001b[0mlvalues\u001b[0m\u001b[0;34m,\u001b[0m \u001b[0mrvalues\u001b[0m\u001b[0;34m,\u001b[0m \u001b[0mop\u001b[0m\u001b[0;34m)\u001b[0m\u001b[0;34m\u001b[0m\u001b[0;34m\u001b[0m\u001b[0m\n\u001b[0m\u001b[1;32m    371\u001b[0m \u001b[0;34m\u001b[0m\u001b[0m\n\u001b[1;32m    372\u001b[0m         \u001b[0;32mreturn\u001b[0m \u001b[0mself\u001b[0m\u001b[0;34m.\u001b[0m\u001b[0m_construct_result\u001b[0m\u001b[0;34m(\u001b[0m\u001b[0mres_values\u001b[0m\u001b[0;34m,\u001b[0m \u001b[0mname\u001b[0m\u001b[0;34m=\u001b[0m\u001b[0mres_name\u001b[0m\u001b[0;34m)\u001b[0m\u001b[0;34m\u001b[0m\u001b[0;34m\u001b[0m\u001b[0m\n",
      "\u001b[0;32m~/opt/anaconda3/lib/python3.8/site-packages/pandas/core/ops/array_ops.py\u001b[0m in \u001b[0;36mcomparison_op\u001b[0;34m(left, right, op)\u001b[0m\n\u001b[1;32m    242\u001b[0m \u001b[0;34m\u001b[0m\u001b[0m\n\u001b[1;32m    243\u001b[0m     \u001b[0;32melif\u001b[0m \u001b[0mis_object_dtype\u001b[0m\u001b[0;34m(\u001b[0m\u001b[0mlvalues\u001b[0m\u001b[0;34m.\u001b[0m\u001b[0mdtype\u001b[0m\u001b[0;34m)\u001b[0m\u001b[0;34m:\u001b[0m\u001b[0;34m\u001b[0m\u001b[0;34m\u001b[0m\u001b[0m\n\u001b[0;32m--> 244\u001b[0;31m         \u001b[0mres_values\u001b[0m \u001b[0;34m=\u001b[0m \u001b[0mcomp_method_OBJECT_ARRAY\u001b[0m\u001b[0;34m(\u001b[0m\u001b[0mop\u001b[0m\u001b[0;34m,\u001b[0m \u001b[0mlvalues\u001b[0m\u001b[0;34m,\u001b[0m \u001b[0mrvalues\u001b[0m\u001b[0;34m)\u001b[0m\u001b[0;34m\u001b[0m\u001b[0;34m\u001b[0m\u001b[0m\n\u001b[0m\u001b[1;32m    245\u001b[0m \u001b[0;34m\u001b[0m\u001b[0m\n\u001b[1;32m    246\u001b[0m     \u001b[0;32melse\u001b[0m\u001b[0;34m:\u001b[0m\u001b[0;34m\u001b[0m\u001b[0;34m\u001b[0m\u001b[0m\n",
      "\u001b[0;32m~/opt/anaconda3/lib/python3.8/site-packages/pandas/core/ops/array_ops.py\u001b[0m in \u001b[0;36mcomp_method_OBJECT_ARRAY\u001b[0;34m(op, x, y)\u001b[0m\n\u001b[1;32m     54\u001b[0m         \u001b[0mresult\u001b[0m \u001b[0;34m=\u001b[0m \u001b[0mlibops\u001b[0m\u001b[0;34m.\u001b[0m\u001b[0mvec_compare\u001b[0m\u001b[0;34m(\u001b[0m\u001b[0mx\u001b[0m\u001b[0;34m.\u001b[0m\u001b[0mravel\u001b[0m\u001b[0;34m(\u001b[0m\u001b[0;34m)\u001b[0m\u001b[0;34m,\u001b[0m \u001b[0my\u001b[0m\u001b[0;34m.\u001b[0m\u001b[0mravel\u001b[0m\u001b[0;34m(\u001b[0m\u001b[0;34m)\u001b[0m\u001b[0;34m,\u001b[0m \u001b[0mop\u001b[0m\u001b[0;34m)\u001b[0m\u001b[0;34m\u001b[0m\u001b[0;34m\u001b[0m\u001b[0m\n\u001b[1;32m     55\u001b[0m     \u001b[0;32melse\u001b[0m\u001b[0;34m:\u001b[0m\u001b[0;34m\u001b[0m\u001b[0;34m\u001b[0m\u001b[0m\n\u001b[0;32m---> 56\u001b[0;31m         \u001b[0mresult\u001b[0m \u001b[0;34m=\u001b[0m \u001b[0mlibops\u001b[0m\u001b[0;34m.\u001b[0m\u001b[0mscalar_compare\u001b[0m\u001b[0;34m(\u001b[0m\u001b[0mx\u001b[0m\u001b[0;34m.\u001b[0m\u001b[0mravel\u001b[0m\u001b[0;34m(\u001b[0m\u001b[0;34m)\u001b[0m\u001b[0;34m,\u001b[0m \u001b[0my\u001b[0m\u001b[0;34m,\u001b[0m \u001b[0mop\u001b[0m\u001b[0;34m)\u001b[0m\u001b[0;34m\u001b[0m\u001b[0;34m\u001b[0m\u001b[0m\n\u001b[0m\u001b[1;32m     57\u001b[0m     \u001b[0;32mreturn\u001b[0m \u001b[0mresult\u001b[0m\u001b[0;34m.\u001b[0m\u001b[0mreshape\u001b[0m\u001b[0;34m(\u001b[0m\u001b[0mx\u001b[0m\u001b[0;34m.\u001b[0m\u001b[0mshape\u001b[0m\u001b[0;34m)\u001b[0m\u001b[0;34m\u001b[0m\u001b[0;34m\u001b[0m\u001b[0m\n\u001b[1;32m     58\u001b[0m \u001b[0;34m\u001b[0m\u001b[0m\n",
      "\u001b[0;31mKeyboardInterrupt\u001b[0m: "
     ]
    }
   ],
   "source": [
    "# Assigh a name for each age group\n",
    "\n",
    "active_customers.loc[active_customers['age_group'] == '18-29', 'age_group_name'] = 'young adult'\n",
    "active_customers.loc[active_customers['age_group'] == '30-39', 'age_group_name'] = 'adult'\n",
    "active_customers.loc[active_customers['age_group'] == '40-49', 'age_group_name'] = 'middle-aged adult'\n",
    "active_customers.loc[active_customers['age_group'] == '50-65', 'age_group_name'] = 'late middle-aged adult'\n",
    "active_customers.loc[active_customers['age_group'] == '65+', 'age_group_name'] = 'senior'"
   ]
  },
  {
   "cell_type": "code",
   "execution_count": null,
   "metadata": {},
   "outputs": [],
   "source": [
    "# Check the frequency of age_group_name column\n",
    "\n",
    "active_customers.groupby('age_group_name').user_id.nunique()"
   ]
  },
  {
   "cell_type": "markdown",
   "metadata": {},
   "source": [
    "### b) Income category"
   ]
  },
  {
   "cell_type": "code",
   "execution_count": null,
   "metadata": {},
   "outputs": [],
   "source": [
    "# Check min value for income column\n",
    "\n",
    "active_customers['income'].min()"
   ]
  },
  {
   "cell_type": "code",
   "execution_count": null,
   "metadata": {},
   "outputs": [],
   "source": [
    "# Check max value for income column\n",
    "\n",
    "active_customers['income'].max()"
   ]
  },
  {
   "cell_type": "code",
   "execution_count": null,
   "metadata": {},
   "outputs": [],
   "source": [
    "# Create a new column with income categories\n",
    "\n",
    "active_customers.loc[active_customers['income'] <= 50000, 'income_category'] = 'low-income'\n",
    "active_customers.loc[(active_customers['income'] > 50000) & \n",
    "                     (active_customers['income'] < 100000), 'income_category'] = 'middle-income'\n",
    "active_customers.loc[(active_customers['income'] >= 100000) & (active_customers['income'] < 300000), 'income_category'] = 'upper-income'\n",
    "active_customers.loc[(active_customers['income'] >= 300000), 'income_category'] = 'high-income'"
   ]
  },
  {
   "cell_type": "code",
   "execution_count": null,
   "metadata": {},
   "outputs": [],
   "source": [
    "# Create a variable which stores unique number of user_id for each income_category\n",
    "\n",
    "inc = active_customers.groupby('income_category').user_id.nunique()"
   ]
  },
  {
   "cell_type": "code",
   "execution_count": null,
   "metadata": {},
   "outputs": [],
   "source": [
    "# Check the output \n",
    "\n",
    "inc"
   ]
  },
  {
   "cell_type": "code",
   "execution_count": null,
   "metadata": {},
   "outputs": [],
   "source": [
    "# Create a pie chart\n",
    "\n",
    "inc_pie = inc.plot.pie(ylabel = (''), autopct = '%.0f%%', fontsize = 12, figsize = (10, 6), title = 'Customers by family status')\n",
    "\n",
    "plt.title('Customers by income category', fontsize = 16)"
   ]
  },
  {
   "cell_type": "code",
   "execution_count": null,
   "metadata": {},
   "outputs": [],
   "source": [
    "# Export chart outside of Jupyter in the form of an image file\n",
    "\n",
    "inc_pie.figure.savefig(os.path.join(path, '04 Analysis','Visualizations', 'inc_pie.png'))"
   ]
  },
  {
   "cell_type": "code",
   "execution_count": null,
   "metadata": {},
   "outputs": [],
   "source": [
    "# Create a pivot table that shows count of customers with income category in each age group\n",
    "\n",
    "inc_age = pd.crosstab(index = active_customers['age_group'], \n",
    "                          columns = active_customers['income_category'], \n",
    "                          values = active_customers['user_id'], \n",
    "                          aggfunc = 'nunique')"
   ]
  },
  {
   "cell_type": "code",
   "execution_count": null,
   "metadata": {},
   "outputs": [],
   "source": [
    "# Create a chart \n",
    "\n",
    "inc_age.bar = inc_age.plot.bar(title = 'Customers by income category and age group', rot = 30, figsize = (10, 6))\n",
    "\n",
    "plt.title('Customers by income category and age group', fontsize = 16)"
   ]
  },
  {
   "cell_type": "code",
   "execution_count": null,
   "metadata": {},
   "outputs": [],
   "source": [
    "# Export chart outside of Jupyter in the form of an image file\n",
    "\n",
    "inc_age.bar.figure.savefig(os.path.join(path, '04 Analysis','Visualizations', 'inc_age.bar.png'))"
   ]
  },
  {
   "cell_type": "code",
   "execution_count": null,
   "metadata": {},
   "outputs": [],
   "source": [
    "# Create a pivot table \n",
    "\n",
    "inc_reg = pd.crosstab(index = active_customers['region'], \n",
    "                          columns = active_customers['income_category'], \n",
    "                          values = active_customers['user_id'], \n",
    "                          aggfunc = 'nunique')"
   ]
  },
  {
   "cell_type": "code",
   "execution_count": null,
   "metadata": {},
   "outputs": [],
   "source": [
    "# Create a chart\n",
    "\n",
    "inc_reg_bar = inc_reg.plot.bar(title = 'Customers by income category and region', rot = 30, figsize = (10, 6))\n",
    "\n",
    "plt.title('Customers by income category and region', fontsize = 16)"
   ]
  },
  {
   "cell_type": "code",
   "execution_count": null,
   "metadata": {},
   "outputs": [],
   "source": [
    "# Export chart outside of Jupyter in the form of an image file\n",
    "\n",
    "inc_reg_bar.figure.savefig(os.path.join(path, '04 Analysis','Visualizations', 'inc_reg_bar.png'))"
   ]
  },
  {
   "cell_type": "markdown",
   "metadata": {},
   "source": [
    "### c) Household type "
   ]
  },
  {
   "cell_type": "code",
   "execution_count": null,
   "metadata": {},
   "outputs": [],
   "source": [
    "active_customers.head()"
   ]
  },
  {
   "cell_type": "code",
   "execution_count": null,
   "metadata": {},
   "outputs": [],
   "source": [
    "# Create a variable\n",
    "\n",
    "fam = active_customers.groupby('fam_status').user_id.nunique()"
   ]
  },
  {
   "cell_type": "code",
   "execution_count": null,
   "metadata": {},
   "outputs": [],
   "source": [
    "# Check the output \n",
    "\n",
    "fam"
   ]
  },
  {
   "cell_type": "code",
   "execution_count": null,
   "metadata": {},
   "outputs": [],
   "source": [
    "# Create a pie chart \n",
    "\n",
    "fam_pie = fam.plot.pie(ylabel = (''), autopct = '%.0f%%', fontsize = 12, figsize = (10, 6), title = 'Customers by family status')\n",
    "\n",
    "plt.title('Customers by family status', fontsize = 16)"
   ]
  },
  {
   "cell_type": "code",
   "execution_count": null,
   "metadata": {},
   "outputs": [],
   "source": [
    "# Export chart outside of Jupyter in the form of an image file\n",
    "\n",
    "fam_pie.figure.savefig(os.path.join(path, '04 Analysis','Visualizations', 'fam_pie.png'))"
   ]
  },
  {
   "cell_type": "code",
   "execution_count": null,
   "metadata": {},
   "outputs": [],
   "source": [
    "# Create a variable\n",
    "\n",
    "dep = active_customers.groupby('n_dependants').user_id.nunique()"
   ]
  },
  {
   "cell_type": "code",
   "execution_count": null,
   "metadata": {},
   "outputs": [],
   "source": [
    "# check the output \n",
    "\n",
    "dep"
   ]
  },
  {
   "cell_type": "code",
   "execution_count": null,
   "metadata": {},
   "outputs": [],
   "source": [
    "# Export chart outside of Jupyter in the form of an image file\n",
    "\n",
    "dep_pie.figure.savefig(os.path.join(path, '04 Analysis','Visualizations', 'dep_pie.png'))"
   ]
  },
  {
   "cell_type": "code",
   "execution_count": null,
   "metadata": {},
   "outputs": [],
   "source": [
    "# Create a 'living with parents' category within new family_type column\n",
    "\n",
    "active_customers.loc[(active_customers['fam_status'] == 'living with parents and siblings'), \n",
    "                     'household_type'] = 'living with parents'"
   ]
  },
  {
   "cell_type": "code",
   "execution_count": null,
   "metadata": {},
   "outputs": [],
   "source": [
    "# Create a 'one-person household' category within new family_type column\n",
    "\n",
    "active_customers.loc[(active_customers['fam_status'].isin(['single', 'divorced/widowed'])) & \n",
    "                         (active_customers['n_dependants'] == 0), 'household_type'] = 'one-person household'"
   ]
  },
  {
   "cell_type": "code",
   "execution_count": null,
   "metadata": {},
   "outputs": [],
   "source": [
    "# Create a 'single with dependant/s' category within new family_type column\n",
    "\n",
    "active_customers.loc[(active_customers['fam_status'].isin(['single', 'divorced/widowed'])) & \n",
    "                        (active_customers['n_dependants'] > 0), 'household_type'] = 'single with dependants'"
   ]
  },
  {
   "cell_type": "code",
   "execution_count": null,
   "metadata": {},
   "outputs": [],
   "source": [
    "# Create a 'marriage without dependants' category within new family_type column\n",
    "\n",
    "active_customers.loc[(active_customers['fam_status'] == 'married') & \n",
    "                     (active_customers['n_dependants'] == 0), 'household_type'] = 'marriage without dependants' "
   ]
  },
  {
   "cell_type": "code",
   "execution_count": null,
   "metadata": {
    "scrolled": true
   },
   "outputs": [],
   "source": [
    "# Create a family category within new family_type column\n",
    "\n",
    "active_customers.loc[(active_customers['fam_status'] == 'married') & \n",
    "                     (active_customers['n_dependants'] == 1), 'household_type'] = 'small family' "
   ]
  },
  {
   "cell_type": "code",
   "execution_count": null,
   "metadata": {},
   "outputs": [],
   "source": [
    "# Create a 'mid family' category within new family_type column\n",
    "\n",
    "active_customers.loc[(active_customers['fam_status'] == 'married') & \n",
    "                     (active_customers['n_dependants'] == 2), 'household_type'] = 'medium family' "
   ]
  },
  {
   "cell_type": "code",
   "execution_count": null,
   "metadata": {},
   "outputs": [],
   "source": [
    "# Create a 'big family' category within new family_type column\n",
    "\n",
    "active_customers.loc[(active_customers['fam_status'] == 'married') & \n",
    "                     (active_customers['n_dependants'] == 3), 'household_type'] = 'large family' "
   ]
  },
  {
   "cell_type": "code",
   "execution_count": null,
   "metadata": {},
   "outputs": [],
   "source": [
    "# Create a variable with unique number of users for each household_type\n",
    "\n",
    "hou = active_customers.groupby('household_type').user_id.nunique()"
   ]
  },
  {
   "cell_type": "code",
   "execution_count": null,
   "metadata": {},
   "outputs": [],
   "source": [
    "# Check the output \n",
    "\n",
    "hou"
   ]
  },
  {
   "cell_type": "code",
   "execution_count": null,
   "metadata": {},
   "outputs": [],
   "source": [
    "# Create a pie chart to demonstrate % distribution of customers by household type\n",
    "\n",
    "\n",
    "hou_pie = hou.plot.pie(ylabel = (''), autopct = '%.0f%%', fontsize = 12, figsize = (10, 6))\n",
    "\n",
    "plt.title('Customers by household type', fontsize = 16)"
   ]
  },
  {
   "cell_type": "code",
   "execution_count": null,
   "metadata": {},
   "outputs": [],
   "source": [
    "# Export chart outside of Jupyter in the form of an image file\n",
    "\n",
    "hou_pie.figure.savefig(os.path.join(path, '04 Analysis','Visualizations', 'hou_pie.png'))"
   ]
  },
  {
   "cell_type": "code",
   "execution_count": null,
   "metadata": {},
   "outputs": [],
   "source": [
    "# Create a pivot table\n",
    "\n",
    "inc_hou = pd.crosstab(index = active_customers['income_category'],\n",
    "                          columns = active_customers['household_type'], \n",
    "                          values = active_customers['user_id'], \n",
    "                          aggfunc = 'nunique')"
   ]
  },
  {
   "cell_type": "code",
   "execution_count": null,
   "metadata": {},
   "outputs": [],
   "source": [
    "# Check the output\n",
    "\n",
    "inc_hou"
   ]
  },
  {
   "cell_type": "code",
   "execution_count": null,
   "metadata": {},
   "outputs": [],
   "source": [
    "# Create a plot \n",
    "\n",
    "inc_hou_bar = inc_hou.plot.bar(xlabel = (''), title = 'Customers by household type and income category', rot = 30, figsize = (10, 6))\n",
    "\n",
    "plt.title('Customers by household type and income category', fontsize = 16)"
   ]
  },
  {
   "cell_type": "code",
   "execution_count": null,
   "metadata": {},
   "outputs": [],
   "source": [
    "# Export chart outside of Jupyter in the form of an image file\n",
    "\n",
    "inc_hou_bar.figure.savefig(os.path.join(path, '04 Analysis','Visualizations', 'inc_hou_bar.png'))"
   ]
  },
  {
   "cell_type": "code",
   "execution_count": null,
   "metadata": {},
   "outputs": [],
   "source": [
    "# Create a pivot table\n",
    "\n",
    "inc_hou_ord = pd.crosstab(index = active_customers['income_category'],\n",
    "                          columns = active_customers['household_type'], \n",
    "                          values = active_customers['order_id'], \n",
    "                          aggfunc = 'nunique')"
   ]
  },
  {
   "cell_type": "code",
   "execution_count": null,
   "metadata": {},
   "outputs": [],
   "source": [
    "# Check the output\n",
    "\n",
    "inc_hou_ord"
   ]
  },
  {
   "cell_type": "code",
   "execution_count": null,
   "metadata": {},
   "outputs": [],
   "source": [
    "# Create a plot\n",
    "\n",
    "inc_hou_ord_bar = inc_hou_ord.plot.bar(xlabel = (''), title = 'Orders by household type and income category', rot = 30, figsize = (10, 6))\n",
    "\n",
    "plt.title('Orders by household type and income category', fontsize = 16)\n"
   ]
  },
  {
   "cell_type": "code",
   "execution_count": null,
   "metadata": {},
   "outputs": [],
   "source": [
    "# Export chart outside of Jupyter in the form of an image file\n",
    "\n",
    "inc_hou_ord_bar.figure.savefig(os.path.join(path, '04 Analysis','Visualizations', 'inc_hou_ord_bar.png'))"
   ]
  },
  {
   "cell_type": "code",
   "execution_count": null,
   "metadata": {},
   "outputs": [],
   "source": [
    "# Create a pivot table \n",
    "\n",
    "reg_hou = pd.crosstab(index = active_customers['region'],\n",
    "                          columns = active_customers['household_type'], \n",
    "                          values = active_customers['user_id'], \n",
    "                          aggfunc = 'nunique')"
   ]
  },
  {
   "cell_type": "code",
   "execution_count": null,
   "metadata": {},
   "outputs": [],
   "source": [
    "# Check the output \n",
    "\n",
    "reg_hou"
   ]
  },
  {
   "cell_type": "code",
   "execution_count": null,
   "metadata": {},
   "outputs": [],
   "source": [
    "# Create a plot\n",
    "\n",
    "reg_hou_bar = reg_hou.plot.bar(xlabel = (''), title = 'Customers by state and household type', rot = 30, figsize = (10, 6))\n",
    "\n",
    "plt.title('Customers by state and household type', fontsize = 16)"
   ]
  },
  {
   "cell_type": "code",
   "execution_count": null,
   "metadata": {},
   "outputs": [],
   "source": [
    "# Export chart outside of Jupyter in the form of an image file\n",
    "\n",
    "reg_hou_bar.figure.savefig(os.path.join(path, '04 Analysis','Visualizations', 'reg_hou_bar.png'))"
   ]
  },
  {
   "cell_type": "code",
   "execution_count": null,
   "metadata": {},
   "outputs": [],
   "source": [
    "# Create a pivot table\n",
    "\n",
    "hou_spe = pd.crosstab(index = active_customers['household_type'],\n",
    "                          columns = active_customers['spending_flag'], \n",
    "                          values = active_customers['user_id'], \n",
    "                          aggfunc = 'nunique')"
   ]
  },
  {
   "cell_type": "code",
   "execution_count": null,
   "metadata": {},
   "outputs": [],
   "source": [
    "# Check the output \n",
    "\n",
    "hou_spe"
   ]
  },
  {
   "cell_type": "code",
   "execution_count": null,
   "metadata": {},
   "outputs": [],
   "source": [
    "# Create a chart\n",
    "\n",
    "hou_spe_bar = hou_spe.plot.bar(xlabel = (''), title = 'Spenders by household type', rot = 30, figsize = (10, 6))\n",
    "\n",
    "plt.title('Spenders by household type', fontsize = 16)"
   ]
  },
  {
   "cell_type": "code",
   "execution_count": null,
   "metadata": {},
   "outputs": [],
   "source": [
    "# Export chart outside of Jupyter in the form of an image file\n",
    "\n",
    "hou_spe_bar.figure.savefig(os.path.join(path, '04 Analysis','Visualizations', 'hou_spe_bar.png'))"
   ]
  },
  {
   "cell_type": "code",
   "execution_count": null,
   "metadata": {},
   "outputs": [],
   "source": [
    "# Create a pivot table\n",
    "\n",
    "hou_loy = pd.crosstab(index = active_customers['household_type'],\n",
    "                          columns = active_customers['loyalty_flag'], \n",
    "                          values = active_customers['user_id'], \n",
    "                          aggfunc = 'nunique')"
   ]
  },
  {
   "cell_type": "code",
   "execution_count": null,
   "metadata": {},
   "outputs": [],
   "source": [
    "# Check the output \n",
    "\n",
    "hou_loy"
   ]
  },
  {
   "cell_type": "code",
   "execution_count": null,
   "metadata": {},
   "outputs": [],
   "source": [
    "# Create a plot\n",
    "\n",
    "hou_loy_bar = hou_loy.plot.bar(xlabel = (''), title = 'Loyal customers by household type', rot = 30, figsize = (10, 6))\n",
    "\n",
    "plt.title('Loyal customers by household type', fontsize = 16)"
   ]
  },
  {
   "cell_type": "code",
   "execution_count": null,
   "metadata": {},
   "outputs": [],
   "source": [
    "# Export chart outside of Jupyter in the form of an image file\n",
    "\n",
    "hou_loy_bar.figure.savefig(os.path.join(path, '04 Analysis','Visualizations', 'hou_loy_bar.png'))"
   ]
  },
  {
   "cell_type": "markdown",
   "metadata": {},
   "source": [
    "### Multidimensional customer profile "
   ]
  },
  {
   "cell_type": "code",
   "execution_count": null,
   "metadata": {},
   "outputs": [],
   "source": [
    "active_customers.columns"
   ]
  },
  {
   "cell_type": "code",
   "execution_count": null,
   "metadata": {},
   "outputs": [],
   "source": [
    "# Combine the categories created above to create a multidimensional customer profile\n",
    "\n",
    "# Young single combined\n",
    "\n",
    "active_customers.loc[(active_customers['age_group_name'] == 'young adult') & \n",
    "                     (active_customers['income_category'] == 'low-income') &\n",
    "                     (active_customers['household_type'].isin(['living with parents', 'one-person household'])), \n",
    "                     'household_class&type'] = 'working class young single'\n",
    "active_customers.loc[(active_customers['age_group_name'] == 'young adult') & \n",
    "                     (active_customers['income_category'] == 'middle-income') &\n",
    "                     (active_customers['household_type'].isin(['living with parent', 'one-person household'])), \n",
    "                     'household_class&type'] = 'middle class young single'\n",
    "active_customers.loc[(active_customers['age_group_name'] == 'young adult') & \n",
    "                     (active_customers['income_category'] == 'upper-income') &\n",
    "                     (active_customers['household_type'].isin(['living with parents', 'one-person household'])), \n",
    "                     'household_class&type'] = 'upper-middle class young single'\n",
    "active_customers.loc[(active_customers['age_group_name'] == 'young adult') & \n",
    "                     (active_customers['income_category'] == 'high-income') &\n",
    "                     (active_customers['household_type'].isin(['living with parents', 'one-person household'])), \n",
    "                     'household_class&type'] = 'higher class young single'\n"
   ]
  },
  {
   "cell_type": "code",
   "execution_count": null,
   "metadata": {},
   "outputs": [],
   "source": [
    "# Single combined\n",
    "\n",
    "active_customers.loc[(active_customers['age_group_name'] != 'young adult') & \n",
    "                     (active_customers['income_category'] == 'low-income') &\n",
    "                     (active_customers['household_type'].isin(['living with parents', 'one-person household'])), \n",
    "                     'household_class&type'] = 'working class single'\n",
    "active_customers.loc[(active_customers['age_group_name'] != 'young adult') & \n",
    "                     (active_customers['income_category'] == 'middle-income') &\n",
    "                     (active_customers['household_type'].isin(['living with parents', 'one-person household'])), \n",
    "                     'household_class&type'] = 'middle class single'\n",
    "active_customers.loc[(active_customers['age_group_name'] != 'young adult') & \n",
    "                     (active_customers['income_category'] == 'upper-income') &\n",
    "                     (active_customers['household_type'].isin(['living with parents', 'one-person household'])), \n",
    "                     'household_class&type'] = 'upper-middle class single'\n",
    "active_customers.loc[(active_customers['age_group_name'] != 'young adult') & \n",
    "                     (active_customers['income_category'] == 'high-income') &\n",
    "                     (active_customers['household_type'].isin(['living with parents', 'one-person household'])), \n",
    "                     'household_class&type'] = 'higher class single'"
   ]
  },
  {
   "cell_type": "code",
   "execution_count": null,
   "metadata": {},
   "outputs": [],
   "source": [
    "# Small family combined  \n",
    "\n",
    "active_customers.loc[(active_customers['income_category'] == 'low-income') &\n",
    "                     (active_customers['household_type'] == 'small family'),\n",
    "                      'household_class&type'] = 'working class small family' \n",
    "active_customers.loc[(active_customers['income_category'] == 'middle-income') &\n",
    "                     (active_customers['household_type'] == 'small family'),\n",
    "                      'household_class&type'] = 'middle class small family'\n",
    "active_customers.loc[(active_customers['income_category'] == 'upper-income') &\n",
    "                     (active_customers['household_type'] == 'small family'),\n",
    "                      'household_class&type'] = 'upper-middle class small family' \n",
    "active_customers.loc[(active_customers['income_category'] == 'high-income') &\n",
    "                     (active_customers['household_type'] == 'small family'),\n",
    "                      'household_class&type'] = 'upper class small family'"
   ]
  },
  {
   "cell_type": "code",
   "execution_count": null,
   "metadata": {},
   "outputs": [],
   "source": [
    "# Medium family combined\n",
    "\n",
    "active_customers.loc[(active_customers['income_category'] == 'low-income') &\n",
    "                     (active_customers['household_type'] == 'medium family'),\n",
    "                      'household_class&type'] = 'working class medium family' \n",
    "active_customers.loc[(active_customers['income_category'] == 'middle-income') &\n",
    "                     (active_customers['household_type'] == 'medium family'),\n",
    "                      'household_class&type'] = 'middle class medium family'\n",
    "active_customers.loc[(active_customers['income_category'] == 'upper-income') &\n",
    "                     (active_customers['household_type'] == 'medium family'),\n",
    "                      'household_class&type'] = 'upper-middle class medium family' \n",
    "active_customers.loc[(active_customers['income_category'] == 'high-income') &\n",
    "                     (active_customers['household_type'] == 'medium family'),\n",
    "                      'household_class&type'] = 'upper class medium family'"
   ]
  },
  {
   "cell_type": "code",
   "execution_count": null,
   "metadata": {},
   "outputs": [],
   "source": [
    "# Large family combined\n",
    "\n",
    "active_customers.loc[(active_customers['income_category'] == 'low-income') &\n",
    "                     (active_customers['household_type'] == 'large family'),\n",
    "                      'household_class&type'] = 'working class large family' \n",
    "active_customers.loc[(active_customers['income_category'] == 'middle-income') &\n",
    "                     (active_customers['household_type'] == 'large family'),\n",
    "                      'household_class&type'] = 'middle class large family'\n",
    "active_customers.loc[(active_customers['income_category'] == 'upper-income') &\n",
    "                     (active_customers['household_type'] == 'large family'),\n",
    "                      'household_class&type'] = 'upper-middle class large family' \n",
    "active_customers.loc[(active_customers['income_category'] == 'high-income') &\n",
    "                     (active_customers['household_type'] == 'large family'),\n",
    "                      'household_class&type'] = 'upper class large family'"
   ]
  },
  {
   "cell_type": "code",
   "execution_count": null,
   "metadata": {},
   "outputs": [],
   "source": [
    "# Check frequency for household_class&type column\n",
    "\n",
    "hou_cla_typ = active_customers.groupby('household_class&type').user_id.nunique()"
   ]
  },
  {
   "cell_type": "code",
   "execution_count": null,
   "metadata": {},
   "outputs": [],
   "source": [
    "# Check the output \n",
    "\n",
    "hou_cla_typ"
   ]
  },
  {
   "cell_type": "code",
   "execution_count": null,
   "metadata": {},
   "outputs": [],
   "source": [
    "# Create a chart\n",
    "\n",
    "hou_cla_typ_bar = hou_cla_typ.plot.barh(xlabel = (''), color = 'g', figsize=(15,6))\n",
    "\n",
    "plt.title('Distribution of Household Types and Classes', fontsize = 16)\n"
   ]
  },
  {
   "cell_type": "code",
   "execution_count": null,
   "metadata": {},
   "outputs": [],
   "source": [
    "# Export chart outside of Jupyter in the form of an image file\n",
    "\n",
    "hou_cla_typ_bar.figure.savefig(os.path.join(path, '04 Analysis','Visualizations', 'hou_cla_typ_bar.png'))"
   ]
  },
  {
   "cell_type": "code",
   "execution_count": null,
   "metadata": {},
   "outputs": [],
   "source": [
    "# Check the first 5 row of df\n",
    "\n",
    "active_customers.head()"
   ]
  },
  {
   "cell_type": "code",
   "execution_count": null,
   "metadata": {},
   "outputs": [],
   "source": [
    "active_customers.dtypes"
   ]
  },
  {
   "cell_type": "code",
   "execution_count": null,
   "metadata": {},
   "outputs": [],
   "source": [
    "# Change data type of new columns to 'category'\n",
    "\n",
    "active_customers[['region', 'activity', 'income_category', 'household_type', 'age_group_name', 'household_class&type']] = active_customers[['region', 'activity', 'income_category', 'household_type', 'age_group_name', 'household_class&type']].astype('category')"
   ]
  },
  {
   "cell_type": "markdown",
   "metadata": {},
   "source": [
    "### e) Departaments preferencies"
   ]
  },
  {
   "cell_type": "code",
   "execution_count": null,
   "metadata": {},
   "outputs": [],
   "source": [
    "# Import the departments.csv dataframe from the csv file\n",
    "\n",
    "deps = pd.read_csv(os.path.join(path, '02 Data', 'Prepared Data', 'departments_wrangled.csv'))"
   ]
  },
  {
   "cell_type": "code",
   "execution_count": null,
   "metadata": {},
   "outputs": [],
   "source": [
    "# Check the output\n",
    "\n",
    "deps"
   ]
  },
  {
   "cell_type": "code",
   "execution_count": null,
   "metadata": {},
   "outputs": [],
   "source": [
    "# Change the header\n",
    "\n",
    "new_header = ['department_id', 'department']"
   ]
  },
  {
   "cell_type": "code",
   "execution_count": null,
   "metadata": {},
   "outputs": [],
   "source": [
    "# Alocate new header\n",
    "\n",
    "deps.columns = new_header"
   ]
  },
  {
   "cell_type": "code",
   "execution_count": null,
   "metadata": {},
   "outputs": [],
   "source": [
    "# Check the output\n",
    "\n",
    "deps"
   ]
  },
  {
   "cell_type": "code",
   "execution_count": null,
   "metadata": {},
   "outputs": [],
   "source": [
    "# Merge departments with active_customers df using 'department_id' column as a key\n",
    "\n",
    "active_customers = active_customers.merge(deps, on = 'department_id', indicator = True)"
   ]
  },
  {
   "cell_type": "code",
   "execution_count": null,
   "metadata": {},
   "outputs": [],
   "source": [
    "# Print the first 5 rows of active_customers df\n",
    "\n",
    "active_customers.head()"
   ]
  },
  {
   "cell_type": "code",
   "execution_count": null,
   "metadata": {},
   "outputs": [],
   "source": [
    "# Change data type for department column\n",
    "\n",
    "active_customers['department'] = active_customers['department'].astype('category')"
   ]
  },
  {
   "cell_type": "code",
   "execution_count": null,
   "metadata": {},
   "outputs": [],
   "source": [
    "# Remove the _merge column\n",
    "\n",
    "active_customers.drop(columns = ['_merge'], inplace = True)"
   ]
  },
  {
   "cell_type": "code",
   "execution_count": null,
   "metadata": {},
   "outputs": [],
   "source": [
    "# Create a variable that counts frequency of department  \n",
    "\n",
    "dep = active_customers['department'].value_counts(dropna = False)"
   ]
  },
  {
   "cell_type": "code",
   "execution_count": null,
   "metadata": {},
   "outputs": [],
   "source": [
    "# Check the output\n",
    "\n",
    "dep"
   ]
  },
  {
   "cell_type": "code",
   "execution_count": null,
   "metadata": {},
   "outputs": [],
   "source": [
    "# Create a chart which shows distribution of the “department” column\n",
    "\n",
    "dep_bar = dep.sort_values(ascending=True).plot.barh(xlabel = (''), title = 'Distribution of departments', color = 'g', figsize = (20, 10))\n",
    "\n",
    "plt.title('Distribution of departments', fontsize = 16)"
   ]
  },
  {
   "cell_type": "code",
   "execution_count": null,
   "metadata": {},
   "outputs": [],
   "source": [
    "# Export chart outside of Jupyter in the form of an image file\n",
    "\n",
    "dep_bar.figure.savefig(os.path.join(path, '04 Analysis','Visualizations', 'dep_bar.png'))"
   ]
  },
  {
   "cell_type": "code",
   "execution_count": null,
   "metadata": {},
   "outputs": [],
   "source": [
    "# Create a pivot table with department preferencies by household_class&type (agg sum of spendings)\n",
    "\n",
    "hous_dep = pd.crosstab(index=active_customers['household_class&type'],\n",
    "                      columns=active_customers['department'], \n",
    "                      values=active_customers['prices'], \n",
    "                      aggfunc='count')"
   ]
  },
  {
   "cell_type": "code",
   "execution_count": null,
   "metadata": {},
   "outputs": [],
   "source": [
    "# Check the output\n",
    "\n",
    "hous_dep"
   ]
  },
  {
   "cell_type": "code",
   "execution_count": null,
   "metadata": {},
   "outputs": [],
   "source": [
    "# Create a pivot table with department preferencies by age group\n",
    "\n",
    "age_dep = pd.crosstab(index=active_customers['department'],\n",
    "                      columns=active_customers['age_group'], \n",
    "                      values=active_customers['prices'], \n",
    "                      aggfunc='count')"
   ]
  },
  {
   "cell_type": "code",
   "execution_count": null,
   "metadata": {},
   "outputs": [],
   "source": [
    "# Check the output\n",
    "\n",
    "age_dep"
   ]
  },
  {
   "cell_type": "code",
   "execution_count": null,
   "metadata": {},
   "outputs": [],
   "source": [
    "# Sort values \n",
    "\n",
    "age_dep = age_dep.loc[age_dep.sum(axis=1).sort_values(ascending=True).index]"
   ]
  },
  {
   "cell_type": "code",
   "execution_count": null,
   "metadata": {},
   "outputs": [],
   "source": [
    "# Create a chart\n",
    "\n",
    "age_dep_bar = age_dep.plot.barh(xlabel = (''), stacked = True, figsize=(20,10))\n",
    "\n",
    "plt.title('Departments preferencies by age group', fontsize = 16)"
   ]
  },
  {
   "cell_type": "code",
   "execution_count": null,
   "metadata": {},
   "outputs": [],
   "source": [
    "# Export chart outside of Jupyter in the form of an image file\n",
    "\n",
    "age_dep_bar.figure.savefig(os.path.join(path, '04 Analysis','Visualizations', 'age_dep_bar.png'))"
   ]
  },
  {
   "cell_type": "code",
   "execution_count": null,
   "metadata": {},
   "outputs": [],
   "source": [
    "# Create a pivot table with department preferencies by income category\n",
    "\n",
    "inc_dep = pd.crosstab(index=active_customers['department'],\n",
    "                      columns=active_customers['income_category'], \n",
    "                      values=active_customers['prices'], \n",
    "                      aggfunc='count')"
   ]
  },
  {
   "cell_type": "code",
   "execution_count": null,
   "metadata": {},
   "outputs": [],
   "source": [
    "# Sort values \n",
    "\n",
    "inc_dep = inc_dep.loc[inc_dep.sum(axis=1).sort_values(ascending=True).index]"
   ]
  },
  {
   "cell_type": "code",
   "execution_count": null,
   "metadata": {},
   "outputs": [],
   "source": [
    "# Create a chart\n",
    "\n",
    "inc_dep_bar = inc_dep.plot.barh(xlabel = (''), stacked = True, figsize=(20, 10))\n",
    "\n",
    "plt.title('Departments by income category', fontsize = 16)"
   ]
  },
  {
   "cell_type": "code",
   "execution_count": null,
   "metadata": {},
   "outputs": [],
   "source": [
    "# Export chart outside of Jupyter in the form of an image file\n",
    "\n",
    "inc_dep_bar.figure.savefig(os.path.join(path, '04 Analysis','Visualizations', 'inc_dep_bar.png'))"
   ]
  },
  {
   "cell_type": "code",
   "execution_count": null,
   "metadata": {},
   "outputs": [],
   "source": [
    "# Create a pivot table\n",
    "\n",
    "reg_dep = pd.crosstab(index=active_customers['department'],\n",
    "                      columns=active_customers['region'], \n",
    "                      values=active_customers['prices'], \n",
    "                      aggfunc='count')"
   ]
  },
  {
   "cell_type": "code",
   "execution_count": null,
   "metadata": {},
   "outputs": [],
   "source": [
    "# Check the output \n",
    "\n",
    "reg_dep"
   ]
  },
  {
   "cell_type": "code",
   "execution_count": null,
   "metadata": {},
   "outputs": [],
   "source": [
    "# Sort values \n",
    "\n",
    "reg_dep = reg_dep.loc[reg_dep.sum(axis=1).sort_values(ascending=True).index]"
   ]
  },
  {
   "cell_type": "code",
   "execution_count": null,
   "metadata": {},
   "outputs": [],
   "source": [
    "# Create a chart\n",
    "\n",
    "reg_dep_bar = reg_dep.plot.barh(xlabel = (''), stacked = True, figsize=(20,10))\n",
    "\n",
    "plt.title('Departments by regions', fontsize = 16)"
   ]
  },
  {
   "cell_type": "code",
   "execution_count": null,
   "metadata": {},
   "outputs": [],
   "source": [
    "# Export chart outside of Jupyter in the form of an image file\n",
    "\n",
    "reg_dep_bar.figure.savefig(os.path.join(path, '04 Analysis','Visualizations', 'reg_dep_bar.png'))"
   ]
  },
  {
   "cell_type": "code",
   "execution_count": null,
   "metadata": {},
   "outputs": [],
   "source": [
    "# Create a pivot table\n",
    "\n",
    "gen_dep = pd.crosstab(index=active_customers['department'],\n",
    "                      columns=active_customers['gender'], \n",
    "                      values=active_customers['prices'], \n",
    "                      aggfunc='count')"
   ]
  },
  {
   "cell_type": "code",
   "execution_count": null,
   "metadata": {},
   "outputs": [],
   "source": [
    "# Check the output \n",
    "\n",
    "gen_dep"
   ]
  },
  {
   "cell_type": "code",
   "execution_count": null,
   "metadata": {},
   "outputs": [],
   "source": [
    "# Sort values \n",
    "\n",
    "gen_dep = gen_dep.loc[gen_dep.sum(axis=1).sort_values(ascending=True).index]"
   ]
  },
  {
   "cell_type": "code",
   "execution_count": null,
   "metadata": {},
   "outputs": [],
   "source": [
    "# Create a chart \n",
    "\n",
    "color = ('orange', 'green')\n",
    "\n",
    "gen_dep_bar = gen_dep.plot.barh(xlabel = (''), stacked = True, color=color, figsize=(20, 10))\n",
    "\n",
    "plt.title('Departments by gender', fontsize = 16)"
   ]
  },
  {
   "cell_type": "code",
   "execution_count": null,
   "metadata": {},
   "outputs": [],
   "source": [
    "# Export chart outside of Jupyter in the form of an image file\n",
    "\n",
    "gen_dep_bar.figure.savefig(os.path.join(path, '04 Analysis','Visualizations', 'gen_dep_bar.png'))"
   ]
  },
  {
   "cell_type": "markdown",
   "metadata": {},
   "source": [
    "### Day and hour"
   ]
  },
  {
   "cell_type": "code",
   "execution_count": null,
   "metadata": {},
   "outputs": [],
   "source": [
    "# Assign day do orders_day_of_week\n",
    "\n",
    "active_customers.loc[(active_customers['orders_day_of_week'] == 0), 'day'] = '6 saturday'\n",
    "active_customers.loc[(active_customers['orders_day_of_week'] == 1), 'day'] = '7 sunday'\n",
    "active_customers.loc[(active_customers['orders_day_of_week'] == 2), 'day'] = '1 monday'\n",
    "active_customers.loc[(active_customers['orders_day_of_week'] == 3), 'day'] = '2 tuesday'\n",
    "active_customers.loc[(active_customers['orders_day_of_week'] == 4), 'day'] = '3 wednesday'\n",
    "active_customers.loc[(active_customers['orders_day_of_week'] == 5), 'day'] = '4 thursday'\n",
    "active_customers.loc[(active_customers['orders_day_of_week'] == 6), 'day'] = '5 friday'\n"
   ]
  },
  {
   "cell_type": "code",
   "execution_count": null,
   "metadata": {},
   "outputs": [],
   "source": [
    "# Check the first 5 rows of df\n",
    "\n",
    "active_customers.head()"
   ]
  },
  {
   "cell_type": "code",
   "execution_count": null,
   "metadata": {},
   "outputs": [],
   "source": [
    "# Create a variable that groups unique number of orders taken each day\n",
    "\n",
    "day = active_customers.groupby('day').order_id.nunique()"
   ]
  },
  {
   "cell_type": "code",
   "execution_count": null,
   "metadata": {},
   "outputs": [],
   "source": [
    "# Check the output \n",
    "\n",
    "day"
   ]
  },
  {
   "cell_type": "code",
   "execution_count": null,
   "metadata": {},
   "outputs": [],
   "source": [
    "# Create a chart\n",
    "\n",
    "day_bar = day.plot.bar(xlabel = (''), rot = 30, color = 'g', figsize=(10,6))\n",
    "\n",
    "plt.title('Count of orders by day of the week', fontsize = 16)"
   ]
  },
  {
   "cell_type": "code",
   "execution_count": null,
   "metadata": {},
   "outputs": [],
   "source": [
    "# Export chart outside of Jupyter in the form of an image file\n",
    "\n",
    "day_bar.figure.savefig(os.path.join(path, '04 Analysis','Visualizations', 'day_bar.png'))"
   ]
  },
  {
   "cell_type": "code",
   "execution_count": null,
   "metadata": {},
   "outputs": [],
   "source": [
    "# Create a pivot table that shows unique number of orders taken by day of the week and age group\n",
    "\n",
    "day_age = pd.crosstab(index=active_customers['day'], \n",
    "                      columns=active_customers['age_group'], \n",
    "                      values=active_customers['order_id'], \n",
    "                      aggfunc='nunique')"
   ]
  },
  {
   "cell_type": "code",
   "execution_count": null,
   "metadata": {},
   "outputs": [],
   "source": [
    "# Check the output\n",
    "\n",
    "day_age"
   ]
  },
  {
   "cell_type": "code",
   "execution_count": null,
   "metadata": {},
   "outputs": [],
   "source": [
    "# Create a chart \n",
    "\n",
    "day_age_bar = day_age.plot.bar(xlabel = (''), rot = 30, figsize=(10,6))\n",
    "\n",
    "plt.title('Count of orders by age group and day of the week', fontsize = 16)"
   ]
  },
  {
   "cell_type": "code",
   "execution_count": null,
   "metadata": {},
   "outputs": [],
   "source": [
    "# Export chart outside of Jupyter in the form of an image file\n",
    "\n",
    "day_age_bar.figure.savefig(os.path.join(path, '04 Analysis','Visualizations', 'day_age_bar.png'))"
   ]
  },
  {
   "cell_type": "code",
   "execution_count": null,
   "metadata": {},
   "outputs": [],
   "source": [
    "# Create a pivot table that shows unique number of orders taken by day of the week and region\n",
    "\n",
    "day_reg = pd.crosstab(index=active_customers['day'], \n",
    "                      columns=active_customers['region'], \n",
    "                      values=active_customers['order_id'], \n",
    "                      aggfunc='nunique')"
   ]
  },
  {
   "cell_type": "code",
   "execution_count": null,
   "metadata": {},
   "outputs": [],
   "source": [
    "# Check the output\n",
    "\n",
    "day_reg"
   ]
  },
  {
   "cell_type": "code",
   "execution_count": null,
   "metadata": {},
   "outputs": [],
   "source": [
    "# Create a chart\n",
    "\n",
    "day_reg_bar = day_reg.plot.bar(xlabel = (''), rot = 30, figsize=(10,6))\n",
    "\n",
    "plt.title('Count of orders by region and day of the week', fontsize = 16)"
   ]
  },
  {
   "cell_type": "code",
   "execution_count": null,
   "metadata": {},
   "outputs": [],
   "source": [
    "# Export chart outside of Jupyter in the form of an image file\n",
    "\n",
    "day_reg_bar.figure.savefig(os.path.join(path, '04 Analysis','Visualizations', 'day_reg_bar.png'))"
   ]
  },
  {
   "cell_type": "code",
   "execution_count": null,
   "metadata": {},
   "outputs": [],
   "source": [
    "# Create a variable that groups unique number of orders taken each hour\n",
    "\n",
    "hour = active_customers.groupby('order_hour').order_id.nunique()"
   ]
  },
  {
   "cell_type": "code",
   "execution_count": null,
   "metadata": {},
   "outputs": [],
   "source": [
    "# Check the output\n",
    "\n",
    "hour"
   ]
  },
  {
   "cell_type": "code",
   "execution_count": null,
   "metadata": {},
   "outputs": [],
   "source": [
    "# Create a chart\n",
    "\n",
    "hour_bar = hour.plot.bar(xlabel = (''), title = 'Total number of orders taken, by hour', rot = 360, color = 'orange', figsize=(20,6))\n",
    "\n",
    "plt.title('Total count of orders by hour', fontsize = 16)"
   ]
  },
  {
   "cell_type": "code",
   "execution_count": null,
   "metadata": {},
   "outputs": [],
   "source": [
    "# Export chart outside of Jupyter in the form of an image file\n",
    "\n",
    "hour_bar.figure.savefig(os.path.join(path, '04 Analysis','Visualizations', 'hour_bar.png'))"
   ]
  },
  {
   "cell_type": "code",
   "execution_count": null,
   "metadata": {},
   "outputs": [],
   "source": [
    "# Create a pivot table that shows unique number of orders taken by hour and age group\n",
    "\n",
    "hour_age = pd.crosstab(index=active_customers['order_hour'], \n",
    "                      columns=active_customers['age_group'], \n",
    "                      values=active_customers['order_id'], \n",
    "                      aggfunc='nunique')"
   ]
  },
  {
   "cell_type": "code",
   "execution_count": null,
   "metadata": {},
   "outputs": [],
   "source": [
    "# Check the output\n",
    "\n",
    "hour_age.head()"
   ]
  },
  {
   "cell_type": "code",
   "execution_count": null,
   "metadata": {},
   "outputs": [],
   "source": [
    "# Create a chart \n",
    "\n",
    "hour_age_bar = hour_age.plot.bar(xlabel = ('Hour'), rot = 30, figsize=(20,6))\n",
    "\n",
    "plt.title('Total count of orders by hour and age group', fontsize = 16)"
   ]
  },
  {
   "cell_type": "code",
   "execution_count": null,
   "metadata": {},
   "outputs": [],
   "source": [
    "# Export chart outside of Jupyter in the form of an image file\n",
    "\n",
    "hour_age_bar.figure.savefig(os.path.join(path, '04 Analysis','Visualizations', 'hour_age_bar.png'))"
   ]
  },
  {
   "cell_type": "code",
   "execution_count": null,
   "metadata": {},
   "outputs": [],
   "source": [
    "# Create a pivot table that shows unique number of orders taken by hour and region\n",
    "\n",
    "hour_reg = pd.crosstab(index=active_customers['order_hour'], \n",
    "                      columns=active_customers['region'], \n",
    "                      values=active_customers['order_id'], \n",
    "                      aggfunc='nunique')"
   ]
  },
  {
   "cell_type": "code",
   "execution_count": null,
   "metadata": {},
   "outputs": [],
   "source": [
    "# Check the output \n",
    "\n",
    "hour_reg.head()"
   ]
  },
  {
   "cell_type": "code",
   "execution_count": null,
   "metadata": {},
   "outputs": [],
   "source": [
    "# Create a chart \n",
    "\n",
    "hour_reg_bar = hour_reg.plot.bar(xlabel = ('Hour'), rot = 30, figsize=(20,6))\n",
    "\n",
    "plt.title('Total count of orders by hour and region', fontsize = 16)"
   ]
  },
  {
   "cell_type": "code",
   "execution_count": null,
   "metadata": {},
   "outputs": [],
   "source": [
    "# Export chart outside of Jupyter in the form of an image file\n",
    "\n",
    "hour_reg_bar.figure.savefig(os.path.join(path, '04 Analysis','Visualizations', 'hour_reg_bar.png'))"
   ]
  },
  {
   "cell_type": "code",
   "execution_count": null,
   "metadata": {},
   "outputs": [],
   "source": [
    "# Export dataframe to pkl\n",
    "\n",
    "active_customers.to_pickle(os.path.join(path, '02 Data','Prepared Data', 'active_customers.pkl'))"
   ]
  },
  {
   "cell_type": "markdown",
   "metadata": {},
   "source": [
    "## 06. Aggregate the max, mean, and min variables on a customer-profile level for usage frequency and expenditure."
   ]
  },
  {
   "cell_type": "code",
   "execution_count": null,
   "metadata": {},
   "outputs": [],
   "source": [
    "# Apply the agg() function to each 'age_group' to obtain the min, max, mean values for columns\n",
    "\n",
    "active_customers.groupby('age_group').agg({\n",
    "    'user_id' : ['nunique'],\n",
    "    'order_id' : ['nunique',  'mean'],\n",
    "    'income': ['min', 'max',  'mean'],\n",
    "    'prices': ['min', 'max',  'mean'],\n",
    "    'days_since_prior_order' : ['min', 'max',  'mean']})"
   ]
  },
  {
   "cell_type": "code",
   "execution_count": null,
   "metadata": {},
   "outputs": [],
   "source": [
    "# Apply the agg() function to each 'region' to obtain the min, max, mean values for columns\n",
    "\n",
    "active_customers.groupby('region').agg({\n",
    "    'user_id' : ['nunique'],\n",
    "    'order_id' : ['nunique', 'mean'],\n",
    "    'income': ['min', 'max',  'mean'],\n",
    "    'prices': ['min', 'max',  'mean'],\n",
    "    'days_since_prior_order' : ['min', 'max',  'mean'],\n",
    "    'age' : ['min', 'max',  'mean']})"
   ]
  },
  {
   "cell_type": "code",
   "execution_count": null,
   "metadata": {},
   "outputs": [],
   "source": [
    "# Apply the agg() function to each 'income_category' to obtain the min, max, mean values for columns\n",
    "\n",
    "active_customers.groupby('income_category').agg({\n",
    "    'user_id' : ['nunique'], \n",
    "    'order_id' : ['nunique', 'mean'],\n",
    "    'prices': ['min', 'max',  'mean'],\n",
    "    'days_since_prior_order' : ['min', 'max',  'mean'],\n",
    "    'age' : ['min', 'max',  'mean']})"
   ]
  },
  {
   "cell_type": "code",
   "execution_count": null,
   "metadata": {},
   "outputs": [],
   "source": [
    "# Apply the agg() function to each 'household_type' to obtain the min, max, mean values for columns\n",
    "\n",
    "active_customers.groupby('household_type').agg({\n",
    "    'user_id' : ['nunique'],\n",
    "    'order_id' : ['nunique', 'mean'],\n",
    "    'income' : ['min', 'max',  'mean'],\n",
    "    'prices': ['min', 'max',  'mean'],\n",
    "    'days_since_prior_order' : ['min', 'max',  'mean'],\n",
    "    'age' : ['min', 'max',  'mean']})"
   ]
  },
  {
   "cell_type": "code",
   "execution_count": null,
   "metadata": {},
   "outputs": [],
   "source": [
    "# Apply the agg() function to each 'household_class&type' to obtain the min, max, mean values for columns\n",
    "\n",
    "active_customers.groupby('household_class&type').agg({\n",
    "    'user_id' : ['nunique'],\n",
    "    'order_id' : ['nunique',  'mean'],\n",
    "    'income' : ['min', 'max',  'mean'],\n",
    "    'prices': ['min', 'max',  'mean'],\n",
    "    'days_since_prior_order' : ['min', 'max',  'mean'],\n",
    "    'age' : ['min', 'max',  'mean']})"
   ]
  },
  {
   "cell_type": "code",
   "execution_count": null,
   "metadata": {},
   "outputs": [],
   "source": [
    "# Apply the agg() function to each 'loyalty_flag' to obtain the min, max, mean values for columns\n",
    "\n",
    "\n",
    "active_customers.groupby('loyalty_flag').agg({\n",
    "    'user_id' : ['nunique'], \n",
    "    'order_id' : ['nunique', 'mean'],\n",
    "    'income' : ['min', 'max',  'mean'],\n",
    "    'prices': ['min', 'max',  'mean'],\n",
    "    'days_since_prior_order' : ['min', 'max',  'mean'],\n",
    "    'age' : ['min', 'max',  'mean']})"
   ]
  },
  {
   "cell_type": "code",
   "execution_count": null,
   "metadata": {},
   "outputs": [],
   "source": [
    "# Apply the agg() function to each 'spending_flag' to obtain the min, max, mean values for columns\n",
    "\n",
    "active_customers.groupby('spending_flag').agg({\n",
    "    'user_id' : ['nunique'], \n",
    "    'order_id' : ['nunique', 'mean'],\n",
    "    'income' : ['min', 'max',  'mean'],\n",
    "    'prices': ['min', 'max',  'mean'],\n",
    "    'days_since_prior_order' : ['min', 'max',  'mean'],\n",
    "    'age' : ['min', 'max',  'mean']})"
   ]
  },
  {
   "cell_type": "code",
   "execution_count": null,
   "metadata": {},
   "outputs": [],
   "source": [
    "# Apply the agg() function to each 'freq_flag' to obtain the min, max, mean values for columns\n",
    "\n",
    "active_customers.groupby('freq_flag').agg({\n",
    "    'user_id' : ['nunique'],\n",
    "    'order_id' : ['nunique', 'mean'],\n",
    "    'income' : ['min', 'max',  'mean'],\n",
    "    'prices': ['min', 'max',  'mean'],\n",
    "    'days_since_prior_order' : ['min', 'max',  'mean'],\n",
    "    'age' : ['min', 'max',  'mean']})"
   ]
  },
  {
   "cell_type": "markdown",
   "metadata": {},
   "source": [
    "\n"
   ]
  },
  {
   "cell_type": "markdown",
   "metadata": {},
   "source": [
    "## Export "
   ]
  },
  {
   "cell_type": "code",
   "execution_count": null,
   "metadata": {},
   "outputs": [],
   "source": [
    "# Export active_customers df as pkl file\n",
    "\n",
    "active_customers.to_pickle(os.path.join(path, '02 Data', 'Prepared Data', 'active_customers.pkl'))"
   ]
  },
  {
   "cell_type": "code",
   "execution_count": null,
   "metadata": {},
   "outputs": [],
   "source": []
  }
 ],
 "metadata": {
  "kernelspec": {
   "display_name": "Python 3",
   "language": "python",
   "name": "python3"
  },
  "language_info": {
   "codemirror_mode": {
    "name": "ipython",
    "version": 3
   },
   "file_extension": ".py",
   "mimetype": "text/x-python",
   "name": "python",
   "nbconvert_exporter": "python",
   "pygments_lexer": "ipython3",
   "version": "3.8.5"
  }
 },
 "nbformat": 4,
 "nbformat_minor": 4
}
